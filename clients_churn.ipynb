{
 "cells": [
  {
   "cell_type": "markdown",
   "id": "69f33f58",
   "metadata": {},
   "source": [
    "# Предсказание ухода клиента для банка \"Бета-Банк\"\n",
    "## Постановка задачи\n",
    "\n",
    "\"Бета-Банк\" решает проблему оттока клиентов. Согласно расчетов маркетологов банка, сохранять текущих клиентов дешевле, чем привлекать новых. \n",
    "\n",
    "Нужно научиться прогнозировать, уйдёт клиент из банка в ближайшее время или нет. Исходные данные для анализа - исторические данные о поведении клиентов и расторжении договоров с банком.\n",
    "\n",
    "Нужно построить прогнозирующую модель с предельно большим значением F1-меры (не менее 0.59), затем проверить F1-меру на тестовой выборке. Дополнительно нужно измерять метрику AUC-ROC и сравнить её значения с F1-мерой.\n"
   ]
  },
  {
   "cell_type": "markdown",
   "id": "b46268b1",
   "metadata": {},
   "source": [
    "## Импорт библиотек и данных\n",
    "Импортируем датасет в переменную `df` и ознакомимся с данными. \n",
    "\n",
    "Исходные данные представляют собой датасет на 10_000 строк и 14 столбцов. Названия столбцов в CamelCase. Три столбца (`RowNumber`, `CustomerId`, `Surname`) неинформативны, их нужно будет удалить. Типы данных адекватны, но можно преобразовать колонки `HasCrCard` и `IsActiveMember` из численного типа в логический. В колонке `Tenure` есть пустые значения, от которых нужно будет избавиться.\n",
    "\n",
    "В целом данные адекватны и пригодны для анализа после предобработки."
   ]
  },
  {
   "cell_type": "code",
   "execution_count": 3,
   "id": "20dffad4",
   "metadata": {},
   "outputs": [],
   "source": [
    "from pathlib import Path\n",
    "\n",
    "import pandas as pd\n",
    "pd.set_option('display.float_format', '{:,.4f}'.format)\n",
    "\n",
    "import matplotlib.pyplot as plt\n",
    "\n",
    "import numpy as np\n",
    "from sklearn.model_selection import train_test_split \n",
    "from sklearn.tree import DecisionTreeClassifier\n",
    "from sklearn.metrics import accuracy_score\n",
    "from sklearn.ensemble import RandomForestClassifier\n",
    "from sklearn.linear_model import LogisticRegression\n",
    "from sklearn.preprocessing import StandardScaler \n",
    "from sklearn.metrics import f1_score\n",
    "from sklearn.metrics import roc_curve\n",
    "from sklearn.metrics import roc_auc_score\n",
    "from sklearn.utils import shuffle"
   ]
  },
  {
   "cell_type": "code",
   "execution_count": 4,
   "id": "c593b391",
   "metadata": {},
   "outputs": [],
   "source": [
    "my_path = Path('/home/klarazetkin/Documents/yandex/module_2/project_3')\n",
    "if my_path.is_dir():\n",
    "    df = pd.read_csv('/home/klarazetkin/Documents/yandex/module_2/project_3/Churn.csv')\n",
    "else:\n",
    "    df = pd.read_csv('/datasets/Churn.csv')"
   ]
  },
  {
   "cell_type": "code",
   "execution_count": 5,
   "id": "432714aa",
   "metadata": {},
   "outputs": [
    {
     "data": {
      "text/html": [
       "<div>\n",
       "<style scoped>\n",
       "    .dataframe tbody tr th:only-of-type {\n",
       "        vertical-align: middle;\n",
       "    }\n",
       "\n",
       "    .dataframe tbody tr th {\n",
       "        vertical-align: top;\n",
       "    }\n",
       "\n",
       "    .dataframe thead th {\n",
       "        text-align: right;\n",
       "    }\n",
       "</style>\n",
       "<table border=\"1\" class=\"dataframe\">\n",
       "  <thead>\n",
       "    <tr style=\"text-align: right;\">\n",
       "      <th></th>\n",
       "      <th>RowNumber</th>\n",
       "      <th>CustomerId</th>\n",
       "      <th>Surname</th>\n",
       "      <th>CreditScore</th>\n",
       "      <th>Geography</th>\n",
       "      <th>Gender</th>\n",
       "      <th>Age</th>\n",
       "      <th>Tenure</th>\n",
       "      <th>Balance</th>\n",
       "      <th>NumOfProducts</th>\n",
       "      <th>HasCrCard</th>\n",
       "      <th>IsActiveMember</th>\n",
       "      <th>EstimatedSalary</th>\n",
       "      <th>Exited</th>\n",
       "    </tr>\n",
       "  </thead>\n",
       "  <tbody>\n",
       "    <tr>\n",
       "      <th>0</th>\n",
       "      <td>1</td>\n",
       "      <td>15634602</td>\n",
       "      <td>Hargrave</td>\n",
       "      <td>619</td>\n",
       "      <td>France</td>\n",
       "      <td>Female</td>\n",
       "      <td>42</td>\n",
       "      <td>2.0000</td>\n",
       "      <td>0.0000</td>\n",
       "      <td>1</td>\n",
       "      <td>1</td>\n",
       "      <td>1</td>\n",
       "      <td>101,348.8800</td>\n",
       "      <td>1</td>\n",
       "    </tr>\n",
       "    <tr>\n",
       "      <th>1</th>\n",
       "      <td>2</td>\n",
       "      <td>15647311</td>\n",
       "      <td>Hill</td>\n",
       "      <td>608</td>\n",
       "      <td>Spain</td>\n",
       "      <td>Female</td>\n",
       "      <td>41</td>\n",
       "      <td>1.0000</td>\n",
       "      <td>83,807.8600</td>\n",
       "      <td>1</td>\n",
       "      <td>0</td>\n",
       "      <td>1</td>\n",
       "      <td>112,542.5800</td>\n",
       "      <td>0</td>\n",
       "    </tr>\n",
       "    <tr>\n",
       "      <th>2</th>\n",
       "      <td>3</td>\n",
       "      <td>15619304</td>\n",
       "      <td>Onio</td>\n",
       "      <td>502</td>\n",
       "      <td>France</td>\n",
       "      <td>Female</td>\n",
       "      <td>42</td>\n",
       "      <td>8.0000</td>\n",
       "      <td>159,660.8000</td>\n",
       "      <td>3</td>\n",
       "      <td>1</td>\n",
       "      <td>0</td>\n",
       "      <td>113,931.5700</td>\n",
       "      <td>1</td>\n",
       "    </tr>\n",
       "    <tr>\n",
       "      <th>3</th>\n",
       "      <td>4</td>\n",
       "      <td>15701354</td>\n",
       "      <td>Boni</td>\n",
       "      <td>699</td>\n",
       "      <td>France</td>\n",
       "      <td>Female</td>\n",
       "      <td>39</td>\n",
       "      <td>1.0000</td>\n",
       "      <td>0.0000</td>\n",
       "      <td>2</td>\n",
       "      <td>0</td>\n",
       "      <td>0</td>\n",
       "      <td>93,826.6300</td>\n",
       "      <td>0</td>\n",
       "    </tr>\n",
       "    <tr>\n",
       "      <th>4</th>\n",
       "      <td>5</td>\n",
       "      <td>15737888</td>\n",
       "      <td>Mitchell</td>\n",
       "      <td>850</td>\n",
       "      <td>Spain</td>\n",
       "      <td>Female</td>\n",
       "      <td>43</td>\n",
       "      <td>2.0000</td>\n",
       "      <td>125,510.8200</td>\n",
       "      <td>1</td>\n",
       "      <td>1</td>\n",
       "      <td>1</td>\n",
       "      <td>79,084.1000</td>\n",
       "      <td>0</td>\n",
       "    </tr>\n",
       "  </tbody>\n",
       "</table>\n",
       "</div>"
      ],
      "text/plain": [
       "   RowNumber  CustomerId   Surname  CreditScore Geography  Gender  Age  \\\n",
       "0          1    15634602  Hargrave          619    France  Female   42   \n",
       "1          2    15647311      Hill          608     Spain  Female   41   \n",
       "2          3    15619304      Onio          502    France  Female   42   \n",
       "3          4    15701354      Boni          699    France  Female   39   \n",
       "4          5    15737888  Mitchell          850     Spain  Female   43   \n",
       "\n",
       "   Tenure      Balance  NumOfProducts  HasCrCard  IsActiveMember  \\\n",
       "0  2.0000       0.0000              1          1               1   \n",
       "1  1.0000  83,807.8600              1          0               1   \n",
       "2  8.0000 159,660.8000              3          1               0   \n",
       "3  1.0000       0.0000              2          0               0   \n",
       "4  2.0000 125,510.8200              1          1               1   \n",
       "\n",
       "   EstimatedSalary  Exited  \n",
       "0     101,348.8800       1  \n",
       "1     112,542.5800       0  \n",
       "2     113,931.5700       1  \n",
       "3      93,826.6300       0  \n",
       "4      79,084.1000       0  "
      ]
     },
     "execution_count": 5,
     "metadata": {},
     "output_type": "execute_result"
    }
   ],
   "source": [
    "df.head()"
   ]
  },
  {
   "cell_type": "code",
   "execution_count": 6,
   "id": "029f7372",
   "metadata": {},
   "outputs": [
    {
     "data": {
      "text/plain": [
       "(10000, 14)"
      ]
     },
     "execution_count": 6,
     "metadata": {},
     "output_type": "execute_result"
    }
   ],
   "source": [
    "df.shape"
   ]
  },
  {
   "cell_type": "code",
   "execution_count": 7,
   "id": "a7c979c4",
   "metadata": {},
   "outputs": [
    {
     "data": {
      "text/plain": [
       "RowNumber         0.0000\n",
       "CustomerId        0.0000\n",
       "Surname           0.0000\n",
       "CreditScore       0.0000\n",
       "Geography         0.0000\n",
       "Gender            0.0000\n",
       "Age               0.0000\n",
       "Tenure            0.0909\n",
       "Balance           0.0000\n",
       "NumOfProducts     0.0000\n",
       "HasCrCard         0.0000\n",
       "IsActiveMember    0.0000\n",
       "EstimatedSalary   0.0000\n",
       "Exited            0.0000\n",
       "dtype: float64"
      ]
     },
     "execution_count": 7,
     "metadata": {},
     "output_type": "execute_result"
    }
   ],
   "source": [
    "df.isna().mean()"
   ]
  },
  {
   "cell_type": "code",
   "execution_count": 8,
   "id": "d792fb06",
   "metadata": {
    "scrolled": false
   },
   "outputs": [
    {
     "name": "stdout",
     "output_type": "stream",
     "text": [
      "<class 'pandas.core.frame.DataFrame'>\n",
      "RangeIndex: 10000 entries, 0 to 9999\n",
      "Data columns (total 14 columns):\n",
      " #   Column           Non-Null Count  Dtype  \n",
      "---  ------           --------------  -----  \n",
      " 0   RowNumber        10000 non-null  int64  \n",
      " 1   CustomerId       10000 non-null  int64  \n",
      " 2   Surname          10000 non-null  object \n",
      " 3   CreditScore      10000 non-null  int64  \n",
      " 4   Geography        10000 non-null  object \n",
      " 5   Gender           10000 non-null  object \n",
      " 6   Age              10000 non-null  int64  \n",
      " 7   Tenure           9091 non-null   float64\n",
      " 8   Balance          10000 non-null  float64\n",
      " 9   NumOfProducts    10000 non-null  int64  \n",
      " 10  HasCrCard        10000 non-null  int64  \n",
      " 11  IsActiveMember   10000 non-null  int64  \n",
      " 12  EstimatedSalary  10000 non-null  float64\n",
      " 13  Exited           10000 non-null  int64  \n",
      "dtypes: float64(3), int64(8), object(3)\n",
      "memory usage: 1.1+ MB\n"
     ]
    }
   ],
   "source": [
    "df.info()"
   ]
  },
  {
   "cell_type": "markdown",
   "id": "d23eb69d",
   "metadata": {},
   "source": [
    "## Подготовка данных\n",
    "### Переименование столбцов\n",
    "Названия столбцов переведем из CamelCase в более привычный snake_case."
   ]
  },
  {
   "cell_type": "code",
   "execution_count": 9,
   "id": "451414cc",
   "metadata": {},
   "outputs": [],
   "source": [
    "df = df.rename(columns={\"RowNumber\": \"row_number\", \"CustomerId\": \"customer_id\", \"Surname\": \"surname\", \"CreditScore\": \"credit_score\", \"Geography\": \"geography\", \"Gender\": \"gender\", \"Age\": \"age\", \"Tenure\": \"tenure\", \"Balance\": \"balance\", \"NumOfProducts\": \"number_of_products\", \"HasCrCard\": \"has_credit_card\", \"IsActiveMember\": \"is_active_member\", \"EstimatedSalary\": \"estimated_salary\", \"Exited\": \"exited\"})"
   ]
  },
  {
   "cell_type": "code",
   "execution_count": 10,
   "id": "02b2a53a",
   "metadata": {},
   "outputs": [
    {
     "data": {
      "text/plain": [
       "Index(['row_number', 'customer_id', 'surname', 'credit_score', 'geography',\n",
       "       'gender', 'age', 'tenure', 'balance', 'number_of_products',\n",
       "       'has_credit_card', 'is_active_member', 'estimated_salary', 'exited'],\n",
       "      dtype='object')"
      ]
     },
     "execution_count": 10,
     "metadata": {},
     "output_type": "execute_result"
    }
   ],
   "source": [
    "df.columns"
   ]
  },
  {
   "cell_type": "markdown",
   "id": "57406d4b",
   "metadata": {},
   "source": [
    "### Замена типов столбцов\n",
    "Заменим тип столбцов `has_credit_card` и `is_active_member` на логический."
   ]
  },
  {
   "cell_type": "code",
   "execution_count": 11,
   "id": "1b9f7f3f",
   "metadata": {},
   "outputs": [],
   "source": [
    "df['has_credit_card'] = df['has_credit_card'].astype('bool')\n",
    "df['is_active_member'] = df['is_active_member'].astype('bool')"
   ]
  },
  {
   "cell_type": "markdown",
   "id": "ff48c34b",
   "metadata": {},
   "source": [
    "### Удаление лишних столбцов\n",
    "Скорей всего, информация об имении и id клиента, а также `row_number` ничего не даст модели и будет мешать обучению. Уберем эти столбцы."
   ]
  },
  {
   "cell_type": "code",
   "execution_count": 12,
   "id": "0485dd5e",
   "metadata": {},
   "outputs": [
    {
     "name": "stdout",
     "output_type": "stream",
     "text": [
      "(10000, 14)\n",
      "(10000, 11)\n"
     ]
    }
   ],
   "source": [
    "print(df.shape)\n",
    "df = df.drop(['surname', 'customer_id', 'row_number'], axis=1)\n",
    "print(df.shape)"
   ]
  },
  {
   "cell_type": "markdown",
   "id": "a6d33566",
   "metadata": {},
   "source": [
    "### Заполнение NaN\n",
    "Столбец `tenure` содержит пустые значения. Заполним их медианными."
   ]
  },
  {
   "cell_type": "code",
   "execution_count": 13,
   "id": "0948a40f",
   "metadata": {},
   "outputs": [
    {
     "name": "stdout",
     "output_type": "stream",
     "text": [
      "909\n",
      "0\n"
     ]
    }
   ],
   "source": [
    "print(df['tenure'].isna().sum())\n",
    "df['tenure'] = df['tenure'].fillna(df['tenure'].median())\n",
    "print(df['tenure'].isna().sum())"
   ]
  },
  {
   "cell_type": "markdown",
   "id": "398ff798",
   "metadata": {},
   "source": [
    "### Кодирование категориальных признаков техникой OHE\n",
    "В колонках `gender` и `geography` содержатся категориальные признаки. Кодируем их техникой One-Hot Encoding, т.к. она подходит для всех моделей."
   ]
  },
  {
   "cell_type": "code",
   "execution_count": 14,
   "id": "3fe21f86",
   "metadata": {},
   "outputs": [
    {
     "data": {
      "text/html": [
       "<div>\n",
       "<style scoped>\n",
       "    .dataframe tbody tr th:only-of-type {\n",
       "        vertical-align: middle;\n",
       "    }\n",
       "\n",
       "    .dataframe tbody tr th {\n",
       "        vertical-align: top;\n",
       "    }\n",
       "\n",
       "    .dataframe thead th {\n",
       "        text-align: right;\n",
       "    }\n",
       "</style>\n",
       "<table border=\"1\" class=\"dataframe\">\n",
       "  <thead>\n",
       "    <tr style=\"text-align: right;\">\n",
       "      <th></th>\n",
       "      <th>credit_score</th>\n",
       "      <th>geography</th>\n",
       "      <th>gender</th>\n",
       "      <th>age</th>\n",
       "      <th>tenure</th>\n",
       "      <th>balance</th>\n",
       "      <th>number_of_products</th>\n",
       "      <th>has_credit_card</th>\n",
       "      <th>is_active_member</th>\n",
       "      <th>estimated_salary</th>\n",
       "      <th>exited</th>\n",
       "    </tr>\n",
       "  </thead>\n",
       "  <tbody>\n",
       "    <tr>\n",
       "      <th>0</th>\n",
       "      <td>619</td>\n",
       "      <td>France</td>\n",
       "      <td>Female</td>\n",
       "      <td>42</td>\n",
       "      <td>2.0000</td>\n",
       "      <td>0.0000</td>\n",
       "      <td>1</td>\n",
       "      <td>True</td>\n",
       "      <td>True</td>\n",
       "      <td>101,348.8800</td>\n",
       "      <td>1</td>\n",
       "    </tr>\n",
       "    <tr>\n",
       "      <th>1</th>\n",
       "      <td>608</td>\n",
       "      <td>Spain</td>\n",
       "      <td>Female</td>\n",
       "      <td>41</td>\n",
       "      <td>1.0000</td>\n",
       "      <td>83,807.8600</td>\n",
       "      <td>1</td>\n",
       "      <td>False</td>\n",
       "      <td>True</td>\n",
       "      <td>112,542.5800</td>\n",
       "      <td>0</td>\n",
       "    </tr>\n",
       "    <tr>\n",
       "      <th>2</th>\n",
       "      <td>502</td>\n",
       "      <td>France</td>\n",
       "      <td>Female</td>\n",
       "      <td>42</td>\n",
       "      <td>8.0000</td>\n",
       "      <td>159,660.8000</td>\n",
       "      <td>3</td>\n",
       "      <td>True</td>\n",
       "      <td>False</td>\n",
       "      <td>113,931.5700</td>\n",
       "      <td>1</td>\n",
       "    </tr>\n",
       "    <tr>\n",
       "      <th>3</th>\n",
       "      <td>699</td>\n",
       "      <td>France</td>\n",
       "      <td>Female</td>\n",
       "      <td>39</td>\n",
       "      <td>1.0000</td>\n",
       "      <td>0.0000</td>\n",
       "      <td>2</td>\n",
       "      <td>False</td>\n",
       "      <td>False</td>\n",
       "      <td>93,826.6300</td>\n",
       "      <td>0</td>\n",
       "    </tr>\n",
       "    <tr>\n",
       "      <th>4</th>\n",
       "      <td>850</td>\n",
       "      <td>Spain</td>\n",
       "      <td>Female</td>\n",
       "      <td>43</td>\n",
       "      <td>2.0000</td>\n",
       "      <td>125,510.8200</td>\n",
       "      <td>1</td>\n",
       "      <td>True</td>\n",
       "      <td>True</td>\n",
       "      <td>79,084.1000</td>\n",
       "      <td>0</td>\n",
       "    </tr>\n",
       "  </tbody>\n",
       "</table>\n",
       "</div>"
      ],
      "text/plain": [
       "   credit_score geography  gender  age  tenure      balance  \\\n",
       "0           619    France  Female   42  2.0000       0.0000   \n",
       "1           608     Spain  Female   41  1.0000  83,807.8600   \n",
       "2           502    France  Female   42  8.0000 159,660.8000   \n",
       "3           699    France  Female   39  1.0000       0.0000   \n",
       "4           850     Spain  Female   43  2.0000 125,510.8200   \n",
       "\n",
       "   number_of_products  has_credit_card  is_active_member  estimated_salary  \\\n",
       "0                   1             True              True      101,348.8800   \n",
       "1                   1            False              True      112,542.5800   \n",
       "2                   3             True             False      113,931.5700   \n",
       "3                   2            False             False       93,826.6300   \n",
       "4                   1             True              True       79,084.1000   \n",
       "\n",
       "   exited  \n",
       "0       1  \n",
       "1       0  \n",
       "2       1  \n",
       "3       0  \n",
       "4       0  "
      ]
     },
     "execution_count": 14,
     "metadata": {},
     "output_type": "execute_result"
    }
   ],
   "source": [
    "df.head()"
   ]
  },
  {
   "cell_type": "code",
   "execution_count": 15,
   "id": "6c4ff24a",
   "metadata": {},
   "outputs": [
    {
     "name": "stdout",
     "output_type": "stream",
     "text": [
      "['France' 'Spain' 'Germany']\n",
      "['Female' 'Male']\n"
     ]
    }
   ],
   "source": [
    "print(df['geography'].unique())\n",
    "print(df['gender'].unique())"
   ]
  },
  {
   "cell_type": "code",
   "execution_count": 16,
   "id": "84438777",
   "metadata": {},
   "outputs": [],
   "source": [
    "df = pd.get_dummies(df, drop_first=True)"
   ]
  },
  {
   "cell_type": "code",
   "execution_count": 17,
   "id": "5ec3ff2a",
   "metadata": {},
   "outputs": [
    {
     "data": {
      "text/plain": [
       "(10000, 12)"
      ]
     },
     "execution_count": 17,
     "metadata": {},
     "output_type": "execute_result"
    }
   ],
   "source": [
    "df.shape"
   ]
  },
  {
   "cell_type": "code",
   "execution_count": 18,
   "id": "696f9eb2",
   "metadata": {},
   "outputs": [
    {
     "data": {
      "text/plain": [
       "Index(['credit_score', 'age', 'tenure', 'balance', 'number_of_products',\n",
       "       'has_credit_card', 'is_active_member', 'estimated_salary', 'exited',\n",
       "       'geography_Germany', 'geography_Spain', 'gender_Male'],\n",
       "      dtype='object')"
      ]
     },
     "execution_count": 18,
     "metadata": {},
     "output_type": "execute_result"
    }
   ],
   "source": [
    "df.columns"
   ]
  },
  {
   "cell_type": "markdown",
   "id": "a7681102",
   "metadata": {},
   "source": [
    "### Масштабирование данных\n",
    "Численные значения в колонках `balance` и `estimated_salary` на два порядка превышают значения в других численных колонках. Чтоб модель не считала эти данные более важными, масштабируем численные данные."
   ]
  },
  {
   "cell_type": "code",
   "execution_count": 19,
   "id": "77f085ea",
   "metadata": {},
   "outputs": [],
   "source": [
    "numeric = ['credit_score', 'age', 'tenure', 'balance', 'number_of_products', 'estimated_salary']\n",
    "\n",
    "scaler = StandardScaler()\n",
    "scaler.fit(df[numeric]) \n",
    "\n",
    "df[numeric] = scaler.transform(df[numeric])"
   ]
  },
  {
   "cell_type": "code",
   "execution_count": 20,
   "id": "3f5211f4",
   "metadata": {
    "scrolled": false
   },
   "outputs": [
    {
     "data": {
      "text/html": [
       "<div>\n",
       "<style scoped>\n",
       "    .dataframe tbody tr th:only-of-type {\n",
       "        vertical-align: middle;\n",
       "    }\n",
       "\n",
       "    .dataframe tbody tr th {\n",
       "        vertical-align: top;\n",
       "    }\n",
       "\n",
       "    .dataframe thead th {\n",
       "        text-align: right;\n",
       "    }\n",
       "</style>\n",
       "<table border=\"1\" class=\"dataframe\">\n",
       "  <thead>\n",
       "    <tr style=\"text-align: right;\">\n",
       "      <th></th>\n",
       "      <th>credit_score</th>\n",
       "      <th>age</th>\n",
       "      <th>tenure</th>\n",
       "      <th>balance</th>\n",
       "      <th>number_of_products</th>\n",
       "      <th>has_credit_card</th>\n",
       "      <th>is_active_member</th>\n",
       "      <th>estimated_salary</th>\n",
       "      <th>exited</th>\n",
       "      <th>geography_Germany</th>\n",
       "      <th>geography_Spain</th>\n",
       "      <th>gender_Male</th>\n",
       "    </tr>\n",
       "  </thead>\n",
       "  <tbody>\n",
       "    <tr>\n",
       "      <th>0</th>\n",
       "      <td>-0.3262</td>\n",
       "      <td>0.2935</td>\n",
       "      <td>-1.0862</td>\n",
       "      <td>-1.2258</td>\n",
       "      <td>-0.9116</td>\n",
       "      <td>True</td>\n",
       "      <td>True</td>\n",
       "      <td>0.0219</td>\n",
       "      <td>1</td>\n",
       "      <td>0</td>\n",
       "      <td>0</td>\n",
       "      <td>0</td>\n",
       "    </tr>\n",
       "    <tr>\n",
       "      <th>1</th>\n",
       "      <td>-0.4400</td>\n",
       "      <td>0.1982</td>\n",
       "      <td>-1.4486</td>\n",
       "      <td>0.1174</td>\n",
       "      <td>-0.9116</td>\n",
       "      <td>False</td>\n",
       "      <td>True</td>\n",
       "      <td>0.2165</td>\n",
       "      <td>0</td>\n",
       "      <td>0</td>\n",
       "      <td>1</td>\n",
       "      <td>0</td>\n",
       "    </tr>\n",
       "    <tr>\n",
       "      <th>2</th>\n",
       "      <td>-1.5368</td>\n",
       "      <td>0.2935</td>\n",
       "      <td>1.0878</td>\n",
       "      <td>1.3331</td>\n",
       "      <td>2.5271</td>\n",
       "      <td>True</td>\n",
       "      <td>False</td>\n",
       "      <td>0.2407</td>\n",
       "      <td>1</td>\n",
       "      <td>0</td>\n",
       "      <td>0</td>\n",
       "      <td>0</td>\n",
       "    </tr>\n",
       "    <tr>\n",
       "      <th>3</th>\n",
       "      <td>0.5015</td>\n",
       "      <td>0.0075</td>\n",
       "      <td>-1.4486</td>\n",
       "      <td>-1.2258</td>\n",
       "      <td>0.8077</td>\n",
       "      <td>False</td>\n",
       "      <td>False</td>\n",
       "      <td>-0.1089</td>\n",
       "      <td>0</td>\n",
       "      <td>0</td>\n",
       "      <td>0</td>\n",
       "      <td>0</td>\n",
       "    </tr>\n",
       "    <tr>\n",
       "      <th>4</th>\n",
       "      <td>2.0639</td>\n",
       "      <td>0.3889</td>\n",
       "      <td>-1.0862</td>\n",
       "      <td>0.7857</td>\n",
       "      <td>-0.9116</td>\n",
       "      <td>True</td>\n",
       "      <td>True</td>\n",
       "      <td>-0.3653</td>\n",
       "      <td>0</td>\n",
       "      <td>0</td>\n",
       "      <td>1</td>\n",
       "      <td>0</td>\n",
       "    </tr>\n",
       "  </tbody>\n",
       "</table>\n",
       "</div>"
      ],
      "text/plain": [
       "   credit_score    age  tenure  balance  number_of_products  has_credit_card  \\\n",
       "0       -0.3262 0.2935 -1.0862  -1.2258             -0.9116             True   \n",
       "1       -0.4400 0.1982 -1.4486   0.1174             -0.9116            False   \n",
       "2       -1.5368 0.2935  1.0878   1.3331              2.5271             True   \n",
       "3        0.5015 0.0075 -1.4486  -1.2258              0.8077            False   \n",
       "4        2.0639 0.3889 -1.0862   0.7857             -0.9116             True   \n",
       "\n",
       "   is_active_member  estimated_salary  exited  geography_Germany  \\\n",
       "0              True            0.0219       1                  0   \n",
       "1              True            0.2165       0                  0   \n",
       "2             False            0.2407       1                  0   \n",
       "3             False           -0.1089       0                  0   \n",
       "4              True           -0.3653       0                  0   \n",
       "\n",
       "   geography_Spain  gender_Male  \n",
       "0                0            0  \n",
       "1                1            0  \n",
       "2                0            0  \n",
       "3                0            0  \n",
       "4                1            0  "
      ]
     },
     "execution_count": 20,
     "metadata": {},
     "output_type": "execute_result"
    }
   ],
   "source": [
    "df.head()"
   ]
  },
  {
   "cell_type": "markdown",
   "id": "03dc9a68",
   "metadata": {},
   "source": [
    "### Выделение обучающей, валидационной и тестовой выборок\n",
    "Разделим имеющийся датасет на три части: обучающую (60%), валидационную (20%) и тестовую (20%) выборки. Укажем параметр `random_state=666` для обеспечения повторяемости результата."
   ]
  },
  {
   "cell_type": "code",
   "execution_count": 21,
   "id": "ca61426d",
   "metadata": {},
   "outputs": [],
   "source": [
    "df_train, df_valid_and_test = train_test_split(df, test_size=0.4, stratify=df['exited'], random_state=666)"
   ]
  },
  {
   "cell_type": "code",
   "execution_count": 22,
   "id": "ead68ef6",
   "metadata": {},
   "outputs": [],
   "source": [
    "df_valid, df_test = train_test_split(df_valid_and_test, test_size=0.5, stratify=df_valid_and_test['exited'], random_state=666)"
   ]
  },
  {
   "cell_type": "code",
   "execution_count": 23,
   "id": "9087bd80",
   "metadata": {
    "scrolled": false
   },
   "outputs": [
    {
     "name": "stdout",
     "output_type": "stream",
     "text": [
      "6000\n",
      "2000\n",
      "2000\n"
     ]
    }
   ],
   "source": [
    "# проверим размеры выборок\n",
    "print(len(df_train))\n",
    "print(len(df_valid))\n",
    "print(len(df_test))"
   ]
  },
  {
   "cell_type": "code",
   "execution_count": 24,
   "id": "99107a46",
   "metadata": {},
   "outputs": [
    {
     "name": "stdout",
     "output_type": "stream",
     "text": [
      "0.20366666666666666\n",
      "0.204\n",
      "0.2035\n"
     ]
    }
   ],
   "source": [
    "# проверим, что % положительного класса целевого параметра представлены в выборках пропорционально\n",
    "print(df_train['exited'].mean())\n",
    "print(df_valid['exited'].mean())\n",
    "print(df_test['exited'].mean())"
   ]
  },
  {
   "cell_type": "markdown",
   "id": "1fca9974",
   "metadata": {},
   "source": [
    "### Определение целевого признака и других признаков\n",
    "Целевой признак - факт ухода клиента, отраженный в колонке `df['exited']`."
   ]
  },
  {
   "cell_type": "code",
   "execution_count": 25,
   "id": "52f21a30",
   "metadata": {},
   "outputs": [],
   "source": [
    "features_train = df_train.drop('exited', axis=1)\n",
    "target_train = df_train['exited']\n",
    "features_valid = df_valid.drop('exited', axis=1)\n",
    "target_valid = df_valid['exited']\n",
    "features_test = df_test.drop('exited', axis=1)\n",
    "target_test = df_test['exited']"
   ]
  },
  {
   "cell_type": "markdown",
   "id": "0d819b2e",
   "metadata": {},
   "source": [
    "## Создание и обучение моделей предсказания"
   ]
  },
  {
   "cell_type": "markdown",
   "id": "c8d0749f",
   "metadata": {},
   "source": [
    "### Исследование баланса классов\n",
    "Целевой признак - факт ухода клиента. Исследуем баланс классов. Соотношение позитивного и негативного классов приблизительно 1 : 4, что довольно далеко от баланса 1 : 1. Попробуем обучить модели без учета дисбаланса, проверим их результаты и при необходимости переобучим с учетом дисбаланса."
   ]
  },
  {
   "cell_type": "code",
   "execution_count": 26,
   "id": "6ed5dce4",
   "metadata": {},
   "outputs": [
    {
     "data": {
      "text/plain": [
       "0    7963\n",
       "1    2037\n",
       "Name: exited, dtype: int64"
      ]
     },
     "execution_count": 26,
     "metadata": {},
     "output_type": "execute_result"
    }
   ],
   "source": [
    "df['exited'].value_counts()"
   ]
  },
  {
   "cell_type": "code",
   "execution_count": 27,
   "id": "be7b43b0",
   "metadata": {
    "scrolled": true
   },
   "outputs": [
    {
     "data": {
      "text/plain": [
       "0.2037"
      ]
     },
     "execution_count": 27,
     "metadata": {},
     "output_type": "execute_result"
    }
   ],
   "source": [
    "df['exited'].mean()"
   ]
  },
  {
   "cell_type": "markdown",
   "id": "44c151b8",
   "metadata": {},
   "source": [
    "### Создание и обучение моделей без учета дисбаланса классов\n",
    "#### Логистическая регрессия\n",
    "Логистическая регрессия, обученная без учета дисбаланса классов, показала результат `f1 = 0.3309608540925267`. Значение меры `AUC-ROC = 0.7454167282490886`. Значение целевого признака очень далеко от минимально приемлемого `f1 = 0.59`.\n",
    "\n",
    "Создадим хэш `metrics` с финальными значениями метрик, куда будем записывать все значения метрик обученных моделей."
   ]
  },
  {
   "cell_type": "code",
   "execution_count": 28,
   "id": "0e80045b",
   "metadata": {},
   "outputs": [
    {
     "name": "stdout",
     "output_type": "stream",
     "text": [
      "f1 = 0.3309608540925267\n"
     ]
    }
   ],
   "source": [
    "model = LogisticRegression(random_state=666, solver='liblinear')\n",
    "model.fit(features_train, target_train)\n",
    "predicted_valid = model.predict(features_valid)\n",
    "f1_of_model = f1_score(target_valid, predicted_valid)\n",
    "print('f1 =', f1_of_model)"
   ]
  },
  {
   "cell_type": "code",
   "execution_count": 29,
   "id": "48c8ec73",
   "metadata": {},
   "outputs": [
    {
     "name": "stdout",
     "output_type": "stream",
     "text": [
      "AUC-ROC = 0.7454167282490886\n"
     ]
    }
   ],
   "source": [
    "probabilities_valid = model.predict_proba(features_valid)\n",
    "probabilities_one_valid = probabilities_valid[:, 1]\n",
    "auc_roc = roc_auc_score(target_valid, probabilities_one_valid)\n",
    "print('AUC-ROC =', auc_roc)"
   ]
  },
  {
   "cell_type": "code",
   "execution_count": 30,
   "id": "9f483173",
   "metadata": {},
   "outputs": [],
   "source": [
    "metrics = {'logistic_regression_unbalanced': {'f1': f1_of_model, 'auc_roc': auc_roc}}"
   ]
  },
  {
   "cell_type": "markdown",
   "id": "67d1cff2",
   "metadata": {},
   "source": [
    "#### Решающее дерево\n",
    "\n",
    "У решающего дерева, обученного без учета дисбаланса классов, результат лучше: максимальное значение `f1 = 0.5796269727403156`и `auc_roc = 0.8185935806483398`. Лучшая модель имеет глубину 8 уровней."
   ]
  },
  {
   "cell_type": "code",
   "execution_count": 31,
   "id": "e71e533f",
   "metadata": {},
   "outputs": [
    {
     "name": "stdout",
     "output_type": "stream",
     "text": [
      "max_depth = 2 :   f1 = 0.48513302034428796  auc_roc = 0.7202841720859198\n",
      "max_depth = 3 :   f1 = 0.5092024539877301  auc_roc = 0.7877869740861169\n",
      "max_depth = 4 :   f1 = 0.4448398576512456  auc_roc = 0.8121435917331757\n",
      "max_depth = 5 :   f1 = 0.5106382978723404  auc_roc = 0.8284714011232635\n",
      "max_depth = 6 :   f1 = 0.5565476190476191  auc_roc = 0.8316051766183861\n",
      "max_depth = 7 :   f1 = 0.5730337078651685  auc_roc = 0.826299081190265\n",
      "max_depth = 8 :   f1 = 0.5796269727403156  auc_roc = 0.8185935806483398\n",
      "max_depth = 9 :   f1 = 0.5633423180592991  auc_roc = 0.7921062112030742\n",
      "max_depth = 10 :   f1 = 0.575197889182058  auc_roc = 0.7752064550694651\n",
      "max_depth = 11 :   f1 = 0.526027397260274  auc_roc = 0.7493572334712779\n",
      "max_depth = 12 :   f1 = 0.5178335535006604  auc_roc = 0.7387596684402404\n",
      "max_depth = 13 :   f1 = 0.516795865633075  auc_roc = 0.7109051692284954\n",
      "max_depth = 14 :   f1 = 0.503209242618742  auc_roc = 0.6932102300719283\n",
      "max_depth = 15 :   f1 = 0.5054945054945055  auc_roc = 0.6935781850428614\n",
      "max_depth = 16 :   f1 = 0.4987714987714988  auc_roc = 0.6882867154399448\n",
      "max_depth = 17 :   f1 = 0.48894348894348894  auc_roc = 0.6802425115774953\n",
      "max_depth = 18 :   f1 = 0.5018270401948843  auc_roc = 0.6896969529017637\n",
      "max_depth = 19 :   f1 = 0.4852216748768473  auc_roc = 0.6776052443590501\n",
      "max_depth = 20 :   f1 = 0.5097560975609755  auc_roc = 0.6920647970243374\n",
      "\n",
      "best_model: DecisionTreeClassifier(max_depth=8, random_state=666)\n",
      "best_f1: 0.5796269727403156\n",
      "best_auc_roc: 0.8316051766183861\n"
     ]
    }
   ],
   "source": [
    "best_model = None\n",
    "best_f1 = 0\n",
    "best_auc_roc = 0\n",
    "tree_metrics = []\n",
    "\n",
    "for depth in range(2, 21):\n",
    "    model = DecisionTreeClassifier(max_depth=depth, random_state=666)\n",
    "    model.fit(features_train, target_train)\n",
    "    predicted_valid = model.predict(features_valid)\n",
    "    f1_of_model = f1_score(target_valid, predicted_valid)\n",
    "    \n",
    "    probabilities_valid = model.predict_proba(features_valid)\n",
    "    probabilities_one_valid = probabilities_valid[:, 1]\n",
    "    auc_roc_of_model = roc_auc_score(target_valid, probabilities_one_valid)\n",
    "    \n",
    "    print(\"max_depth =\", depth, \": \", end='  ')\n",
    "    print('f1 =', f1_of_model, end='  ') \n",
    "    print('auc_roc =', auc_roc_of_model)\n",
    "    \n",
    "    tree_metrics.append([depth, f1_of_model, auc_roc_of_model])\n",
    "    if f1_of_model > best_f1:\n",
    "        best_f1 = f1_of_model\n",
    "        best_model = model\n",
    "    if auc_roc_of_model > best_auc_roc:\n",
    "        best_auc_roc = auc_roc_of_model\n",
    "        \n",
    "\n",
    "print()        \n",
    "print('best_model:', best_model)\n",
    "print('best_f1:', best_f1)\n",
    "print('best_auc_roc:', best_auc_roc)"
   ]
  },
  {
   "cell_type": "code",
   "execution_count": 32,
   "id": "3b419177",
   "metadata": {},
   "outputs": [],
   "source": [
    "metrics['tree_unbalanced'] = {'f1': best_f1,  'auc_roc': 0.8185935806483398}"
   ]
  },
  {
   "cell_type": "markdown",
   "id": "2f13667a",
   "metadata": {},
   "source": [
    "#### Случайный лес\n",
    "Без учета дисбаланса классов лучший результат получился у модели случайного леса с 20 деревьями и глубиной 15: \n",
    "`f1 = 0.564885496183206` и `auc_roc = 0.8324888843728446`. "
   ]
  },
  {
   "cell_type": "code",
   "execution_count": 33,
   "id": "02ca3b5d",
   "metadata": {},
   "outputs": [
    {
     "name": "stdout",
     "output_type": "stream",
     "text": [
      "max_depth = 2 :   f1 = 0.10672853828306264  auc_roc = 0.7897037269681744\n",
      "max_depth = 3 :   f1 = 0.3114754098360656  auc_roc = 0.8185142932801261\n",
      "max_depth = 4 :   f1 = 0.3992537313432836  auc_roc = 0.8279387131737117\n",
      "max_depth = 5 :   f1 = 0.4778156996587031  auc_roc = 0.849983680658193\n",
      "max_depth = 6 :   f1 = 0.5339966832504146  auc_roc = 0.855137359592078\n",
      "max_depth = 7 :   f1 = 0.5296052631578947  auc_roc = 0.8556638892994383\n",
      "max_depth = 8 :   f1 = 0.5382165605095542  auc_roc = 0.8633901739087595\n",
      "max_depth = 9 :   f1 = 0.5543307086614174  auc_roc = 0.8591517637205635\n",
      "max_depth = 10 :   f1 = 0.5598755832037325  auc_roc = 0.8533838001280915\n",
      "max_depth = 11 :   f1 = 0.5368916797488226  auc_roc = 0.8444451115873485\n",
      "max_depth = 12 :   f1 = 0.5627836611195158  auc_roc = 0.838547824908858\n",
      "max_depth = 13 :   f1 = 0.5579268292682926  auc_roc = 0.8452395248300325\n",
      "max_depth = 14 :   f1 = 0.5449010654490106  auc_roc = 0.8458984567445069\n",
      "max_depth = 15 :   f1 = 0.564885496183206  auc_roc = 0.8324888843728446\n",
      "max_depth = 16 :   f1 = 0.556390977443609  auc_roc = 0.8406008288993989\n",
      "max_depth = 17 :   f1 = 0.5339506172839507  auc_roc = 0.8350945906000591\n",
      "max_depth = 18 :   f1 = 0.5323076923076923  auc_roc = 0.8356303576707065\n",
      "max_depth = 19 :   f1 = 0.564885496183206  auc_roc = 0.8469214947285447\n",
      "max_depth = 20 :   f1 = 0.5454545454545455  auc_roc = 0.8294505616316878\n",
      "\n",
      "best_depth: 15\n",
      "best_model: RandomForestClassifier(max_depth=15, n_estimators=20, random_state=666)\n",
      "best_f1: 0.564885496183206\n",
      "best_auc_roc: 0.8633901739087595\n"
     ]
    }
   ],
   "source": [
    "best_depth = 1\n",
    "best_model = None\n",
    "best_f1 = 0\n",
    "best_auc_roc = 0\n",
    "forest_metrics = []\n",
    "\n",
    "# Сначала обучим лес с 20 деревьями-оценщиками и найдем оптимальную глубину\n",
    "\n",
    "for depth in range(2, 21):\n",
    "    model = RandomForestClassifier(n_estimators=20, max_depth=depth, random_state=666)\n",
    "    model.fit(features_train, target_train)\n",
    "    predicted_valid = model.predict(features_valid)\n",
    "    \n",
    "    f1_of_model = f1_score(target_valid, predicted_valid)\n",
    "    \n",
    "    probabilities_valid = model.predict_proba(features_valid)\n",
    "    probabilities_one_valid = probabilities_valid[:, 1]\n",
    "    auc_roc_of_model = roc_auc_score(target_valid, probabilities_one_valid)\n",
    "    \n",
    "    print(\"max_depth =\", depth, \": \", end='  ')\n",
    "    print('f1 =', f1_of_model, end='  ') \n",
    "    print('auc_roc =', auc_roc_of_model)\n",
    "    \n",
    "    forest_metrics.append([depth, f1_of_model, auc_roc_of_model])\n",
    "    if f1_of_model > best_f1:\n",
    "        best_depth = depth\n",
    "        best_model = model\n",
    "        best_f1 = f1_of_model\n",
    "    if auc_roc_of_model > best_auc_roc:\n",
    "        best_auc_roc = auc_roc_of_model\n",
    "    \n",
    "print()        \n",
    "print('best_depth:', best_depth)\n",
    "print('best_model:', best_model)\n",
    "print('best_f1:', best_f1)\n",
    "print('best_auc_roc:', best_auc_roc)"
   ]
  },
  {
   "cell_type": "code",
   "execution_count": 34,
   "id": "5231d560",
   "metadata": {},
   "outputs": [
    {
     "name": "stdout",
     "output_type": "stream",
     "text": [
      "trees = 20 :   f1 = 0.564885496183206  auc_roc = 0.8324888843728446\n",
      "trees = 30 :   f1 = 0.5608628659476118  auc_roc = 0.8456413501330182\n",
      "trees = 40 :   f1 = 0.5596330275229359  auc_roc = 0.849528740516307\n",
      "trees = 50 :   f1 = 0.551617873651772  auc_roc = 0.8484156382402207\n",
      "trees = 60 :   f1 = 0.5552147239263804  auc_roc = 0.8481793156961276\n",
      "trees = 70 :   f1 = 0.5507692307692307  auc_roc = 0.8515678884619174\n",
      "trees = 80 :   f1 = 0.5471406491499228  auc_roc = 0.852763357227313\n",
      "trees = 90 :   f1 = 0.5490797546012269  auc_roc = 0.8524354308306238\n",
      "trees = 100 :   f1 = 0.5446153846153846  auc_roc = 0.8529565720760666\n",
      "trees = 110 :   f1 = 0.5493827160493827  auc_roc = 0.8527772132722435\n",
      "trees = 120 :   f1 = 0.5555555555555556  auc_roc = 0.8534592385949353\n",
      "trees = 130 :   f1 = 0.5564142194744977  auc_roc = 0.8533953468322002\n",
      "trees = 140 :   f1 = 0.5564142194744977  auc_roc = 0.8537348199329983\n",
      "trees = 150 :   f1 = 0.5541795665634675  auc_roc = 0.8525308835845896\n",
      "trees = 160 :   f1 = 0.5519379844961241  auc_roc = 0.8528318676716917\n",
      "trees = 170 :   f1 = 0.5519379844961241  auc_roc = 0.8532729517686473\n",
      "trees = 180 :   f1 = 0.5510835913312694  auc_roc = 0.8527564292048477\n",
      "trees = 190 :   f1 = 0.5524691358024691  auc_roc = 0.8527194797516997\n",
      "trees = 200 :   f1 = 0.5488372093023256  auc_roc = 0.8531443984629028\n",
      "trees = 210 :   f1 = 0.5488372093023256  auc_roc = 0.8526101709528032\n",
      "trees = 220 :   f1 = 0.5510835913312694  auc_roc = 0.8521098137747561\n",
      "trees = 230 :   f1 = 0.5474339035769828  auc_roc = 0.8521190511380431\n",
      "trees = 240 :   f1 = 0.5541795665634675  auc_roc = 0.852273007192827\n",
      "\n",
      "best_depth: 15\n",
      "best_trees: 20\n",
      "best_model: RandomForestClassifier(max_depth=15, n_estimators=20, random_state=666)\n",
      "best_f1: 0.564885496183206\n",
      "best_auc_roc: 0.8633901739087595\n"
     ]
    }
   ],
   "source": [
    "# Теперь подберем оптимальное количество деревьев-оценщиков\n",
    "forest_metrics_2 = []\n",
    "best_trees = 20\n",
    "\n",
    "for trees in range (20, 250, 10):\n",
    "    model = RandomForestClassifier(n_estimators = trees, \n",
    "                                  max_depth=best_depth, random_state=666)\n",
    "    model.fit(features_train, target_train)\n",
    "    predicted_valid = model.predict(features_valid)\n",
    "    \n",
    "    f1_of_model = f1_score(target_valid, predicted_valid)\n",
    "    \n",
    "    probabilities_valid = model.predict_proba(features_valid)\n",
    "    probabilities_one_valid = probabilities_valid[:, 1]\n",
    "    auc_roc_of_model = roc_auc_score(target_valid, probabilities_one_valid)\n",
    "    \n",
    "    print(\"trees =\", trees, \": \", end='  ')\n",
    "    print('f1 =', f1_of_model, end='  ') \n",
    "    print('auc_roc =', auc_roc_of_model)\n",
    "    forest_metrics_2.append([trees, f1_of_model, auc_roc_of_model])\n",
    "    if f1_of_model > best_f1:\n",
    "        best_trees = trees\n",
    "        best_model = model\n",
    "        best_f1 = f1_of_model\n",
    "    if auc_roc_of_model > best_auc_roc:\n",
    "        best_auc_roc = auc_roc_of_model\n",
    "        \n",
    "\n",
    "        \n",
    "print()    \n",
    "print('best_depth:', best_depth)\n",
    "print('best_trees:', best_trees)\n",
    "print('best_model:', best_model)\n",
    "print('best_f1:', best_f1)\n",
    "print('best_auc_roc:', best_auc_roc)"
   ]
  },
  {
   "cell_type": "code",
   "execution_count": 35,
   "id": "086d9c75",
   "metadata": {},
   "outputs": [],
   "source": [
    "metrics['forest_unbalanced'] = {'f1': best_f1, 'auc_roc': 0.8324888843728446}"
   ]
  },
  {
   "cell_type": "markdown",
   "id": "f59dc1fb",
   "metadata": {},
   "source": [
    "### Обучение моделей с учетом дисбаланса классов: весовая балансировка\n",
    "Воспользуемся весовой балансировкой для снижения влияния дисбаланса классов. Укажем для моделей параметр `class_weight='balanced'`, обучим их и оценим результаты. "
   ]
  },
  {
   "cell_type": "markdown",
   "id": "8d75a46f",
   "metadata": {},
   "source": [
    "#### Логистическая регрессия\n",
    "\n",
    "Обучим модель логистической регрессии, указав в гиперпараметрах `class_weight='balanced'`. У новой модели `f1 = 0.4716981132075472` и `AUC-ROC = 0.7508960242388412`. \n",
    "\n",
    "Это выше, чем у модели, обученной без учета дисбаланса, но метрики все равно далеки от приемлемых."
   ]
  },
  {
   "cell_type": "code",
   "execution_count": 36,
   "id": "d167862b",
   "metadata": {},
   "outputs": [
    {
     "name": "stdout",
     "output_type": "stream",
     "text": [
      "f1 = 0.4716981132075472\n"
     ]
    }
   ],
   "source": [
    "model = LogisticRegression(random_state=666, solver='liblinear', class_weight='balanced')\n",
    "model.fit(features_train, target_train)\n",
    "predicted_valid = model.predict(features_valid)\n",
    "f1_of_model = f1_score(target_valid, predicted_valid)\n",
    "print('f1 =', f1_of_model)"
   ]
  },
  {
   "cell_type": "code",
   "execution_count": 37,
   "id": "f0f87395",
   "metadata": {},
   "outputs": [
    {
     "name": "stdout",
     "output_type": "stream",
     "text": [
      "AUC-ROC = 0.7508960242388412\n"
     ]
    }
   ],
   "source": [
    "probabilities_valid = model.predict_proba(features_valid)\n",
    "probabilities_one_valid = probabilities_valid[:, 1]\n",
    "auc_roc = roc_auc_score(target_valid, probabilities_one_valid)\n",
    "print('AUC-ROC =', auc_roc)"
   ]
  },
  {
   "cell_type": "code",
   "execution_count": 38,
   "id": "1bd8c871",
   "metadata": {},
   "outputs": [],
   "source": [
    "metrics['logistic_regression_class_weight_balanced'] = {'f1': f1_of_model, 'auc_roc': auc_roc}"
   ]
  },
  {
   "cell_type": "markdown",
   "id": "13f1fd9e",
   "metadata": {},
   "source": [
    "#### Решающее дерево\n",
    "Обучим модель решающего дерева, указав в гиперпараметрах `class_weight='balanced'`. Наиболее удачная модель имеет глубину 6 уровней.\n",
    "\n",
    "Эта модель показала лучшие результаты, по сравнению с моделью, обученной без учета дисбаланса классов: у новой модели `f1 = 0.5695970695970696` и `auc_roc = 0.8309500936052814`. Целевой показатель `f1` стал хуже, чем  у модели, обученной без учета дисбаланса (`f1 = 0.5796269727403156`).\n"
   ]
  },
  {
   "cell_type": "code",
   "execution_count": 39,
   "id": "07cc46a6",
   "metadata": {},
   "outputs": [
    {
     "name": "stdout",
     "output_type": "stream",
     "text": [
      "max_depth = 2 :   f1 = 0.4999999999999999  auc_roc = 0.7306869827076559\n",
      "max_depth = 3 :   f1 = 0.4999999999999999  auc_roc = 0.7873766812001183\n",
      "max_depth = 4 :   f1 = 0.5312783318223029  auc_roc = 0.8104531542516504\n",
      "max_depth = 5 :   f1 = 0.5662337662337662  auc_roc = 0.835710414819194\n",
      "max_depth = 6 :   f1 = 0.5690759377859103  auc_roc = 0.8303527441127205\n",
      "max_depth = 7 :   f1 = 0.5698427382053655  auc_roc = 0.8357796950438465\n",
      "max_depth = 8 :   f1 = 0.5523809523809523  auc_roc = 0.8077104271356783\n",
      "max_depth = 9 :   f1 = 0.5465465465465464  auc_roc = 0.79218395901074\n",
      "max_depth = 10 :   f1 = 0.5402061855670103  auc_roc = 0.7766320881367623\n",
      "max_depth = 11 :   f1 = 0.5561497326203209  auc_roc = 0.7619192777613557\n",
      "max_depth = 12 :   f1 = 0.5425188374596339  auc_roc = 0.7428880000492659\n",
      "max_depth = 13 :   f1 = 0.5247747747747747  auc_roc = 0.726675657700266\n",
      "max_depth = 14 :   f1 = 0.5287356321839081  auc_roc = 0.7158687124347226\n",
      "max_depth = 15 :   f1 = 0.5053128689492327  auc_roc = 0.6973693528919105\n",
      "max_depth = 16 :   f1 = 0.5175332527206771  auc_roc = 0.6982923194403389\n",
      "max_depth = 17 :   f1 = 0.5270935960591133  auc_roc = 0.7021635444378757\n",
      "max_depth = 18 :   f1 = 0.5147783251231527  auc_roc = 0.6964125160114296\n",
      "max_depth = 19 :   f1 = 0.5087719298245614  auc_roc = 0.6913127216967189\n",
      "max_depth = 20 :   f1 = 0.5107458912768646  auc_roc = 0.6911864777317963\n",
      "\n",
      "best_model: DecisionTreeClassifier(class_weight='balanced', max_depth=7, random_state=666)\n",
      "best_f1: 0.5698427382053655\n",
      "best_auc_roc: 0.8357796950438465\n"
     ]
    }
   ],
   "source": [
    "best_model = None\n",
    "best_f1 = 0\n",
    "best_auc_roc = 0\n",
    "tree_metrics = []\n",
    "\n",
    "for depth in range(2, 21):\n",
    "    model = DecisionTreeClassifier(max_depth=depth, random_state=666, class_weight='balanced')\n",
    "    model.fit(features_train, target_train)\n",
    "    predicted_valid = model.predict(features_valid)\n",
    "    f1_of_model = f1_score(target_valid, predicted_valid)\n",
    "    \n",
    "    probabilities_valid = model.predict_proba(features_valid)\n",
    "    probabilities_one_valid = probabilities_valid[:, 1]\n",
    "    auc_roc_of_model = roc_auc_score(target_valid, probabilities_one_valid)\n",
    "    \n",
    "    print(\"max_depth =\", depth, \": \", end='  ')\n",
    "    print('f1 =', f1_of_model, end='  ') \n",
    "    print('auc_roc =', auc_roc_of_model)\n",
    "    \n",
    "    tree_metrics.append([depth, f1_of_model, auc_roc_of_model])\n",
    "    if f1_of_model > best_f1:\n",
    "        best_f1 = f1_of_model\n",
    "        best_model = model\n",
    "    if auc_roc_of_model > best_auc_roc:\n",
    "        best_auc_roc = auc_roc_of_model\n",
    "        \n",
    "\n",
    "print()        \n",
    "print('best_model:', best_model)\n",
    "print('best_f1:', best_f1)\n",
    "print('best_auc_roc:', best_auc_roc)"
   ]
  },
  {
   "cell_type": "code",
   "execution_count": 40,
   "id": "d04528a1",
   "metadata": {},
   "outputs": [],
   "source": [
    "metrics['tree_class_weight_balanced'] = {'f1': best_f1, 'auc_roc': 0.8309500936052814}"
   ]
  },
  {
   "cell_type": "code",
   "execution_count": 41,
   "id": "cc71b670",
   "metadata": {},
   "outputs": [
    {
     "data": {
      "text/plain": [
       "{'logistic_regression_unbalanced': {'f1': 0.3309608540925267,\n",
       "  'auc_roc': 0.7454167282490886},\n",
       " 'tree_unbalanced': {'f1': 0.5796269727403156, 'auc_roc': 0.8185935806483398},\n",
       " 'forest_unbalanced': {'f1': 0.564885496183206, 'auc_roc': 0.8324888843728446},\n",
       " 'logistic_regression_class_weight_balanced': {'f1': 0.4716981132075472,\n",
       "  'auc_roc': 0.7508960242388412},\n",
       " 'tree_class_weight_balanced': {'f1': 0.5698427382053655,\n",
       "  'auc_roc': 0.8309500936052814}}"
      ]
     },
     "execution_count": 41,
     "metadata": {},
     "output_type": "execute_result"
    }
   ],
   "source": [
    "metrics"
   ]
  },
  {
   "cell_type": "markdown",
   "id": "93d32afa",
   "metadata": {},
   "source": [
    "#### Случайный лес\n",
    "Обучим модель случайного леса, указав в гиперпараметрах `class_weight='balanced'`. \n",
    "\n",
    "Лучше всего себя показала модель случайного леса с 8 уровнями глубины и 80 деревьями-оценщиками. Ее метрики `f1 = 0.6148571428571429`  и `auc_roc = 0.855629249187112` - значения лучше, чем у лучшей модели леса, обученной без учета дисбаланса. "
   ]
  },
  {
   "cell_type": "code",
   "execution_count": 42,
   "id": "46d0d8f3",
   "metadata": {},
   "outputs": [
    {
     "name": "stdout",
     "output_type": "stream",
     "text": [
      "max_depth = 2 :   f1 = 0.5352657004830919  auc_roc = 0.8041825241403094\n",
      "max_depth = 3 :   f1 = 0.5548902195608783  auc_roc = 0.8191285779387132\n",
      "max_depth = 4 :   f1 = 0.5787908820614469  auc_roc = 0.8360575857227313\n",
      "max_depth = 5 :   f1 = 0.5892116182572614  auc_roc = 0.8445174709330969\n",
      "max_depth = 6 :   f1 = 0.5892291446673706  auc_roc = 0.8437838703320524\n",
      "max_depth = 7 :   f1 = 0.5884955752212389  auc_roc = 0.8497920053699872\n",
      "max_depth = 8 :   f1 = 0.5805714285714285  auc_roc = 0.8462987424869445\n",
      "max_depth = 9 :   f1 = 0.5983701979045402  auc_roc = 0.8518580956251849\n",
      "max_depth = 10 :   f1 = 0.5778331257783312  auc_roc = 0.8526686742536211\n",
      "max_depth = 11 :   f1 = 0.5823451910408431  auc_roc = 0.8495333591979507\n",
      "max_depth = 12 :   f1 = 0.5572005383580081  auc_roc = 0.8485295657207605\n",
      "max_depth = 13 :   f1 = 0.5787234042553191  auc_roc = 0.8409249063947187\n",
      "max_depth = 14 :   f1 = 0.5627705627705628  auc_roc = 0.8481084959109271\n",
      "max_depth = 15 :   f1 = 0.5565476190476191  auc_roc = 0.8354802505172924\n",
      "max_depth = 16 :   f1 = 0.5474339035769828  auc_roc = 0.8317837656419352\n",
      "max_depth = 17 :   f1 = 0.5463108320251177  auc_roc = 0.8372214934968962\n",
      "max_depth = 18 :   f1 = 0.5331230283911672  auc_roc = 0.8349883609222584\n",
      "max_depth = 19 :   f1 = 0.5206349206349208  auc_roc = 0.825939593802345\n",
      "max_depth = 20 :   f1 = 0.5251572327044025  auc_roc = 0.8323595612868264\n",
      "\n",
      "best_depth: 9\n",
      "best_model: RandomForestClassifier(class_weight='balanced', max_depth=9, n_estimators=20,\n",
      "                       random_state=666)\n",
      "best_f1: 0.5983701979045402\n",
      "best_auc_roc: 0.8526686742536211\n"
     ]
    }
   ],
   "source": [
    "best_depth = 1\n",
    "best_model = None\n",
    "best_f1 = 0\n",
    "best_auc_roc = 0\n",
    "forest_metrics = []\n",
    "\n",
    "# Сначала обучим лес с 20 деревьями-оценщиками и найдем оптимальную глубину\n",
    "\n",
    "for depth in range(2, 21):\n",
    "    model = RandomForestClassifier(n_estimators=20, max_depth=depth, class_weight='balanced', random_state=666)\n",
    "    model.fit(features_train, target_train)\n",
    "    predicted_valid = model.predict(features_valid)\n",
    "    \n",
    "    f1_of_model = f1_score(target_valid, predicted_valid)\n",
    "    \n",
    "    probabilities_valid = model.predict_proba(features_valid)\n",
    "    probabilities_one_valid = probabilities_valid[:, 1]\n",
    "    auc_roc_of_model = roc_auc_score(target_valid, probabilities_one_valid)\n",
    "    \n",
    "    print(\"max_depth =\", depth, \": \", end='  ')\n",
    "    print('f1 =', f1_of_model, end='  ') \n",
    "    print('auc_roc =', auc_roc_of_model)\n",
    "    \n",
    "    forest_metrics.append([depth, f1_of_model, auc_roc_of_model])\n",
    "    if f1_of_model > best_f1:\n",
    "        best_depth = depth\n",
    "        best_model = model\n",
    "        best_f1 = f1_of_model\n",
    "    if auc_roc_of_model > best_auc_roc:\n",
    "        best_auc_roc = auc_roc_of_model\n",
    "    \n",
    "print()        \n",
    "print('best_depth:', best_depth)\n",
    "print('best_model:', best_model)\n",
    "print('best_f1:', best_f1)\n",
    "print('best_auc_roc:', best_auc_roc)"
   ]
  },
  {
   "cell_type": "code",
   "execution_count": 43,
   "id": "03a807ea",
   "metadata": {},
   "outputs": [
    {
     "name": "stdout",
     "output_type": "stream",
     "text": [
      "trees = 20 :   f1 = 0.5983701979045402  auc_roc = 0.8518580956251849\n",
      "trees = 30 :   f1 = 0.5966981132075472  auc_roc = 0.8521252093802346\n",
      "trees = 40 :   f1 = 0.6011834319526627  auc_roc = 0.8528010764607351\n",
      "trees = 50 :   f1 = 0.6064209274673008  auc_roc = 0.8548148216573062\n",
      "trees = 60 :   f1 = 0.6106508875739645  auc_roc = 0.8549426051827766\n",
      "trees = 70 :   f1 = 0.6146458583433373  auc_roc = 0.8549518425460637\n",
      "trees = 80 :   f1 = 0.6078665077473183  auc_roc = 0.855601537097251\n",
      "trees = 90 :   f1 = 0.605263157894737  auc_roc = 0.8554937678589024\n",
      "trees = 100 :   f1 = 0.6004784688995215  auc_roc = 0.8558724997536703\n",
      "trees = 110 :   f1 = 0.6028708133971291  auc_roc = 0.8563158931914475\n",
      "trees = 120 :   f1 = 0.6047619047619047  auc_roc = 0.856839343777712\n",
      "trees = 130 :   f1 = 0.6054827175208581  auc_roc = 0.856688466844024\n",
      "trees = 140 :   f1 = 0.6069295101553165  auc_roc = 0.8569055448812691\n",
      "trees = 150 :   f1 = 0.6028708133971291  auc_roc = 0.8570071558774264\n",
      "trees = 160 :   f1 = 0.605263157894737  auc_roc = 0.8570548822544093\n",
      "trees = 170 :   f1 = 0.6021505376344086  auc_roc = 0.8569932998324958\n",
      "trees = 180 :   f1 = 0.6035928143712574  auc_roc = 0.857427455906986\n",
      "trees = 190 :   f1 = 0.6050420168067228  auc_roc = 0.8577492240614839\n",
      "trees = 200 :   f1 = 0.6045400238948626  auc_roc = 0.8575521603113607\n",
      "trees = 210 :   f1 = 0.6139088729016786  auc_roc = 0.8575460020691694\n",
      "trees = 220 :   f1 = 0.6096385542168675  auc_roc = 0.857776936151345\n",
      "trees = 230 :   f1 = 0.6096385542168675  auc_roc = 0.8578693097842152\n",
      "trees = 240 :   f1 = 0.6094316807738815  auc_roc = 0.8578477559365455\n",
      "\n",
      "best_depth: 9\n",
      "best_trees: 70\n",
      "best_model: RandomForestClassifier(class_weight='balanced', max_depth=9, n_estimators=70,\n",
      "                       random_state=666)\n",
      "best_f1: 0.6146458583433373\n",
      "best_auc_roc: 0.8578693097842152\n"
     ]
    }
   ],
   "source": [
    "# Теперь подберем оптимальное количество деревьев-оценщиков\n",
    "forest_metrics_2 = []\n",
    "best_trees = 1\n",
    "\n",
    "for trees in range (20, 250, 10):\n",
    "    model = RandomForestClassifier(n_estimators = trees, \n",
    "                                  max_depth=best_depth, class_weight='balanced', random_state=666)\n",
    "    model.fit(features_train, target_train)\n",
    "    predicted_valid = model.predict(features_valid)\n",
    "    \n",
    "    f1_of_model = f1_score(target_valid, predicted_valid)\n",
    "    \n",
    "    probabilities_valid = model.predict_proba(features_valid)\n",
    "    probabilities_one_valid = probabilities_valid[:, 1]\n",
    "    auc_roc_of_model = roc_auc_score(target_valid, probabilities_one_valid)\n",
    "    \n",
    "    print(\"trees =\", trees, \": \", end='  ')\n",
    "    print('f1 =', f1_of_model, end='  ') \n",
    "    print('auc_roc =', auc_roc_of_model)\n",
    "    forest_metrics_2.append([trees, f1_of_model, auc_roc_of_model])\n",
    "    if f1_of_model > best_f1:\n",
    "        best_trees = trees\n",
    "        best_model = model\n",
    "        best_f1 = f1_of_model\n",
    "    if auc_roc_of_model > best_auc_roc:\n",
    "        best_auc_roc = auc_roc_of_model\n",
    "        \n",
    "\n",
    "        \n",
    "print()    \n",
    "print('best_depth:', best_depth)\n",
    "print('best_trees:', best_trees)\n",
    "print('best_model:', best_model)\n",
    "print('best_f1:', best_f1)\n",
    "print('best_auc_roc:', best_auc_roc)"
   ]
  },
  {
   "cell_type": "code",
   "execution_count": 44,
   "id": "81433230",
   "metadata": {},
   "outputs": [],
   "source": [
    "metrics['forest_class_weight_balanced'] = {'f1': best_f1, 'auc_roc': 0.855629249187112}"
   ]
  },
  {
   "cell_type": "code",
   "execution_count": 45,
   "id": "285cef2d",
   "metadata": {},
   "outputs": [
    {
     "data": {
      "text/plain": [
       "{'logistic_regression_unbalanced': {'f1': 0.3309608540925267,\n",
       "  'auc_roc': 0.7454167282490886},\n",
       " 'tree_unbalanced': {'f1': 0.5796269727403156, 'auc_roc': 0.8185935806483398},\n",
       " 'forest_unbalanced': {'f1': 0.564885496183206, 'auc_roc': 0.8324888843728446},\n",
       " 'logistic_regression_class_weight_balanced': {'f1': 0.4716981132075472,\n",
       "  'auc_roc': 0.7508960242388412},\n",
       " 'tree_class_weight_balanced': {'f1': 0.5698427382053655,\n",
       "  'auc_roc': 0.8309500936052814},\n",
       " 'forest_class_weight_balanced': {'f1': 0.6146458583433373,\n",
       "  'auc_roc': 0.855629249187112}}"
      ]
     },
     "execution_count": 45,
     "metadata": {},
     "output_type": "execute_result"
    }
   ],
   "source": [
    "metrics"
   ]
  },
  {
   "cell_type": "markdown",
   "id": "f6c47abc",
   "metadata": {},
   "source": [
    "### Обучение моделей с учетом дисбаланса классов: метод upsampling\n"
   ]
  },
  {
   "cell_type": "markdown",
   "id": "eeef7e7e",
   "metadata": {},
   "source": [
    "#### Увеличение выборки методом upsampling\n",
    "Воспользуемся альтернативным методом снижения влияния дисбаланса классов - увеличим выборку методом `upsampling`. Для этого определим функцию `upsample()` и передадим ей обучающую выборку. Баланс классов доведем примерно до 1 : 1."
   ]
  },
  {
   "cell_type": "code",
   "execution_count": 46,
   "id": "dd956b1a",
   "metadata": {},
   "outputs": [],
   "source": [
    "def upsample(features, target, repeat):\n",
    "    features_zeros = features_train[target_train == 0]\n",
    "    features_ones = features_train[target_train == 1]\n",
    "    target_zeros = target_train[target_train == 0]\n",
    "    target_ones = target_train[target_train == 1]\n",
    "    \n",
    "    features_upsampled = pd.concat([features_zeros] + [features_ones] * repeat)\n",
    "    target_upsampled = pd.concat([target_zeros] + [target_ones] * repeat)\n",
    "    features_upsampled, target_upsampled = shuffle(features_upsampled, target_upsampled, random_state=12345)\n",
    "    \n",
    "    return features_upsampled, target_upsampled\n",
    "    \n",
    "\n",
    "features_upsampled, target_upsampled = upsample(features_train, target_train, 4)"
   ]
  },
  {
   "cell_type": "code",
   "execution_count": 47,
   "id": "eeedc25d",
   "metadata": {},
   "outputs": [
    {
     "name": "stdout",
     "output_type": "stream",
     "text": [
      "(9666,)\n",
      "0.5056900475894889\n"
     ]
    }
   ],
   "source": [
    "print(target_upsampled.shape)\n",
    "print(target_upsampled.mean())"
   ]
  },
  {
   "cell_type": "markdown",
   "id": "72a77c52",
   "metadata": {},
   "source": [
    "#### Логистическая регрессия\n",
    "\n",
    "Обучим модель логистической регрессии на увеличенной выборке. У новой модели `f1 = 0.4731914893617022` и `AUC-ROC = 0.750965304463494`. Эта модель показала лучшие результаты, по сравнению с моделью, обученной без учета дисбаланса классов, и с моделью, обученной с учетом весовой балансировки. Целевой показатель по-прежнему далек от приемлемого `f1 = 0.59`."
   ]
  },
  {
   "cell_type": "code",
   "execution_count": 48,
   "id": "83106621",
   "metadata": {},
   "outputs": [
    {
     "name": "stdout",
     "output_type": "stream",
     "text": [
      "f1 = 0.4731914893617022\n"
     ]
    }
   ],
   "source": [
    "model = LogisticRegression(random_state=666, solver='liblinear')\n",
    "model.fit(features_upsampled, target_upsampled)\n",
    "predicted_valid = model.predict(features_valid)\n",
    "f1_of_model = f1_score(target_valid, predicted_valid)\n",
    "print('f1 =', f1_of_model)"
   ]
  },
  {
   "cell_type": "code",
   "execution_count": 49,
   "id": "577b0b16",
   "metadata": {
    "scrolled": true
   },
   "outputs": [
    {
     "name": "stdout",
     "output_type": "stream",
     "text": [
      "AUC-ROC = 0.750965304463494\n"
     ]
    }
   ],
   "source": [
    "probabilities_valid = model.predict_proba(features_valid)\n",
    "probabilities_one_valid = probabilities_valid[:, 1]\n",
    "auc_roc = roc_auc_score(target_valid, probabilities_one_valid)\n",
    "print('AUC-ROC =', auc_roc)"
   ]
  },
  {
   "cell_type": "code",
   "execution_count": 50,
   "id": "2ec1c852",
   "metadata": {},
   "outputs": [
    {
     "data": {
      "text/plain": [
       "{'logistic_regression_unbalanced': {'f1': 0.3309608540925267,\n",
       "  'auc_roc': 0.7454167282490886},\n",
       " 'tree_unbalanced': {'f1': 0.5796269727403156, 'auc_roc': 0.8185935806483398},\n",
       " 'forest_unbalanced': {'f1': 0.564885496183206, 'auc_roc': 0.8324888843728446},\n",
       " 'logistic_regression_class_weight_balanced': {'f1': 0.4716981132075472,\n",
       "  'auc_roc': 0.7508960242388412},\n",
       " 'tree_class_weight_balanced': {'f1': 0.5698427382053655,\n",
       "  'auc_roc': 0.8309500936052814},\n",
       " 'forest_class_weight_balanced': {'f1': 0.6146458583433373,\n",
       "  'auc_roc': 0.855629249187112},\n",
       " 'logistic_regression_upsampled': {'f1': 0.4731914893617022,\n",
       "  'auc_roc': 0.750965304463494}}"
      ]
     },
     "execution_count": 50,
     "metadata": {},
     "output_type": "execute_result"
    }
   ],
   "source": [
    "metrics['logistic_regression_upsampled'] = {'f1': f1_of_model, 'auc_roc': auc_roc}\n",
    "metrics"
   ]
  },
  {
   "cell_type": "markdown",
   "id": "99ce4bd1",
   "metadata": {},
   "source": [
    "#### Решающее дерево\n",
    "\n",
    "Обучим модель решающего дерева на увеличенной выборке. Наиболее удачная модель имеет глубину 6 уровней.\n",
    "\n",
    "У новой модели `f1 = 0.5693296602387511` и  `auc_roc = 0.8294428638289487`. Целевой показатель `f1` немного хуже, чем у модели, обученной с весовой балансировкой (`f1 = 0.5695970695970696`), и значительно хуже, чем у модели, обученной без учета дисбаланса (`f1 = 0.5796269727403156`).\n"
   ]
  },
  {
   "cell_type": "code",
   "execution_count": 51,
   "id": "6cf90e7f",
   "metadata": {
    "scrolled": true
   },
   "outputs": [
    {
     "name": "stdout",
     "output_type": "stream",
     "text": [
      "max_depth = 2 :   f1 = 0.4999999999999999  auc_roc = 0.7306869827076559\n",
      "max_depth = 3 :   f1 = 0.4999999999999999  auc_roc = 0.7873766812001183\n",
      "max_depth = 4 :   f1 = 0.5312783318223029  auc_roc = 0.8104531542516504\n",
      "max_depth = 5 :   f1 = 0.5647263249348392  auc_roc = 0.8347343334318651\n",
      "max_depth = 6 :   f1 = 0.5693296602387511  auc_roc = 0.8294428638289487\n",
      "max_depth = 7 :   f1 = 0.5690454124189064  auc_roc = 0.8344356586855849\n",
      "max_depth = 8 :   f1 = 0.5529075309818875  auc_roc = 0.8080914683712681\n",
      "max_depth = 9 :   f1 = 0.5516549648946841  auc_roc = 0.7976632550004925\n",
      "max_depth = 10 :   f1 = 0.5399792315680165  auc_roc = 0.7775296519361514\n",
      "max_depth = 11 :   f1 = 0.5622317596566524  auc_roc = 0.7650715279830526\n",
      "max_depth = 12 :   f1 = 0.5446623093681917  auc_roc = 0.7473542651985418\n",
      "max_depth = 13 :   f1 = 0.5369738339021616  auc_roc = 0.7332957680559661\n",
      "max_depth = 14 :   f1 = 0.5266821345707656  auc_roc = 0.7125070819785201\n",
      "max_depth = 15 :   f1 = 0.5235849056603773  auc_roc = 0.7134377463296877\n",
      "max_depth = 16 :   f1 = 0.5260606060606061  auc_roc = 0.7035630049758597\n",
      "max_depth = 17 :   f1 = 0.5110565110565111  auc_roc = 0.6935566311951917\n",
      "max_depth = 18 :   f1 = 0.5290482076637825  auc_roc = 0.7056960661148882\n",
      "max_depth = 19 :   f1 = 0.5146496815286624  auc_roc = 0.6932287047985023\n",
      "max_depth = 20 :   f1 = 0.5361596009975061  auc_roc = 0.7081216437580057\n",
      "\n",
      "best_model: DecisionTreeClassifier(max_depth=6, random_state=666)\n",
      "best_f1: 0.5693296602387511\n",
      "best_auc_roc: 0.8347343334318651\n"
     ]
    }
   ],
   "source": [
    "best_model = None\n",
    "best_f1 = 0\n",
    "best_auc_roc = 0\n",
    "tree_metrics = []\n",
    "\n",
    "for depth in range(2, 21):\n",
    "    model = DecisionTreeClassifier(max_depth=depth, random_state=666)\n",
    "    model.fit(features_upsampled, target_upsampled)\n",
    "              \n",
    "    predicted_valid = model.predict(features_valid)\n",
    "    f1_of_model = f1_score(target_valid, predicted_valid)\n",
    "    \n",
    "    probabilities_valid = model.predict_proba(features_valid)\n",
    "    probabilities_one_valid = probabilities_valid[:, 1]\n",
    "    auc_roc_of_model = roc_auc_score(target_valid, probabilities_one_valid)\n",
    "    \n",
    "    print(\"max_depth =\", depth, \": \", end='  ')\n",
    "    print('f1 =', f1_of_model, end='  ') \n",
    "    print('auc_roc =', auc_roc_of_model)\n",
    "    \n",
    "    tree_metrics.append([depth, f1_of_model, auc_roc_of_model])\n",
    "    if f1_of_model > best_f1:\n",
    "        best_f1 = f1_of_model\n",
    "        best_model = model\n",
    "    if auc_roc_of_model > best_auc_roc:\n",
    "        best_auc_roc = auc_roc_of_model\n",
    "        \n",
    "\n",
    "print()        \n",
    "print('best_model:', best_model)\n",
    "print('best_f1:', best_f1)\n",
    "print('best_auc_roc:', best_auc_roc)"
   ]
  },
  {
   "cell_type": "code",
   "execution_count": 52,
   "id": "7a30a0cb",
   "metadata": {},
   "outputs": [
    {
     "data": {
      "text/plain": [
       "{'logistic_regression_unbalanced': {'f1': 0.3309608540925267,\n",
       "  'auc_roc': 0.7454167282490886},\n",
       " 'tree_unbalanced': {'f1': 0.5796269727403156, 'auc_roc': 0.8185935806483398},\n",
       " 'forest_unbalanced': {'f1': 0.564885496183206, 'auc_roc': 0.8324888843728446},\n",
       " 'logistic_regression_class_weight_balanced': {'f1': 0.4716981132075472,\n",
       "  'auc_roc': 0.7508960242388412},\n",
       " 'tree_class_weight_balanced': {'f1': 0.5698427382053655,\n",
       "  'auc_roc': 0.8309500936052814},\n",
       " 'forest_class_weight_balanced': {'f1': 0.6146458583433373,\n",
       "  'auc_roc': 0.855629249187112},\n",
       " 'logistic_regression_upsampled': {'f1': 0.4731914893617022,\n",
       "  'auc_roc': 0.750965304463494},\n",
       " 'tree_upsampled': {'f1': 0.5693296602387511, 'auc_roc': 0.8294428638289487}}"
      ]
     },
     "execution_count": 52,
     "metadata": {},
     "output_type": "execute_result"
    }
   ],
   "source": [
    "metrics['tree_upsampled'] = {'f1': best_f1, 'auc_roc': 0.8294428638289487}\n",
    "metrics"
   ]
  },
  {
   "cell_type": "markdown",
   "id": "885997c9",
   "metadata": {},
   "source": [
    "#### Случайный лес\n",
    "Обучим модель случайного леса на увеличенной выборке. Наиболее точной из обученных этим методом моделей является модель случайного леса с 8 уровнями глубины и 20 деревьями-оценщиками.  \n",
    "\n",
    "Ее метрики `f1 = 0.607621009268795` и `auc_roc = 0.8568809119125038`. Значение `f1` хуже, чем у лучшей модели леса с весовой балансировкой (`f1 = 0.6148571428571429`); значение `auc_roc` новой модели лучше, но этот показатель не целевой."
   ]
  },
  {
   "cell_type": "code",
   "execution_count": 53,
   "id": "1d896194",
   "metadata": {},
   "outputs": [
    {
     "name": "stdout",
     "output_type": "stream",
     "text": [
      "max_depth = 2 :   f1 = 0.5050136736554239  auc_roc = 0.7903595797615529\n",
      "max_depth = 3 :   f1 = 0.5627376425855514  auc_roc = 0.8125731291260223\n",
      "max_depth = 4 :   f1 = 0.5597014925373135  auc_roc = 0.8324788772292836\n",
      "max_depth = 5 :   f1 = 0.5830039525691699  auc_roc = 0.8372153352547049\n",
      "max_depth = 6 :   f1 = 0.5780000000000001  auc_roc = 0.8479145112818995\n",
      "max_depth = 7 :   f1 = 0.5979166666666668  auc_roc = 0.8581487400236478\n",
      "max_depth = 8 :   f1 = 0.607621009268795  auc_roc = 0.8568809119125038\n",
      "max_depth = 9 :   f1 = 0.5966850828729281  auc_roc = 0.8502500246329688\n",
      "max_depth = 10 :   f1 = 0.5926748057713651  auc_roc = 0.8473009964035866\n",
      "max_depth = 11 :   f1 = 0.5819014891179839  auc_roc = 0.8504694120110355\n",
      "max_depth = 12 :   f1 = 0.5971223021582734  auc_roc = 0.8423051224258549\n",
      "max_depth = 13 :   f1 = 0.584652862362972  auc_roc = 0.8403206288796927\n",
      "max_depth = 14 :   f1 = 0.5944584382871536  auc_roc = 0.8318207150950832\n",
      "max_depth = 15 :   f1 = 0.5894465894465896  auc_roc = 0.841951793280126\n",
      "max_depth = 16 :   f1 = 0.5721716514954487  auc_roc = 0.8370990984333432\n",
      "max_depth = 17 :   f1 = 0.5844504021447722  auc_roc = 0.8392675694649719\n",
      "max_depth = 18 :   f1 = 0.585234899328859  auc_roc = 0.8314812419942853\n",
      "max_depth = 19 :   f1 = 0.5714285714285714  auc_roc = 0.8348813614641836\n",
      "max_depth = 20 :   f1 = 0.5686274509803922  auc_roc = 0.8345495861661248\n",
      "\n",
      "best_depth: 8\n",
      "best_model: RandomForestClassifier(max_depth=8, n_estimators=20, random_state=666)\n",
      "best_f1: 0.607621009268795\n",
      "best_auc_roc: 0.8581487400236478\n"
     ]
    }
   ],
   "source": [
    "best_depth = 1\n",
    "best_model = None\n",
    "best_f1 = 0\n",
    "best_auc_roc = 0\n",
    "forest_metrics = []\n",
    "\n",
    "# Сначала обучим лес с 20 деревьями-оценщиками и найдем оптимальную глубину\n",
    "\n",
    "for depth in range(2, 21):\n",
    "    model = RandomForestClassifier(n_estimators=20, max_depth=depth, random_state=666)\n",
    "    model.fit(features_upsampled, target_upsampled)\n",
    "    predicted_valid = model.predict(features_valid)\n",
    "    \n",
    "    f1_of_model = f1_score(target_valid, predicted_valid)\n",
    "    \n",
    "    probabilities_valid = model.predict_proba(features_valid)\n",
    "    probabilities_one_valid = probabilities_valid[:, 1]\n",
    "    auc_roc_of_model = roc_auc_score(target_valid, probabilities_one_valid)\n",
    "    \n",
    "    print(\"max_depth =\", depth, \": \", end='  ')\n",
    "    print('f1 =', f1_of_model, end='  ') \n",
    "    print('auc_roc =', auc_roc_of_model)\n",
    "    \n",
    "    forest_metrics.append([depth, f1_of_model, auc_roc_of_model])\n",
    "    if f1_of_model > best_f1:\n",
    "        best_depth = depth\n",
    "        best_model = model\n",
    "        best_f1 = f1_of_model\n",
    "    if auc_roc_of_model > best_auc_roc:\n",
    "        best_auc_roc = auc_roc_of_model\n",
    "    \n",
    "print()        \n",
    "print('best_depth:', best_depth)\n",
    "print('best_model:', best_model)\n",
    "print('best_f1:', best_f1)\n",
    "print('best_auc_roc:', best_auc_roc)"
   ]
  },
  {
   "cell_type": "code",
   "execution_count": 69,
   "id": "b385ecaf",
   "metadata": {
    "scrolled": false
   },
   "outputs": [
    {
     "name": "stdout",
     "output_type": "stream",
     "text": [
      "0\n",
      "1\n",
      "2\n",
      "3\n",
      "4\n",
      "5\n",
      "6\n",
      "7\n",
      "8\n",
      "9\n",
      "10\n",
      "11\n",
      "12\n",
      "13\n",
      "14\n",
      "15\n",
      "16\n",
      "17\n",
      "18\n",
      "19\n",
      "20\n",
      "21\n",
      "22\n",
      "23\n",
      "24\n",
      "25\n",
      "26\n",
      "27\n",
      "28\n",
      "29\n",
      "30\n",
      "31\n",
      "32\n",
      "33\n",
      "34\n",
      "35\n",
      "36\n",
      "37\n",
      "38\n",
      "39\n",
      "40\n",
      "41\n",
      "42\n",
      "43\n",
      "44\n",
      "45\n",
      "46\n",
      "47\n",
      "48\n",
      "49\n",
      "50\n",
      "51\n",
      "52\n",
      "53\n",
      "54\n",
      "55\n",
      "56\n",
      "57\n",
      "58\n",
      "59\n",
      "60\n",
      "61\n",
      "62\n",
      "63\n",
      "64\n",
      "65\n",
      "66\n",
      "67\n",
      "68\n",
      "69\n",
      "70\n",
      "71\n",
      "72\n",
      "73\n",
      "74\n",
      "75\n",
      "76\n",
      "77\n",
      "78\n",
      "79\n",
      "80\n",
      "81\n",
      "82\n",
      "83\n",
      "84\n",
      "85\n",
      "86\n",
      "87\n",
      "88\n",
      "89\n",
      "90\n",
      "91\n",
      "92\n",
      "93\n",
      "94\n",
      "95\n",
      "96\n",
      "97\n",
      "98\n",
      "99\n",
      "100\n",
      "101\n",
      "102\n",
      "103\n",
      "104\n",
      "105\n",
      "106\n",
      "107\n",
      "108\n",
      "109\n",
      "110\n",
      "111\n",
      "112\n",
      "113\n",
      "114\n",
      "115\n",
      "116\n",
      "117\n",
      "118\n",
      "119\n",
      "120\n",
      "121\n",
      "122\n",
      "123\n",
      "124\n",
      "125\n",
      "126\n",
      "127\n",
      "128\n",
      "129\n",
      "130\n",
      "131\n",
      "132\n",
      "133\n",
      "134\n",
      "135\n",
      "136\n",
      "137\n",
      "138\n",
      "139\n",
      "140\n",
      "141\n",
      "142\n",
      "143\n",
      "144\n",
      "145\n",
      "146\n",
      "147\n",
      "148\n",
      "149\n",
      "150\n",
      "151\n",
      "152\n",
      "153\n",
      "154\n",
      "155\n",
      "156\n",
      "157\n",
      "158\n",
      "159\n",
      "160\n",
      "161\n",
      "162\n",
      "163\n",
      "164\n",
      "165\n",
      "166\n",
      "167\n",
      "168\n",
      "169\n"
     ]
    },
    {
     "ename": "KeyboardInterrupt",
     "evalue": "",
     "output_type": "error",
     "traceback": [
      "\u001b[0;31m---------------------------------------------------------------------------\u001b[0m",
      "\u001b[0;31mKeyboardInterrupt\u001b[0m                         Traceback (most recent call last)",
      "\u001b[0;32m/tmp/ipykernel_67372/4184689842.py\u001b[0m in \u001b[0;36m<module>\u001b[0;34m\u001b[0m\n\u001b[1;32m     24\u001b[0m \u001b[0;34m\u001b[0m\u001b[0m\n\u001b[1;32m     25\u001b[0m                     \u001b[0mmodel\u001b[0m\u001b[0;34m.\u001b[0m\u001b[0mfit\u001b[0m\u001b[0;34m(\u001b[0m\u001b[0mfeatures_upsampled\u001b[0m\u001b[0;34m,\u001b[0m \u001b[0mtarget_upsampled\u001b[0m\u001b[0;34m)\u001b[0m\u001b[0;34m\u001b[0m\u001b[0;34m\u001b[0m\u001b[0m\n\u001b[0;32m---> 26\u001b[0;31m                     \u001b[0mpredicted_valid\u001b[0m \u001b[0;34m=\u001b[0m \u001b[0mmodel\u001b[0m\u001b[0;34m.\u001b[0m\u001b[0mpredict\u001b[0m\u001b[0;34m(\u001b[0m\u001b[0mfeatures_valid\u001b[0m\u001b[0;34m)\u001b[0m\u001b[0;34m\u001b[0m\u001b[0;34m\u001b[0m\u001b[0m\n\u001b[0m\u001b[1;32m     27\u001b[0m \u001b[0;34m\u001b[0m\u001b[0m\n\u001b[1;32m     28\u001b[0m                     \u001b[0mf1_of_model\u001b[0m \u001b[0;34m=\u001b[0m \u001b[0mf1_score\u001b[0m\u001b[0;34m(\u001b[0m\u001b[0mtarget_valid\u001b[0m\u001b[0;34m,\u001b[0m \u001b[0mpredicted_valid\u001b[0m\u001b[0;34m)\u001b[0m\u001b[0;34m\u001b[0m\u001b[0;34m\u001b[0m\u001b[0m\n",
      "\u001b[0;32m~/.local/lib/python3.8/site-packages/sklearn/ensemble/_forest.py\u001b[0m in \u001b[0;36mpredict\u001b[0;34m(self, X)\u001b[0m\n\u001b[1;32m    806\u001b[0m             \u001b[0mThe\u001b[0m \u001b[0mpredicted\u001b[0m \u001b[0mclasses\u001b[0m\u001b[0;34m.\u001b[0m\u001b[0;34m\u001b[0m\u001b[0;34m\u001b[0m\u001b[0m\n\u001b[1;32m    807\u001b[0m         \"\"\"\n\u001b[0;32m--> 808\u001b[0;31m         \u001b[0mproba\u001b[0m \u001b[0;34m=\u001b[0m \u001b[0mself\u001b[0m\u001b[0;34m.\u001b[0m\u001b[0mpredict_proba\u001b[0m\u001b[0;34m(\u001b[0m\u001b[0mX\u001b[0m\u001b[0;34m)\u001b[0m\u001b[0;34m\u001b[0m\u001b[0;34m\u001b[0m\u001b[0m\n\u001b[0m\u001b[1;32m    809\u001b[0m \u001b[0;34m\u001b[0m\u001b[0m\n\u001b[1;32m    810\u001b[0m         \u001b[0;32mif\u001b[0m \u001b[0mself\u001b[0m\u001b[0;34m.\u001b[0m\u001b[0mn_outputs_\u001b[0m \u001b[0;34m==\u001b[0m \u001b[0;36m1\u001b[0m\u001b[0;34m:\u001b[0m\u001b[0;34m\u001b[0m\u001b[0;34m\u001b[0m\u001b[0m\n",
      "\u001b[0;32m~/.local/lib/python3.8/site-packages/sklearn/ensemble/_forest.py\u001b[0m in \u001b[0;36mpredict_proba\u001b[0;34m(self, X)\u001b[0m\n\u001b[1;32m    859\u001b[0m         ]\n\u001b[1;32m    860\u001b[0m         \u001b[0mlock\u001b[0m \u001b[0;34m=\u001b[0m \u001b[0mthreading\u001b[0m\u001b[0;34m.\u001b[0m\u001b[0mLock\u001b[0m\u001b[0;34m(\u001b[0m\u001b[0;34m)\u001b[0m\u001b[0;34m\u001b[0m\u001b[0;34m\u001b[0m\u001b[0m\n\u001b[0;32m--> 861\u001b[0;31m         Parallel(\n\u001b[0m\u001b[1;32m    862\u001b[0m             \u001b[0mn_jobs\u001b[0m\u001b[0;34m=\u001b[0m\u001b[0mn_jobs\u001b[0m\u001b[0;34m,\u001b[0m\u001b[0;34m\u001b[0m\u001b[0;34m\u001b[0m\u001b[0m\n\u001b[1;32m    863\u001b[0m             \u001b[0mverbose\u001b[0m\u001b[0;34m=\u001b[0m\u001b[0mself\u001b[0m\u001b[0;34m.\u001b[0m\u001b[0mverbose\u001b[0m\u001b[0;34m,\u001b[0m\u001b[0;34m\u001b[0m\u001b[0;34m\u001b[0m\u001b[0m\n",
      "\u001b[0;32m~/.local/lib/python3.8/site-packages/joblib/parallel.py\u001b[0m in \u001b[0;36m__call__\u001b[0;34m(self, iterable)\u001b[0m\n\u001b[1;32m   1041\u001b[0m             \u001b[0;31m# remaining jobs.\u001b[0m\u001b[0;34m\u001b[0m\u001b[0;34m\u001b[0m\u001b[0;34m\u001b[0m\u001b[0m\n\u001b[1;32m   1042\u001b[0m             \u001b[0mself\u001b[0m\u001b[0;34m.\u001b[0m\u001b[0m_iterating\u001b[0m \u001b[0;34m=\u001b[0m \u001b[0;32mFalse\u001b[0m\u001b[0;34m\u001b[0m\u001b[0;34m\u001b[0m\u001b[0m\n\u001b[0;32m-> 1043\u001b[0;31m             \u001b[0;32mif\u001b[0m \u001b[0mself\u001b[0m\u001b[0;34m.\u001b[0m\u001b[0mdispatch_one_batch\u001b[0m\u001b[0;34m(\u001b[0m\u001b[0miterator\u001b[0m\u001b[0;34m)\u001b[0m\u001b[0;34m:\u001b[0m\u001b[0;34m\u001b[0m\u001b[0;34m\u001b[0m\u001b[0m\n\u001b[0m\u001b[1;32m   1044\u001b[0m                 \u001b[0mself\u001b[0m\u001b[0;34m.\u001b[0m\u001b[0m_iterating\u001b[0m \u001b[0;34m=\u001b[0m \u001b[0mself\u001b[0m\u001b[0;34m.\u001b[0m\u001b[0m_original_iterator\u001b[0m \u001b[0;32mis\u001b[0m \u001b[0;32mnot\u001b[0m \u001b[0;32mNone\u001b[0m\u001b[0;34m\u001b[0m\u001b[0;34m\u001b[0m\u001b[0m\n\u001b[1;32m   1045\u001b[0m \u001b[0;34m\u001b[0m\u001b[0m\n",
      "\u001b[0;32m~/.local/lib/python3.8/site-packages/joblib/parallel.py\u001b[0m in \u001b[0;36mdispatch_one_batch\u001b[0;34m(self, iterator)\u001b[0m\n\u001b[1;32m    859\u001b[0m                 \u001b[0;32mreturn\u001b[0m \u001b[0;32mFalse\u001b[0m\u001b[0;34m\u001b[0m\u001b[0;34m\u001b[0m\u001b[0m\n\u001b[1;32m    860\u001b[0m             \u001b[0;32melse\u001b[0m\u001b[0;34m:\u001b[0m\u001b[0;34m\u001b[0m\u001b[0;34m\u001b[0m\u001b[0m\n\u001b[0;32m--> 861\u001b[0;31m                 \u001b[0mself\u001b[0m\u001b[0;34m.\u001b[0m\u001b[0m_dispatch\u001b[0m\u001b[0;34m(\u001b[0m\u001b[0mtasks\u001b[0m\u001b[0;34m)\u001b[0m\u001b[0;34m\u001b[0m\u001b[0;34m\u001b[0m\u001b[0m\n\u001b[0m\u001b[1;32m    862\u001b[0m                 \u001b[0;32mreturn\u001b[0m \u001b[0;32mTrue\u001b[0m\u001b[0;34m\u001b[0m\u001b[0;34m\u001b[0m\u001b[0m\n\u001b[1;32m    863\u001b[0m \u001b[0;34m\u001b[0m\u001b[0m\n",
      "\u001b[0;32m~/.local/lib/python3.8/site-packages/joblib/parallel.py\u001b[0m in \u001b[0;36m_dispatch\u001b[0;34m(self, batch)\u001b[0m\n\u001b[1;32m    777\u001b[0m         \u001b[0;32mwith\u001b[0m \u001b[0mself\u001b[0m\u001b[0;34m.\u001b[0m\u001b[0m_lock\u001b[0m\u001b[0;34m:\u001b[0m\u001b[0;34m\u001b[0m\u001b[0;34m\u001b[0m\u001b[0m\n\u001b[1;32m    778\u001b[0m             \u001b[0mjob_idx\u001b[0m \u001b[0;34m=\u001b[0m \u001b[0mlen\u001b[0m\u001b[0;34m(\u001b[0m\u001b[0mself\u001b[0m\u001b[0;34m.\u001b[0m\u001b[0m_jobs\u001b[0m\u001b[0;34m)\u001b[0m\u001b[0;34m\u001b[0m\u001b[0;34m\u001b[0m\u001b[0m\n\u001b[0;32m--> 779\u001b[0;31m             \u001b[0mjob\u001b[0m \u001b[0;34m=\u001b[0m \u001b[0mself\u001b[0m\u001b[0;34m.\u001b[0m\u001b[0m_backend\u001b[0m\u001b[0;34m.\u001b[0m\u001b[0mapply_async\u001b[0m\u001b[0;34m(\u001b[0m\u001b[0mbatch\u001b[0m\u001b[0;34m,\u001b[0m \u001b[0mcallback\u001b[0m\u001b[0;34m=\u001b[0m\u001b[0mcb\u001b[0m\u001b[0;34m)\u001b[0m\u001b[0;34m\u001b[0m\u001b[0;34m\u001b[0m\u001b[0m\n\u001b[0m\u001b[1;32m    780\u001b[0m             \u001b[0;31m# A job can complete so quickly than its callback is\u001b[0m\u001b[0;34m\u001b[0m\u001b[0;34m\u001b[0m\u001b[0;34m\u001b[0m\u001b[0m\n\u001b[1;32m    781\u001b[0m             \u001b[0;31m# called before we get here, causing self._jobs to\u001b[0m\u001b[0;34m\u001b[0m\u001b[0;34m\u001b[0m\u001b[0;34m\u001b[0m\u001b[0m\n",
      "\u001b[0;32m~/.local/lib/python3.8/site-packages/joblib/_parallel_backends.py\u001b[0m in \u001b[0;36mapply_async\u001b[0;34m(self, func, callback)\u001b[0m\n\u001b[1;32m    250\u001b[0m     \u001b[0;32mdef\u001b[0m \u001b[0mapply_async\u001b[0m\u001b[0;34m(\u001b[0m\u001b[0mself\u001b[0m\u001b[0;34m,\u001b[0m \u001b[0mfunc\u001b[0m\u001b[0;34m,\u001b[0m \u001b[0mcallback\u001b[0m\u001b[0;34m=\u001b[0m\u001b[0;32mNone\u001b[0m\u001b[0;34m)\u001b[0m\u001b[0;34m:\u001b[0m\u001b[0;34m\u001b[0m\u001b[0;34m\u001b[0m\u001b[0m\n\u001b[1;32m    251\u001b[0m         \u001b[0;34m\"\"\"Schedule a func to be run\"\"\"\u001b[0m\u001b[0;34m\u001b[0m\u001b[0;34m\u001b[0m\u001b[0m\n\u001b[0;32m--> 252\u001b[0;31m         return self._get_pool().apply_async(\n\u001b[0m\u001b[1;32m    253\u001b[0m             SafeFunction(func), callback=callback)\n\u001b[1;32m    254\u001b[0m \u001b[0;34m\u001b[0m\u001b[0m\n",
      "\u001b[0;32m~/.local/lib/python3.8/site-packages/joblib/_parallel_backends.py\u001b[0m in \u001b[0;36m_get_pool\u001b[0;34m(self)\u001b[0m\n\u001b[1;32m    405\u001b[0m         \"\"\"\n\u001b[1;32m    406\u001b[0m         \u001b[0;32mif\u001b[0m \u001b[0mself\u001b[0m\u001b[0;34m.\u001b[0m\u001b[0m_pool\u001b[0m \u001b[0;32mis\u001b[0m \u001b[0;32mNone\u001b[0m\u001b[0;34m:\u001b[0m\u001b[0;34m\u001b[0m\u001b[0;34m\u001b[0m\u001b[0m\n\u001b[0;32m--> 407\u001b[0;31m             \u001b[0mself\u001b[0m\u001b[0;34m.\u001b[0m\u001b[0m_pool\u001b[0m \u001b[0;34m=\u001b[0m \u001b[0mThreadPool\u001b[0m\u001b[0;34m(\u001b[0m\u001b[0mself\u001b[0m\u001b[0;34m.\u001b[0m\u001b[0m_n_jobs\u001b[0m\u001b[0;34m)\u001b[0m\u001b[0;34m\u001b[0m\u001b[0;34m\u001b[0m\u001b[0m\n\u001b[0m\u001b[1;32m    408\u001b[0m         \u001b[0;32mreturn\u001b[0m \u001b[0mself\u001b[0m\u001b[0;34m.\u001b[0m\u001b[0m_pool\u001b[0m\u001b[0;34m\u001b[0m\u001b[0;34m\u001b[0m\u001b[0m\n\u001b[1;32m    409\u001b[0m \u001b[0;34m\u001b[0m\u001b[0m\n",
      "\u001b[0;32m/usr/lib/python3.8/multiprocessing/pool.py\u001b[0m in \u001b[0;36m__init__\u001b[0;34m(self, processes, initializer, initargs)\u001b[0m\n\u001b[1;32m    923\u001b[0m \u001b[0;34m\u001b[0m\u001b[0m\n\u001b[1;32m    924\u001b[0m     \u001b[0;32mdef\u001b[0m \u001b[0m__init__\u001b[0m\u001b[0;34m(\u001b[0m\u001b[0mself\u001b[0m\u001b[0;34m,\u001b[0m \u001b[0mprocesses\u001b[0m\u001b[0;34m=\u001b[0m\u001b[0;32mNone\u001b[0m\u001b[0;34m,\u001b[0m \u001b[0minitializer\u001b[0m\u001b[0;34m=\u001b[0m\u001b[0;32mNone\u001b[0m\u001b[0;34m,\u001b[0m \u001b[0minitargs\u001b[0m\u001b[0;34m=\u001b[0m\u001b[0;34m(\u001b[0m\u001b[0;34m)\u001b[0m\u001b[0;34m)\u001b[0m\u001b[0;34m:\u001b[0m\u001b[0;34m\u001b[0m\u001b[0;34m\u001b[0m\u001b[0m\n\u001b[0;32m--> 925\u001b[0;31m         \u001b[0mPool\u001b[0m\u001b[0;34m.\u001b[0m\u001b[0m__init__\u001b[0m\u001b[0;34m(\u001b[0m\u001b[0mself\u001b[0m\u001b[0;34m,\u001b[0m \u001b[0mprocesses\u001b[0m\u001b[0;34m,\u001b[0m \u001b[0minitializer\u001b[0m\u001b[0;34m,\u001b[0m \u001b[0minitargs\u001b[0m\u001b[0;34m)\u001b[0m\u001b[0;34m\u001b[0m\u001b[0;34m\u001b[0m\u001b[0m\n\u001b[0m\u001b[1;32m    926\u001b[0m \u001b[0;34m\u001b[0m\u001b[0m\n\u001b[1;32m    927\u001b[0m     \u001b[0;32mdef\u001b[0m \u001b[0m_setup_queues\u001b[0m\u001b[0;34m(\u001b[0m\u001b[0mself\u001b[0m\u001b[0;34m)\u001b[0m\u001b[0;34m:\u001b[0m\u001b[0;34m\u001b[0m\u001b[0;34m\u001b[0m\u001b[0m\n",
      "\u001b[0;32m/usr/lib/python3.8/multiprocessing/pool.py\u001b[0m in \u001b[0;36m__init__\u001b[0;34m(self, processes, initializer, initargs, maxtasksperchild, context)\u001b[0m\n\u001b[1;32m    210\u001b[0m         \u001b[0mself\u001b[0m\u001b[0;34m.\u001b[0m\u001b[0m_processes\u001b[0m \u001b[0;34m=\u001b[0m \u001b[0mprocesses\u001b[0m\u001b[0;34m\u001b[0m\u001b[0;34m\u001b[0m\u001b[0m\n\u001b[1;32m    211\u001b[0m         \u001b[0;32mtry\u001b[0m\u001b[0;34m:\u001b[0m\u001b[0;34m\u001b[0m\u001b[0;34m\u001b[0m\u001b[0m\n\u001b[0;32m--> 212\u001b[0;31m             \u001b[0mself\u001b[0m\u001b[0;34m.\u001b[0m\u001b[0m_repopulate_pool\u001b[0m\u001b[0;34m(\u001b[0m\u001b[0;34m)\u001b[0m\u001b[0;34m\u001b[0m\u001b[0;34m\u001b[0m\u001b[0m\n\u001b[0m\u001b[1;32m    213\u001b[0m         \u001b[0;32mexcept\u001b[0m \u001b[0mException\u001b[0m\u001b[0;34m:\u001b[0m\u001b[0;34m\u001b[0m\u001b[0;34m\u001b[0m\u001b[0m\n\u001b[1;32m    214\u001b[0m             \u001b[0;32mfor\u001b[0m \u001b[0mp\u001b[0m \u001b[0;32min\u001b[0m \u001b[0mself\u001b[0m\u001b[0;34m.\u001b[0m\u001b[0m_pool\u001b[0m\u001b[0;34m:\u001b[0m\u001b[0;34m\u001b[0m\u001b[0;34m\u001b[0m\u001b[0m\n",
      "\u001b[0;32m/usr/lib/python3.8/multiprocessing/pool.py\u001b[0m in \u001b[0;36m_repopulate_pool\u001b[0;34m(self)\u001b[0m\n\u001b[1;32m    301\u001b[0m \u001b[0;34m\u001b[0m\u001b[0m\n\u001b[1;32m    302\u001b[0m     \u001b[0;32mdef\u001b[0m \u001b[0m_repopulate_pool\u001b[0m\u001b[0;34m(\u001b[0m\u001b[0mself\u001b[0m\u001b[0;34m)\u001b[0m\u001b[0;34m:\u001b[0m\u001b[0;34m\u001b[0m\u001b[0;34m\u001b[0m\u001b[0m\n\u001b[0;32m--> 303\u001b[0;31m         return self._repopulate_pool_static(self._ctx, self.Process,\n\u001b[0m\u001b[1;32m    304\u001b[0m                                             \u001b[0mself\u001b[0m\u001b[0;34m.\u001b[0m\u001b[0m_processes\u001b[0m\u001b[0;34m,\u001b[0m\u001b[0;34m\u001b[0m\u001b[0;34m\u001b[0m\u001b[0m\n\u001b[1;32m    305\u001b[0m                                             \u001b[0mself\u001b[0m\u001b[0;34m.\u001b[0m\u001b[0m_pool\u001b[0m\u001b[0;34m,\u001b[0m \u001b[0mself\u001b[0m\u001b[0;34m.\u001b[0m\u001b[0m_inqueue\u001b[0m\u001b[0;34m,\u001b[0m\u001b[0;34m\u001b[0m\u001b[0;34m\u001b[0m\u001b[0m\n",
      "\u001b[0;32m/usr/lib/python3.8/multiprocessing/pool.py\u001b[0m in \u001b[0;36m_repopulate_pool_static\u001b[0;34m(ctx, Process, processes, pool, inqueue, outqueue, initializer, initargs, maxtasksperchild, wrap_exception)\u001b[0m\n\u001b[1;32m    324\u001b[0m             \u001b[0mw\u001b[0m\u001b[0;34m.\u001b[0m\u001b[0mname\u001b[0m \u001b[0;34m=\u001b[0m \u001b[0mw\u001b[0m\u001b[0;34m.\u001b[0m\u001b[0mname\u001b[0m\u001b[0;34m.\u001b[0m\u001b[0mreplace\u001b[0m\u001b[0;34m(\u001b[0m\u001b[0;34m'Process'\u001b[0m\u001b[0;34m,\u001b[0m \u001b[0;34m'PoolWorker'\u001b[0m\u001b[0;34m)\u001b[0m\u001b[0;34m\u001b[0m\u001b[0;34m\u001b[0m\u001b[0m\n\u001b[1;32m    325\u001b[0m             \u001b[0mw\u001b[0m\u001b[0;34m.\u001b[0m\u001b[0mdaemon\u001b[0m \u001b[0;34m=\u001b[0m \u001b[0;32mTrue\u001b[0m\u001b[0;34m\u001b[0m\u001b[0;34m\u001b[0m\u001b[0m\n\u001b[0;32m--> 326\u001b[0;31m             \u001b[0mw\u001b[0m\u001b[0;34m.\u001b[0m\u001b[0mstart\u001b[0m\u001b[0;34m(\u001b[0m\u001b[0;34m)\u001b[0m\u001b[0;34m\u001b[0m\u001b[0;34m\u001b[0m\u001b[0m\n\u001b[0m\u001b[1;32m    327\u001b[0m             \u001b[0mpool\u001b[0m\u001b[0;34m.\u001b[0m\u001b[0mappend\u001b[0m\u001b[0;34m(\u001b[0m\u001b[0mw\u001b[0m\u001b[0;34m)\u001b[0m\u001b[0;34m\u001b[0m\u001b[0;34m\u001b[0m\u001b[0m\n\u001b[1;32m    328\u001b[0m             \u001b[0mutil\u001b[0m\u001b[0;34m.\u001b[0m\u001b[0mdebug\u001b[0m\u001b[0;34m(\u001b[0m\u001b[0;34m'added worker'\u001b[0m\u001b[0;34m)\u001b[0m\u001b[0;34m\u001b[0m\u001b[0;34m\u001b[0m\u001b[0m\n",
      "\u001b[0;32m/usr/lib/python3.8/multiprocessing/dummy/__init__.py\u001b[0m in \u001b[0;36mstart\u001b[0;34m(self)\u001b[0m\n\u001b[1;32m     49\u001b[0m         \u001b[0;32mif\u001b[0m \u001b[0mhasattr\u001b[0m\u001b[0;34m(\u001b[0m\u001b[0mself\u001b[0m\u001b[0;34m.\u001b[0m\u001b[0m_parent\u001b[0m\u001b[0;34m,\u001b[0m \u001b[0;34m'_children'\u001b[0m\u001b[0;34m)\u001b[0m\u001b[0;34m:\u001b[0m\u001b[0;34m\u001b[0m\u001b[0;34m\u001b[0m\u001b[0m\n\u001b[1;32m     50\u001b[0m             \u001b[0mself\u001b[0m\u001b[0;34m.\u001b[0m\u001b[0m_parent\u001b[0m\u001b[0;34m.\u001b[0m\u001b[0m_children\u001b[0m\u001b[0;34m[\u001b[0m\u001b[0mself\u001b[0m\u001b[0;34m]\u001b[0m \u001b[0;34m=\u001b[0m \u001b[0;32mNone\u001b[0m\u001b[0;34m\u001b[0m\u001b[0;34m\u001b[0m\u001b[0m\n\u001b[0;32m---> 51\u001b[0;31m         \u001b[0mthreading\u001b[0m\u001b[0;34m.\u001b[0m\u001b[0mThread\u001b[0m\u001b[0;34m.\u001b[0m\u001b[0mstart\u001b[0m\u001b[0;34m(\u001b[0m\u001b[0mself\u001b[0m\u001b[0;34m)\u001b[0m\u001b[0;34m\u001b[0m\u001b[0;34m\u001b[0m\u001b[0m\n\u001b[0m\u001b[1;32m     52\u001b[0m \u001b[0;34m\u001b[0m\u001b[0m\n\u001b[1;32m     53\u001b[0m     \u001b[0;34m@\u001b[0m\u001b[0mproperty\u001b[0m\u001b[0;34m\u001b[0m\u001b[0;34m\u001b[0m\u001b[0m\n",
      "\u001b[0;32m/usr/lib/python3.8/threading.py\u001b[0m in \u001b[0;36mstart\u001b[0;34m(self)\u001b[0m\n\u001b[1;32m    855\u001b[0m                 \u001b[0;32mdel\u001b[0m \u001b[0m_limbo\u001b[0m\u001b[0;34m[\u001b[0m\u001b[0mself\u001b[0m\u001b[0;34m]\u001b[0m\u001b[0;34m\u001b[0m\u001b[0;34m\u001b[0m\u001b[0m\n\u001b[1;32m    856\u001b[0m             \u001b[0;32mraise\u001b[0m\u001b[0;34m\u001b[0m\u001b[0;34m\u001b[0m\u001b[0m\n\u001b[0;32m--> 857\u001b[0;31m         \u001b[0mself\u001b[0m\u001b[0;34m.\u001b[0m\u001b[0m_started\u001b[0m\u001b[0;34m.\u001b[0m\u001b[0mwait\u001b[0m\u001b[0;34m(\u001b[0m\u001b[0;34m)\u001b[0m\u001b[0;34m\u001b[0m\u001b[0;34m\u001b[0m\u001b[0m\n\u001b[0m\u001b[1;32m    858\u001b[0m \u001b[0;34m\u001b[0m\u001b[0m\n\u001b[1;32m    859\u001b[0m     \u001b[0;32mdef\u001b[0m \u001b[0mrun\u001b[0m\u001b[0;34m(\u001b[0m\u001b[0mself\u001b[0m\u001b[0;34m)\u001b[0m\u001b[0;34m:\u001b[0m\u001b[0;34m\u001b[0m\u001b[0;34m\u001b[0m\u001b[0m\n",
      "\u001b[0;32m/usr/lib/python3.8/threading.py\u001b[0m in \u001b[0;36mwait\u001b[0;34m(self, timeout)\u001b[0m\n\u001b[1;32m    556\u001b[0m             \u001b[0msignaled\u001b[0m \u001b[0;34m=\u001b[0m \u001b[0mself\u001b[0m\u001b[0;34m.\u001b[0m\u001b[0m_flag\u001b[0m\u001b[0;34m\u001b[0m\u001b[0;34m\u001b[0m\u001b[0m\n\u001b[1;32m    557\u001b[0m             \u001b[0;32mif\u001b[0m \u001b[0;32mnot\u001b[0m \u001b[0msignaled\u001b[0m\u001b[0;34m:\u001b[0m\u001b[0;34m\u001b[0m\u001b[0;34m\u001b[0m\u001b[0m\n\u001b[0;32m--> 558\u001b[0;31m                 \u001b[0msignaled\u001b[0m \u001b[0;34m=\u001b[0m \u001b[0mself\u001b[0m\u001b[0;34m.\u001b[0m\u001b[0m_cond\u001b[0m\u001b[0;34m.\u001b[0m\u001b[0mwait\u001b[0m\u001b[0;34m(\u001b[0m\u001b[0mtimeout\u001b[0m\u001b[0;34m)\u001b[0m\u001b[0;34m\u001b[0m\u001b[0;34m\u001b[0m\u001b[0m\n\u001b[0m\u001b[1;32m    559\u001b[0m             \u001b[0;32mreturn\u001b[0m \u001b[0msignaled\u001b[0m\u001b[0;34m\u001b[0m\u001b[0;34m\u001b[0m\u001b[0m\n\u001b[1;32m    560\u001b[0m \u001b[0;34m\u001b[0m\u001b[0m\n",
      "\u001b[0;32m/usr/lib/python3.8/threading.py\u001b[0m in \u001b[0;36mwait\u001b[0;34m(self, timeout)\u001b[0m\n\u001b[1;32m    300\u001b[0m         \u001b[0;32mtry\u001b[0m\u001b[0;34m:\u001b[0m    \u001b[0;31m# restore state no matter what (e.g., KeyboardInterrupt)\u001b[0m\u001b[0;34m\u001b[0m\u001b[0;34m\u001b[0m\u001b[0m\n\u001b[1;32m    301\u001b[0m             \u001b[0;32mif\u001b[0m \u001b[0mtimeout\u001b[0m \u001b[0;32mis\u001b[0m \u001b[0;32mNone\u001b[0m\u001b[0;34m:\u001b[0m\u001b[0;34m\u001b[0m\u001b[0;34m\u001b[0m\u001b[0m\n\u001b[0;32m--> 302\u001b[0;31m                 \u001b[0mwaiter\u001b[0m\u001b[0;34m.\u001b[0m\u001b[0macquire\u001b[0m\u001b[0;34m(\u001b[0m\u001b[0;34m)\u001b[0m\u001b[0;34m\u001b[0m\u001b[0;34m\u001b[0m\u001b[0m\n\u001b[0m\u001b[1;32m    303\u001b[0m                 \u001b[0mgotit\u001b[0m \u001b[0;34m=\u001b[0m \u001b[0;32mTrue\u001b[0m\u001b[0;34m\u001b[0m\u001b[0;34m\u001b[0m\u001b[0m\n\u001b[1;32m    304\u001b[0m             \u001b[0;32melse\u001b[0m\u001b[0;34m:\u001b[0m\u001b[0;34m\u001b[0m\u001b[0;34m\u001b[0m\u001b[0m\n",
      "\u001b[0;31mKeyboardInterrupt\u001b[0m: "
     ]
    }
   ],
   "source": [
    "best_auc_roc = 0\n",
    "best_f1 = 0\n",
    "forest_models = []\n",
    "cycle_index = 0\n",
    "\n",
    "\n",
    "for this_criterion in ['gini', 'entropy']:\n",
    "    for estimators in range(2, 60, 5):\n",
    "        for depth in range(2, 30):\n",
    "            for min_split in range(2, 5):\n",
    "                for min_leaf in range(1, 5):\n",
    "                    \n",
    "                    print(cycle_index)\n",
    "                    cycle_index += 1\n",
    "                    \n",
    "                    model = RandomForestClassifier(\n",
    "                        random_state=12345, \n",
    "                        criterion=this_criterion,\n",
    "                        n_estimators=estimators, \n",
    "                        max_depth=depth, \n",
    "                        min_samples_split=min_split, \n",
    "                        min_samples_leaf=min_leaf,\n",
    "                        n_jobs=-1)\n",
    "                    \n",
    "                    model.fit(features_upsampled, target_upsampled)\n",
    "                    predicted_valid = model.predict(features_valid)\n",
    "                    \n",
    "                    f1_of_model = f1_score(target_valid, predicted_valid)\n",
    "                    \n",
    "                    probabilities_valid = model.predict_proba(features_valid)\n",
    "                    probabilities_one_valid = probabilities_valid[:, 1]\n",
    "                    auc_roc_of_model = roc_auc_score(target_valid, probabilities_one_valid)\n",
    "\n",
    "                    forest_models.append([this_criterion, \n",
    "                                          estimators,\n",
    "                                          depth,\n",
    "                                          min_split,\n",
    "                                          min_leaf,\n",
    "                                          auc_roc_of_model, \n",
    "                                          f1_of_model])\n",
    "\n",
    "                    if auc_roc_of_model > best_auc_roc:\n",
    "                        best_auc_roc = auc_roc_of_model\n",
    "                    if f1_of_model > best_f1:\n",
    "                        best_f1 = f1_of_model\n",
    "                    \n",
    "print(\"Лучший auc_roc леса на валидационной выборке:\", best_auc_roc)\n",
    "print(\"Лучший f1_score леса на валидационной выборке:\", best_f1)"
   ]
  },
  {
   "cell_type": "code",
   "execution_count": 55,
   "id": "e9758169",
   "metadata": {},
   "outputs": [
    {
     "data": {
      "text/plain": [
       "{'logistic_regression_unbalanced': {'f1': 0.3309608540925267,\n",
       "  'auc_roc': 0.7454167282490886},\n",
       " 'tree_unbalanced': {'f1': 0.5796269727403156, 'auc_roc': 0.8185935806483398},\n",
       " 'forest_unbalanced': {'f1': 0.564885496183206, 'auc_roc': 0.8324888843728446},\n",
       " 'logistic_regression_class_weight_balanced': {'f1': 0.4716981132075472,\n",
       "  'auc_roc': 0.7508960242388412},\n",
       " 'tree_class_weight_balanced': {'f1': 0.5698427382053655,\n",
       "  'auc_roc': 0.8309500936052814},\n",
       " 'forest_class_weight_balanced': {'f1': 0.6146458583433373,\n",
       "  'auc_roc': 0.855629249187112},\n",
       " 'logistic_regression_upsampled': {'f1': 0.4731914893617022,\n",
       "  'auc_roc': 0.750965304463494},\n",
       " 'tree_upsampled': {'f1': 0.5693296602387511, 'auc_roc': 0.8294428638289487},\n",
       " 'forest_upsampled': {'f1': 0.607621009268795, 'auc_roc': 0.8568809119125038}}"
      ]
     },
     "execution_count": 55,
     "metadata": {},
     "output_type": "execute_result"
    }
   ],
   "source": [
    "metrics['forest_upsampled'] = {'f1': best_f1, 'auc_roc': 0.8568809119125038}\n",
    "metrics"
   ]
  },
  {
   "cell_type": "markdown",
   "id": "5e70b8bf",
   "metadata": {},
   "source": [
    "#### Случайный лес\n",
    "Попробуем подобрать гиперпараметры во вложенном цикле.\n"
   ]
  },
  {
   "cell_type": "code",
   "execution_count": 67,
   "id": "5d05a8f6",
   "metadata": {},
   "outputs": [
    {
     "name": "stdout",
     "output_type": "stream",
     "text": [
      "0\n",
      "1\n",
      "2\n",
      "3\n",
      "4\n",
      "5\n",
      "6\n",
      "7\n",
      "8\n",
      "9\n",
      "10\n",
      "11\n",
      "12\n",
      "13\n",
      "14\n",
      "15\n",
      "16\n",
      "17\n",
      "18\n",
      "19\n",
      "20\n",
      "21\n",
      "22\n",
      "23\n",
      "24\n",
      "25\n",
      "26\n",
      "27\n",
      "28\n",
      "29\n",
      "30\n",
      "31\n",
      "32\n",
      "33\n",
      "34\n",
      "35\n",
      "36\n",
      "37\n",
      "38\n",
      "39\n",
      "40\n",
      "41\n",
      "42\n",
      "43\n",
      "44\n",
      "45\n",
      "46\n",
      "47\n",
      "48\n",
      "49\n",
      "50\n",
      "51\n",
      "52\n",
      "53\n",
      "54\n",
      "55\n",
      "56\n",
      "57\n",
      "58\n",
      "59\n",
      "60\n",
      "61\n",
      "62\n",
      "63\n",
      "64\n",
      "65\n",
      "66\n",
      "67\n",
      "68\n",
      "69\n",
      "70\n",
      "71\n",
      "72\n",
      "73\n",
      "74\n",
      "75\n",
      "76\n",
      "77\n",
      "78\n",
      "79\n",
      "80\n",
      "81\n",
      "82\n",
      "83\n",
      "84\n",
      "85\n",
      "86\n",
      "87\n",
      "88\n",
      "89\n",
      "90\n",
      "91\n",
      "92\n",
      "93\n",
      "94\n",
      "95\n",
      "96\n",
      "97\n",
      "98\n",
      "99\n",
      "100\n",
      "101\n",
      "102\n",
      "103\n",
      "104\n",
      "105\n",
      "106\n",
      "107\n",
      "108\n",
      "109\n",
      "110\n",
      "111\n",
      "112\n",
      "113\n",
      "114\n",
      "115\n",
      "116\n",
      "117\n",
      "118\n",
      "119\n",
      "120\n",
      "121\n",
      "122\n",
      "123\n",
      "124\n",
      "125\n",
      "126\n",
      "127\n",
      "128\n",
      "129\n",
      "130\n",
      "131\n",
      "132\n",
      "133\n",
      "134\n",
      "135\n",
      "136\n",
      "137\n",
      "138\n",
      "139\n",
      "140\n",
      "141\n",
      "142\n",
      "143\n",
      "144\n",
      "145\n",
      "146\n",
      "147\n",
      "148\n",
      "149\n",
      "150\n",
      "151\n",
      "152\n",
      "153\n",
      "154\n",
      "155\n",
      "156\n",
      "157\n",
      "158\n",
      "159\n",
      "160\n",
      "161\n",
      "162\n",
      "163\n",
      "164\n",
      "165\n",
      "166\n",
      "167\n",
      "168\n",
      "169\n",
      "170\n",
      "171\n",
      "172\n",
      "173\n",
      "174\n",
      "175\n",
      "176\n",
      "177\n",
      "178\n",
      "179\n",
      "180\n",
      "181\n",
      "182\n",
      "183\n",
      "184\n",
      "185\n",
      "186\n",
      "187\n",
      "188\n",
      "189\n",
      "190\n",
      "191\n",
      "192\n",
      "193\n",
      "194\n",
      "195\n",
      "196\n",
      "197\n",
      "198\n",
      "199\n"
     ]
    },
    {
     "ename": "KeyboardInterrupt",
     "evalue": "",
     "output_type": "error",
     "traceback": [
      "\u001b[0;31m---------------------------------------------------------------------------\u001b[0m",
      "\u001b[0;31mKeyboardInterrupt\u001b[0m                         Traceback (most recent call last)",
      "\u001b[0;32m/tmp/ipykernel_67372/2411952983.py\u001b[0m in \u001b[0;36m<module>\u001b[0;34m\u001b[0m\n\u001b[1;32m     28\u001b[0m                     \u001b[0mforest_f1_score\u001b[0m \u001b[0;34m=\u001b[0m \u001b[0mf1_score\u001b[0m\u001b[0;34m(\u001b[0m\u001b[0mtarget_valid\u001b[0m\u001b[0;34m,\u001b[0m \u001b[0mpredicted_valid\u001b[0m\u001b[0;34m)\u001b[0m\u001b[0;34m\u001b[0m\u001b[0;34m\u001b[0m\u001b[0m\n\u001b[1;32m     29\u001b[0m \u001b[0;34m\u001b[0m\u001b[0m\n\u001b[0;32m---> 30\u001b[0;31m                     \u001b[0mprobabilities_valid\u001b[0m \u001b[0;34m=\u001b[0m \u001b[0mmodel\u001b[0m\u001b[0;34m.\u001b[0m\u001b[0mpredict_proba\u001b[0m\u001b[0;34m(\u001b[0m\u001b[0mfeatures_valid\u001b[0m\u001b[0;34m)\u001b[0m\u001b[0;34m\u001b[0m\u001b[0;34m\u001b[0m\u001b[0m\n\u001b[0m\u001b[1;32m     31\u001b[0m                     \u001b[0mprobabilities_one_valid\u001b[0m \u001b[0;34m=\u001b[0m \u001b[0mprobabilities_valid\u001b[0m\u001b[0;34m[\u001b[0m\u001b[0;34m:\u001b[0m\u001b[0;34m,\u001b[0m \u001b[0;36m1\u001b[0m\u001b[0;34m]\u001b[0m\u001b[0;34m\u001b[0m\u001b[0;34m\u001b[0m\u001b[0m\n\u001b[1;32m     32\u001b[0m                     \u001b[0mauc_roc_of_model\u001b[0m \u001b[0;34m=\u001b[0m \u001b[0mroc_auc_score\u001b[0m\u001b[0;34m(\u001b[0m\u001b[0mtarget_valid\u001b[0m\u001b[0;34m,\u001b[0m \u001b[0mprobabilities_one_valid\u001b[0m\u001b[0;34m)\u001b[0m\u001b[0;34m\u001b[0m\u001b[0;34m\u001b[0m\u001b[0m\n",
      "\u001b[0;32m~/.local/lib/python3.8/site-packages/sklearn/ensemble/_forest.py\u001b[0m in \u001b[0;36mpredict_proba\u001b[0;34m(self, X)\u001b[0m\n\u001b[1;32m    848\u001b[0m         \u001b[0mcheck_is_fitted\u001b[0m\u001b[0;34m(\u001b[0m\u001b[0mself\u001b[0m\u001b[0;34m)\u001b[0m\u001b[0;34m\u001b[0m\u001b[0;34m\u001b[0m\u001b[0m\n\u001b[1;32m    849\u001b[0m         \u001b[0;31m# Check data\u001b[0m\u001b[0;34m\u001b[0m\u001b[0;34m\u001b[0m\u001b[0;34m\u001b[0m\u001b[0m\n\u001b[0;32m--> 850\u001b[0;31m         \u001b[0mX\u001b[0m \u001b[0;34m=\u001b[0m \u001b[0mself\u001b[0m\u001b[0;34m.\u001b[0m\u001b[0m_validate_X_predict\u001b[0m\u001b[0;34m(\u001b[0m\u001b[0mX\u001b[0m\u001b[0;34m)\u001b[0m\u001b[0;34m\u001b[0m\u001b[0;34m\u001b[0m\u001b[0m\n\u001b[0m\u001b[1;32m    851\u001b[0m \u001b[0;34m\u001b[0m\u001b[0m\n\u001b[1;32m    852\u001b[0m         \u001b[0;31m# Assign chunk of trees to jobs\u001b[0m\u001b[0;34m\u001b[0m\u001b[0;34m\u001b[0m\u001b[0;34m\u001b[0m\u001b[0m\n",
      "\u001b[0;32m~/.local/lib/python3.8/site-packages/sklearn/ensemble/_forest.py\u001b[0m in \u001b[0;36m_validate_X_predict\u001b[0;34m(self, X)\u001b[0m\n\u001b[1;32m    577\u001b[0m         Validate X whenever one tries to predict, apply, predict_proba.\"\"\"\n\u001b[1;32m    578\u001b[0m         \u001b[0mcheck_is_fitted\u001b[0m\u001b[0;34m(\u001b[0m\u001b[0mself\u001b[0m\u001b[0;34m)\u001b[0m\u001b[0;34m\u001b[0m\u001b[0;34m\u001b[0m\u001b[0m\n\u001b[0;32m--> 579\u001b[0;31m         \u001b[0mX\u001b[0m \u001b[0;34m=\u001b[0m \u001b[0mself\u001b[0m\u001b[0;34m.\u001b[0m\u001b[0m_validate_data\u001b[0m\u001b[0;34m(\u001b[0m\u001b[0mX\u001b[0m\u001b[0;34m,\u001b[0m \u001b[0mdtype\u001b[0m\u001b[0;34m=\u001b[0m\u001b[0mDTYPE\u001b[0m\u001b[0;34m,\u001b[0m \u001b[0maccept_sparse\u001b[0m\u001b[0;34m=\u001b[0m\u001b[0;34m\"csr\"\u001b[0m\u001b[0;34m,\u001b[0m \u001b[0mreset\u001b[0m\u001b[0;34m=\u001b[0m\u001b[0;32mFalse\u001b[0m\u001b[0;34m)\u001b[0m\u001b[0;34m\u001b[0m\u001b[0;34m\u001b[0m\u001b[0m\n\u001b[0m\u001b[1;32m    580\u001b[0m         \u001b[0;32mif\u001b[0m \u001b[0missparse\u001b[0m\u001b[0;34m(\u001b[0m\u001b[0mX\u001b[0m\u001b[0;34m)\u001b[0m \u001b[0;32mand\u001b[0m \u001b[0;34m(\u001b[0m\u001b[0mX\u001b[0m\u001b[0;34m.\u001b[0m\u001b[0mindices\u001b[0m\u001b[0;34m.\u001b[0m\u001b[0mdtype\u001b[0m \u001b[0;34m!=\u001b[0m \u001b[0mnp\u001b[0m\u001b[0;34m.\u001b[0m\u001b[0mintc\u001b[0m \u001b[0;32mor\u001b[0m \u001b[0mX\u001b[0m\u001b[0;34m.\u001b[0m\u001b[0mindptr\u001b[0m\u001b[0;34m.\u001b[0m\u001b[0mdtype\u001b[0m \u001b[0;34m!=\u001b[0m \u001b[0mnp\u001b[0m\u001b[0;34m.\u001b[0m\u001b[0mintc\u001b[0m\u001b[0;34m)\u001b[0m\u001b[0;34m:\u001b[0m\u001b[0;34m\u001b[0m\u001b[0;34m\u001b[0m\u001b[0m\n\u001b[1;32m    581\u001b[0m             \u001b[0;32mraise\u001b[0m \u001b[0mValueError\u001b[0m\u001b[0;34m(\u001b[0m\u001b[0;34m\"No support for np.int64 index based sparse matrices\"\u001b[0m\u001b[0;34m)\u001b[0m\u001b[0;34m\u001b[0m\u001b[0;34m\u001b[0m\u001b[0m\n",
      "\u001b[0;32m~/.local/lib/python3.8/site-packages/sklearn/base.py\u001b[0m in \u001b[0;36m_validate_data\u001b[0;34m(self, X, y, reset, validate_separately, **check_params)\u001b[0m\n\u001b[1;32m    564\u001b[0m             \u001b[0;32mraise\u001b[0m \u001b[0mValueError\u001b[0m\u001b[0;34m(\u001b[0m\u001b[0;34m\"Validation should be done on X, y or both.\"\u001b[0m\u001b[0;34m)\u001b[0m\u001b[0;34m\u001b[0m\u001b[0;34m\u001b[0m\u001b[0m\n\u001b[1;32m    565\u001b[0m         \u001b[0;32melif\u001b[0m \u001b[0;32mnot\u001b[0m \u001b[0mno_val_X\u001b[0m \u001b[0;32mand\u001b[0m \u001b[0mno_val_y\u001b[0m\u001b[0;34m:\u001b[0m\u001b[0;34m\u001b[0m\u001b[0;34m\u001b[0m\u001b[0m\n\u001b[0;32m--> 566\u001b[0;31m             \u001b[0mX\u001b[0m \u001b[0;34m=\u001b[0m \u001b[0mcheck_array\u001b[0m\u001b[0;34m(\u001b[0m\u001b[0mX\u001b[0m\u001b[0;34m,\u001b[0m \u001b[0;34m**\u001b[0m\u001b[0mcheck_params\u001b[0m\u001b[0;34m)\u001b[0m\u001b[0;34m\u001b[0m\u001b[0;34m\u001b[0m\u001b[0m\n\u001b[0m\u001b[1;32m    567\u001b[0m             \u001b[0mout\u001b[0m \u001b[0;34m=\u001b[0m \u001b[0mX\u001b[0m\u001b[0;34m\u001b[0m\u001b[0;34m\u001b[0m\u001b[0m\n\u001b[1;32m    568\u001b[0m         \u001b[0;32melif\u001b[0m \u001b[0mno_val_X\u001b[0m \u001b[0;32mand\u001b[0m \u001b[0;32mnot\u001b[0m \u001b[0mno_val_y\u001b[0m\u001b[0;34m:\u001b[0m\u001b[0;34m\u001b[0m\u001b[0;34m\u001b[0m\u001b[0m\n",
      "\u001b[0;32m~/.local/lib/python3.8/site-packages/sklearn/utils/validation.py\u001b[0m in \u001b[0;36mcheck_array\u001b[0;34m(array, accept_sparse, accept_large_sparse, dtype, order, copy, force_all_finite, ensure_2d, allow_nd, ensure_min_samples, ensure_min_features, estimator)\u001b[0m\n\u001b[1;32m    744\u001b[0m                     \u001b[0marray\u001b[0m \u001b[0;34m=\u001b[0m \u001b[0marray\u001b[0m\u001b[0;34m.\u001b[0m\u001b[0mastype\u001b[0m\u001b[0;34m(\u001b[0m\u001b[0mdtype\u001b[0m\u001b[0;34m,\u001b[0m \u001b[0mcasting\u001b[0m\u001b[0;34m=\u001b[0m\u001b[0;34m\"unsafe\"\u001b[0m\u001b[0;34m,\u001b[0m \u001b[0mcopy\u001b[0m\u001b[0;34m=\u001b[0m\u001b[0;32mFalse\u001b[0m\u001b[0;34m)\u001b[0m\u001b[0;34m\u001b[0m\u001b[0;34m\u001b[0m\u001b[0m\n\u001b[1;32m    745\u001b[0m                 \u001b[0;32melse\u001b[0m\u001b[0;34m:\u001b[0m\u001b[0;34m\u001b[0m\u001b[0;34m\u001b[0m\u001b[0m\n\u001b[0;32m--> 746\u001b[0;31m                     \u001b[0marray\u001b[0m \u001b[0;34m=\u001b[0m \u001b[0mnp\u001b[0m\u001b[0;34m.\u001b[0m\u001b[0masarray\u001b[0m\u001b[0;34m(\u001b[0m\u001b[0marray\u001b[0m\u001b[0;34m,\u001b[0m \u001b[0morder\u001b[0m\u001b[0;34m=\u001b[0m\u001b[0morder\u001b[0m\u001b[0;34m,\u001b[0m \u001b[0mdtype\u001b[0m\u001b[0;34m=\u001b[0m\u001b[0mdtype\u001b[0m\u001b[0;34m)\u001b[0m\u001b[0;34m\u001b[0m\u001b[0;34m\u001b[0m\u001b[0m\n\u001b[0m\u001b[1;32m    747\u001b[0m             \u001b[0;32mexcept\u001b[0m \u001b[0mComplexWarning\u001b[0m \u001b[0;32mas\u001b[0m \u001b[0mcomplex_warning\u001b[0m\u001b[0;34m:\u001b[0m\u001b[0;34m\u001b[0m\u001b[0;34m\u001b[0m\u001b[0m\n\u001b[1;32m    748\u001b[0m                 raise ValueError(\n",
      "\u001b[0;32m~/.local/lib/python3.8/site-packages/numpy/core/_asarray.py\u001b[0m in \u001b[0;36masarray\u001b[0;34m(a, dtype, order)\u001b[0m\n\u001b[1;32m     81\u001b[0m \u001b[0;34m\u001b[0m\u001b[0m\n\u001b[1;32m     82\u001b[0m     \"\"\"\n\u001b[0;32m---> 83\u001b[0;31m     \u001b[0;32mreturn\u001b[0m \u001b[0marray\u001b[0m\u001b[0;34m(\u001b[0m\u001b[0ma\u001b[0m\u001b[0;34m,\u001b[0m \u001b[0mdtype\u001b[0m\u001b[0;34m,\u001b[0m \u001b[0mcopy\u001b[0m\u001b[0;34m=\u001b[0m\u001b[0;32mFalse\u001b[0m\u001b[0;34m,\u001b[0m \u001b[0morder\u001b[0m\u001b[0;34m=\u001b[0m\u001b[0morder\u001b[0m\u001b[0;34m)\u001b[0m\u001b[0;34m\u001b[0m\u001b[0;34m\u001b[0m\u001b[0m\n\u001b[0m\u001b[1;32m     84\u001b[0m \u001b[0;34m\u001b[0m\u001b[0m\n\u001b[1;32m     85\u001b[0m \u001b[0;34m\u001b[0m\u001b[0m\n",
      "\u001b[0;32m~/.local/lib/python3.8/site-packages/pandas/core/generic.py\u001b[0m in \u001b[0;36m__array__\u001b[0;34m(self, dtype)\u001b[0m\n\u001b[1;32m   1991\u001b[0m \u001b[0;34m\u001b[0m\u001b[0m\n\u001b[1;32m   1992\u001b[0m     \u001b[0;32mdef\u001b[0m \u001b[0m__array__\u001b[0m\u001b[0;34m(\u001b[0m\u001b[0mself\u001b[0m\u001b[0;34m,\u001b[0m \u001b[0mdtype\u001b[0m\u001b[0;34m:\u001b[0m \u001b[0mNpDtype\u001b[0m \u001b[0;34m|\u001b[0m \u001b[0;32mNone\u001b[0m \u001b[0;34m=\u001b[0m \u001b[0;32mNone\u001b[0m\u001b[0;34m)\u001b[0m \u001b[0;34m->\u001b[0m \u001b[0mnp\u001b[0m\u001b[0;34m.\u001b[0m\u001b[0mndarray\u001b[0m\u001b[0;34m:\u001b[0m\u001b[0;34m\u001b[0m\u001b[0;34m\u001b[0m\u001b[0m\n\u001b[0;32m-> 1993\u001b[0;31m         \u001b[0;32mreturn\u001b[0m \u001b[0mnp\u001b[0m\u001b[0;34m.\u001b[0m\u001b[0masarray\u001b[0m\u001b[0;34m(\u001b[0m\u001b[0mself\u001b[0m\u001b[0;34m.\u001b[0m\u001b[0m_values\u001b[0m\u001b[0;34m,\u001b[0m \u001b[0mdtype\u001b[0m\u001b[0;34m=\u001b[0m\u001b[0mdtype\u001b[0m\u001b[0;34m)\u001b[0m\u001b[0;34m\u001b[0m\u001b[0;34m\u001b[0m\u001b[0m\n\u001b[0m\u001b[1;32m   1994\u001b[0m \u001b[0;34m\u001b[0m\u001b[0m\n\u001b[1;32m   1995\u001b[0m     def __array_wrap__(\n",
      "\u001b[0;32m~/.local/lib/python3.8/site-packages/pandas/core/frame.py\u001b[0m in \u001b[0;36m_values\u001b[0;34m(self)\u001b[0m\n\u001b[1;32m    892\u001b[0m         \u001b[0mblocks\u001b[0m \u001b[0;34m=\u001b[0m \u001b[0mmgr\u001b[0m\u001b[0;34m.\u001b[0m\u001b[0mblocks\u001b[0m\u001b[0;34m\u001b[0m\u001b[0;34m\u001b[0m\u001b[0m\n\u001b[1;32m    893\u001b[0m         \u001b[0;32mif\u001b[0m \u001b[0mlen\u001b[0m\u001b[0;34m(\u001b[0m\u001b[0mblocks\u001b[0m\u001b[0;34m)\u001b[0m \u001b[0;34m!=\u001b[0m \u001b[0;36m1\u001b[0m\u001b[0;34m:\u001b[0m\u001b[0;34m\u001b[0m\u001b[0;34m\u001b[0m\u001b[0m\n\u001b[0;32m--> 894\u001b[0;31m             \u001b[0;32mreturn\u001b[0m \u001b[0mself\u001b[0m\u001b[0;34m.\u001b[0m\u001b[0mvalues\u001b[0m\u001b[0;34m\u001b[0m\u001b[0;34m\u001b[0m\u001b[0m\n\u001b[0m\u001b[1;32m    895\u001b[0m \u001b[0;34m\u001b[0m\u001b[0m\n\u001b[1;32m    896\u001b[0m         \u001b[0marr\u001b[0m \u001b[0;34m=\u001b[0m \u001b[0mblocks\u001b[0m\u001b[0;34m[\u001b[0m\u001b[0;36m0\u001b[0m\u001b[0;34m]\u001b[0m\u001b[0;34m.\u001b[0m\u001b[0mvalues\u001b[0m\u001b[0;34m\u001b[0m\u001b[0;34m\u001b[0m\u001b[0m\n",
      "\u001b[0;32m~/.local/lib/python3.8/site-packages/pandas/core/frame.py\u001b[0m in \u001b[0;36mvalues\u001b[0;34m(self)\u001b[0m\n\u001b[1;32m  10663\u001b[0m         \"\"\"\n\u001b[1;32m  10664\u001b[0m         \u001b[0mself\u001b[0m\u001b[0;34m.\u001b[0m\u001b[0m_consolidate_inplace\u001b[0m\u001b[0;34m(\u001b[0m\u001b[0;34m)\u001b[0m\u001b[0;34m\u001b[0m\u001b[0;34m\u001b[0m\u001b[0m\n\u001b[0;32m> 10665\u001b[0;31m         \u001b[0;32mreturn\u001b[0m \u001b[0mself\u001b[0m\u001b[0;34m.\u001b[0m\u001b[0m_mgr\u001b[0m\u001b[0;34m.\u001b[0m\u001b[0mas_array\u001b[0m\u001b[0;34m(\u001b[0m\u001b[0mtranspose\u001b[0m\u001b[0;34m=\u001b[0m\u001b[0;32mTrue\u001b[0m\u001b[0;34m)\u001b[0m\u001b[0;34m\u001b[0m\u001b[0;34m\u001b[0m\u001b[0m\n\u001b[0m\u001b[1;32m  10666\u001b[0m \u001b[0;34m\u001b[0m\u001b[0m\n\u001b[1;32m  10667\u001b[0m     \u001b[0;34m@\u001b[0m\u001b[0mdeprecate_nonkeyword_arguments\u001b[0m\u001b[0;34m(\u001b[0m\u001b[0mversion\u001b[0m\u001b[0;34m=\u001b[0m\u001b[0;32mNone\u001b[0m\u001b[0;34m,\u001b[0m \u001b[0mallowed_args\u001b[0m\u001b[0;34m=\u001b[0m\u001b[0;34m[\u001b[0m\u001b[0;34m\"self\"\u001b[0m\u001b[0;34m]\u001b[0m\u001b[0;34m)\u001b[0m\u001b[0;34m\u001b[0m\u001b[0;34m\u001b[0m\u001b[0m\n",
      "\u001b[0;32m~/.local/lib/python3.8/site-packages/pandas/core/internals/managers.py\u001b[0m in \u001b[0;36mas_array\u001b[0;34m(self, transpose, dtype, copy, na_value)\u001b[0m\n\u001b[1;32m   1464\u001b[0m                     \u001b[0marr\u001b[0m \u001b[0;34m=\u001b[0m \u001b[0marr\u001b[0m\u001b[0;34m.\u001b[0m\u001b[0mastype\u001b[0m\u001b[0;34m(\u001b[0m\u001b[0mdtype\u001b[0m\u001b[0;34m,\u001b[0m \u001b[0mcopy\u001b[0m\u001b[0;34m=\u001b[0m\u001b[0;32mFalse\u001b[0m\u001b[0;34m)\u001b[0m  \u001b[0;31m# type: ignore[arg-type]\u001b[0m\u001b[0;34m\u001b[0m\u001b[0;34m\u001b[0m\u001b[0m\n\u001b[1;32m   1465\u001b[0m         \u001b[0;32melse\u001b[0m\u001b[0;34m:\u001b[0m\u001b[0;34m\u001b[0m\u001b[0;34m\u001b[0m\u001b[0m\n\u001b[0;32m-> 1466\u001b[0;31m             \u001b[0marr\u001b[0m \u001b[0;34m=\u001b[0m \u001b[0mself\u001b[0m\u001b[0;34m.\u001b[0m\u001b[0m_interleave\u001b[0m\u001b[0;34m(\u001b[0m\u001b[0mdtype\u001b[0m\u001b[0;34m=\u001b[0m\u001b[0mdtype\u001b[0m\u001b[0;34m,\u001b[0m \u001b[0mna_value\u001b[0m\u001b[0;34m=\u001b[0m\u001b[0mna_value\u001b[0m\u001b[0;34m)\u001b[0m\u001b[0;34m\u001b[0m\u001b[0;34m\u001b[0m\u001b[0m\n\u001b[0m\u001b[1;32m   1467\u001b[0m             \u001b[0;31m# The underlying data was copied within _interleave\u001b[0m\u001b[0;34m\u001b[0m\u001b[0;34m\u001b[0m\u001b[0;34m\u001b[0m\u001b[0m\n\u001b[1;32m   1468\u001b[0m             \u001b[0mcopy\u001b[0m \u001b[0;34m=\u001b[0m \u001b[0;32mFalse\u001b[0m\u001b[0;34m\u001b[0m\u001b[0;34m\u001b[0m\u001b[0m\n",
      "\u001b[0;32m~/.local/lib/python3.8/site-packages/pandas/core/internals/managers.py\u001b[0m in \u001b[0;36m_interleave\u001b[0;34m(self, dtype, na_value)\u001b[0m\n\u001b[1;32m   1518\u001b[0m                 \u001b[0;31m# \"Union[ExtensionDtype, str, dtype[Any], Type[object], None]\"; expected\u001b[0m\u001b[0;34m\u001b[0m\u001b[0;34m\u001b[0m\u001b[0;34m\u001b[0m\u001b[0m\n\u001b[1;32m   1519\u001b[0m                 \u001b[0;31m# \"Union[dtype[Any], ExtensionDtype, None]\"\u001b[0m\u001b[0;34m\u001b[0m\u001b[0;34m\u001b[0m\u001b[0;34m\u001b[0m\u001b[0m\n\u001b[0;32m-> 1520\u001b[0;31m                 \u001b[0marr\u001b[0m \u001b[0;34m=\u001b[0m \u001b[0mblk\u001b[0m\u001b[0;34m.\u001b[0m\u001b[0mget_values\u001b[0m\u001b[0;34m(\u001b[0m\u001b[0mdtype\u001b[0m\u001b[0;34m)\u001b[0m  \u001b[0;31m# type: ignore[arg-type]\u001b[0m\u001b[0;34m\u001b[0m\u001b[0;34m\u001b[0m\u001b[0m\n\u001b[0m\u001b[1;32m   1521\u001b[0m             \u001b[0mresult\u001b[0m\u001b[0;34m[\u001b[0m\u001b[0mrl\u001b[0m\u001b[0;34m.\u001b[0m\u001b[0mindexer\u001b[0m\u001b[0;34m]\u001b[0m \u001b[0;34m=\u001b[0m \u001b[0marr\u001b[0m\u001b[0;34m\u001b[0m\u001b[0;34m\u001b[0m\u001b[0m\n\u001b[1;32m   1522\u001b[0m             \u001b[0mitemmask\u001b[0m\u001b[0;34m[\u001b[0m\u001b[0mrl\u001b[0m\u001b[0;34m.\u001b[0m\u001b[0mindexer\u001b[0m\u001b[0;34m]\u001b[0m \u001b[0;34m=\u001b[0m \u001b[0;36m1\u001b[0m\u001b[0;34m\u001b[0m\u001b[0;34m\u001b[0m\u001b[0m\n",
      "\u001b[0;32m~/.local/lib/python3.8/site-packages/pandas/core/internals/blocks.py\u001b[0m in \u001b[0;36mget_values\u001b[0;34m(self, dtype)\u001b[0m\n\u001b[1;32m    225\u001b[0m         \"\"\"\n\u001b[1;32m    226\u001b[0m         \u001b[0;32mif\u001b[0m \u001b[0mdtype\u001b[0m \u001b[0;34m==\u001b[0m \u001b[0m_dtype_obj\u001b[0m\u001b[0;34m:\u001b[0m\u001b[0;34m\u001b[0m\u001b[0;34m\u001b[0m\u001b[0m\n\u001b[0;32m--> 227\u001b[0;31m             \u001b[0;32mreturn\u001b[0m \u001b[0mself\u001b[0m\u001b[0;34m.\u001b[0m\u001b[0mvalues\u001b[0m\u001b[0;34m.\u001b[0m\u001b[0mastype\u001b[0m\u001b[0;34m(\u001b[0m\u001b[0m_dtype_obj\u001b[0m\u001b[0;34m)\u001b[0m\u001b[0;34m\u001b[0m\u001b[0;34m\u001b[0m\u001b[0m\n\u001b[0m\u001b[1;32m    228\u001b[0m         \u001b[0;31m# error: Incompatible return value type (got \"Union[ndarray, ExtensionArray]\",\u001b[0m\u001b[0;34m\u001b[0m\u001b[0;34m\u001b[0m\u001b[0;34m\u001b[0m\u001b[0m\n\u001b[1;32m    229\u001b[0m         \u001b[0;31m# expected \"ndarray\")\u001b[0m\u001b[0;34m\u001b[0m\u001b[0;34m\u001b[0m\u001b[0;34m\u001b[0m\u001b[0m\n",
      "\u001b[0;31mKeyboardInterrupt\u001b[0m: "
     ]
    }
   ],
   "source": [
    "best_auc_roc_of_model = 0\n",
    "best_forest_f1_score_valid = 0\n",
    "forest_models = []\n",
    "cycle_index = 0\n",
    "\n",
    "\n",
    "for this_criterion in ['gini', 'entropy']:\n",
    "    for estimators in range(2, 60, 5):\n",
    "        for depth in range(2, 30):\n",
    "            for min_split in range(2, 5):\n",
    "                for min_leaf in range(1, 5):\n",
    "                    \n",
    "                    print(cycle_index)\n",
    "                    cycle_index += 1\n",
    "                    \n",
    "                    model = RandomForestClassifier(\n",
    "                        random_state=12345, \n",
    "                        criterion=this_criterion,\n",
    "                        n_estimators=estimators, \n",
    "                        max_depth=depth, \n",
    "                        min_samples_split=min_split, \n",
    "                        min_samples_leaf=min_leaf,\n",
    "                        n_jobs=-1)\n",
    "                    \n",
    "                    model.fit(features_upsampled, target_upsampled)\n",
    "                    predicted_valid = model.predict(features_valid)\n",
    "                    # forest_accuracy_score = model.score(features_valid, target_valid)\n",
    "                    forest_f1_score = f1_score(target_valid, predicted_valid)\n",
    "                    \n",
    "                    probabilities_valid = model.predict_proba(features_valid)\n",
    "                    probabilities_one_valid = probabilities_valid[:, 1]\n",
    "                    auc_roc_of_model = roc_auc_score(target_valid, probabilities_one_valid)\n",
    "\n",
    "                    forest_models.append([this_criterion, \n",
    "                                          estimators,\n",
    "                                          depth,\n",
    "                                          min_split,\n",
    "                                          min_leaf,\n",
    "                                          auc_roc_of_model, \n",
    "                                          forest_f1_score])\n",
    "\n",
    "                    if auc_roc_of_model > best_auc_roc_of_model:\n",
    "                        best_auc_roc_of_model = auc_roc_of_model\n",
    "                    if forest_f1_score > best_forest_f1_score_valid:\n",
    "                        best_forest_f1_score_valid = forest_f1_score\n",
    "                    \n",
    "print(\"Лучший auc_roc леса на валидационной выборке:\", best_auc_roc_of_model)\n",
    "print(\"Лучший f1_score леса на валидационной выборке:\", best_forest_f1_score_valid)"
   ]
  },
  {
   "cell_type": "markdown",
   "id": "6e91c86d",
   "metadata": {},
   "source": [
    "Показатели лучших из подобранных моделей: \n",
    "    "
   ]
  },
  {
   "cell_type": "code",
   "execution_count": 66,
   "id": "b22036c6",
   "metadata": {},
   "outputs": [
    {
     "data": {
      "text/html": [
       "<div>\n",
       "<style scoped>\n",
       "    .dataframe tbody tr th:only-of-type {\n",
       "        vertical-align: middle;\n",
       "    }\n",
       "\n",
       "    .dataframe tbody tr th {\n",
       "        vertical-align: top;\n",
       "    }\n",
       "\n",
       "    .dataframe thead th {\n",
       "        text-align: right;\n",
       "    }\n",
       "</style>\n",
       "<table border=\"1\" class=\"dataframe\">\n",
       "  <thead>\n",
       "    <tr style=\"text-align: right;\">\n",
       "      <th></th>\n",
       "      <th>criterion</th>\n",
       "      <th>estimators</th>\n",
       "      <th>depth</th>\n",
       "      <th>min_sample_split</th>\n",
       "      <th>min_sample_leaf</th>\n",
       "      <th>auc_roc</th>\n",
       "      <th>f1_score</th>\n",
       "    </tr>\n",
       "  </thead>\n",
       "  <tbody>\n",
       "    <tr>\n",
       "      <th>108</th>\n",
       "      <td>gini</td>\n",
       "      <td>2</td>\n",
       "      <td>11</td>\n",
       "      <td>2</td>\n",
       "      <td>1</td>\n",
       "      <td>0.7945</td>\n",
       "      <td>0.5604</td>\n",
       "    </tr>\n",
       "  </tbody>\n",
       "</table>\n",
       "</div>"
      ],
      "text/plain": [
       "    criterion  estimators  depth  min_sample_split  min_sample_leaf  auc_roc  \\\n",
       "108      gini           2     11                 2                1   0.7945   \n",
       "\n",
       "     f1_score  \n",
       "108    0.5604  "
      ]
     },
     "metadata": {},
     "output_type": "display_data"
    },
    {
     "data": {
      "text/html": [
       "<div>\n",
       "<style scoped>\n",
       "    .dataframe tbody tr th:only-of-type {\n",
       "        vertical-align: middle;\n",
       "    }\n",
       "\n",
       "    .dataframe tbody tr th {\n",
       "        vertical-align: top;\n",
       "    }\n",
       "\n",
       "    .dataframe thead th {\n",
       "        text-align: right;\n",
       "    }\n",
       "</style>\n",
       "<table border=\"1\" class=\"dataframe\">\n",
       "  <thead>\n",
       "    <tr style=\"text-align: right;\">\n",
       "      <th></th>\n",
       "      <th>criterion</th>\n",
       "      <th>estimators</th>\n",
       "      <th>depth</th>\n",
       "      <th>min_sample_split</th>\n",
       "      <th>min_sample_leaf</th>\n",
       "      <th>auc_roc</th>\n",
       "      <th>f1_score</th>\n",
       "    </tr>\n",
       "  </thead>\n",
       "  <tbody>\n",
       "    <tr>\n",
       "      <th>73</th>\n",
       "      <td>gini</td>\n",
       "      <td>2</td>\n",
       "      <td>8</td>\n",
       "      <td>2</td>\n",
       "      <td>2</td>\n",
       "      <td>0.7835</td>\n",
       "      <td>0.5734</td>\n",
       "    </tr>\n",
       "    <tr>\n",
       "      <th>77</th>\n",
       "      <td>gini</td>\n",
       "      <td>2</td>\n",
       "      <td>8</td>\n",
       "      <td>3</td>\n",
       "      <td>2</td>\n",
       "      <td>0.7835</td>\n",
       "      <td>0.5734</td>\n",
       "    </tr>\n",
       "    <tr>\n",
       "      <th>81</th>\n",
       "      <td>gini</td>\n",
       "      <td>2</td>\n",
       "      <td>8</td>\n",
       "      <td>4</td>\n",
       "      <td>2</td>\n",
       "      <td>0.7835</td>\n",
       "      <td>0.5734</td>\n",
       "    </tr>\n",
       "  </tbody>\n",
       "</table>\n",
       "</div>"
      ],
      "text/plain": [
       "   criterion  estimators  depth  min_sample_split  min_sample_leaf  auc_roc  \\\n",
       "73      gini           2      8                 2                2   0.7835   \n",
       "77      gini           2      8                 3                2   0.7835   \n",
       "81      gini           2      8                 4                2   0.7835   \n",
       "\n",
       "    f1_score  \n",
       "73    0.5734  \n",
       "77    0.5734  \n",
       "81    0.5734  "
      ]
     },
     "metadata": {},
     "output_type": "display_data"
    }
   ],
   "source": [
    "forest_models = pd.DataFrame(forest_models, \n",
    "                           columns=['criterion', 'estimators', 'depth', \n",
    "                                    'min_sample_split', 'min_sample_leaf', \n",
    "                                    'auc_roc', 'f1_score'])\n",
    "\n",
    "\n",
    "display(forest_models[forest_models['auc_roc'] == forest_models['auc_roc'].max()])\n",
    "display(forest_models[forest_models['f1_score'] == forest_models['f1_score'].max()])"
   ]
  },
  {
   "cell_type": "markdown",
   "id": "065e8769",
   "metadata": {},
   "source": [
    "### Выбор и финальное тестирование лучшей модели\n",
    "#### Выбор лучшей модели\n",
    "Рассмотрим характеристики лучших из обученных каждым методом моделей и выберем самую лучшую. Лучший целевой показатель у модели случайного леса, обученного с учетом балансировки классов. Вот эта модель:\n",
    "> RandomForestClassifier(bootstrap=True, class_weight='balanced',\n",
    "                       criterion='gini', max_depth=8, max_features='auto',\n",
    "                       max_leaf_nodes=None, min_impurity_decrease=0.0,\n",
    "                       min_impurity_split=None, min_samples_leaf=1,\n",
    "                       min_samples_split=2, min_weight_fraction_leaf=0.0,\n",
    "                       n_estimators=80, n_jobs=None, oob_score=False,\n",
    "                       random_state=666, verbose=0, warm_start=False)"
   ]
  },
  {
   "cell_type": "code",
   "execution_count": 56,
   "id": "3b084534",
   "metadata": {},
   "outputs": [
    {
     "data": {
      "text/plain": [
       "{'logistic_regression_unbalanced': {'f1': 0.3309608540925267,\n",
       "  'auc_roc': 0.7454167282490886},\n",
       " 'tree_unbalanced': {'f1': 0.5796269727403156, 'auc_roc': 0.8185935806483398},\n",
       " 'forest_unbalanced': {'f1': 0.564885496183206, 'auc_roc': 0.8324888843728446},\n",
       " 'logistic_regression_class_weight_balanced': {'f1': 0.4716981132075472,\n",
       "  'auc_roc': 0.7508960242388412},\n",
       " 'tree_class_weight_balanced': {'f1': 0.5698427382053655,\n",
       "  'auc_roc': 0.8309500936052814},\n",
       " 'forest_class_weight_balanced': {'f1': 0.6146458583433373,\n",
       "  'auc_roc': 0.855629249187112},\n",
       " 'logistic_regression_upsampled': {'f1': 0.4731914893617022,\n",
       "  'auc_roc': 0.750965304463494},\n",
       " 'tree_upsampled': {'f1': 0.5693296602387511, 'auc_roc': 0.8294428638289487},\n",
       " 'forest_upsampled': {'f1': 0.607621009268795, 'auc_roc': 0.8568809119125038}}"
      ]
     },
     "execution_count": 56,
     "metadata": {},
     "output_type": "execute_result"
    }
   ],
   "source": [
    "metrics"
   ]
  },
  {
   "cell_type": "code",
   "execution_count": 57,
   "id": "20dd5bb5",
   "metadata": {},
   "outputs": [
    {
     "name": "stdout",
     "output_type": "stream",
     "text": [
      "forest_class_weight_balanced {'f1': 0.6146458583433373, 'auc_roc': 0.855629249187112}\n"
     ]
    }
   ],
   "source": [
    "best_f1 = 0\n",
    "best_model_name = None\n",
    "\n",
    "for item in metrics.items():\n",
    "    if item[1]['f1'] > best_f1:\n",
    "        best_f1 = item[1]['f1']\n",
    "        best_model_name = item[0]\n",
    "        \n",
    "print(best_model_name, metrics[best_model_name])"
   ]
  },
  {
   "cell_type": "markdown",
   "id": "98e7c822",
   "metadata": {},
   "source": [
    "#### Финальное тестирование\n",
    "Проведем финальное тестирование лучшей модели - модели случайного леса:\n",
    "\n",
    "> best_model: RandomForestClassifier(class_weight='balanced', max_depth=8, n_estimators=80, random_state=666)\n",
    "\n",
    "Модель показала удовлетворительные результаты на тестовой и валидационной выборках:\n",
    "\n",
    "f1 на обучающей выборке:  0.7182569496619083\n",
    "\n",
    "f1 на валидационной выборке:  0.6148571428571429\n",
    "\n",
    "f1 на тестовой выборке:  0.6131549609810478\n",
    "\n",
    "AUC-ROC на обучающей выборке:  0.9313193174663743\n",
    "\n",
    "AUC-ROC на валидационной выборке:  0.855629249187112\n",
    "\n",
    "AUC-ROC на тестовой выборке:  0.8506395455547998"
   ]
  },
  {
   "cell_type": "code",
   "execution_count": 58,
   "id": "7fab2858",
   "metadata": {},
   "outputs": [
    {
     "name": "stdout",
     "output_type": "stream",
     "text": [
      "RandomForestClassifier(class_weight='balanced', max_depth=8, n_estimators=80,\n",
      "                       random_state=666)\n",
      "Наилучшая модель\n",
      "f1 на обучающей выборке:  0.7239031770045385\n",
      "f1 на валидационной выборке:  0.5983701979045402\n",
      "f1 на тестовой выборке:  0.6093750000000001\n",
      "AUC-ROC на обучающей выборке:  0.9315692011736827\n",
      "AUC-ROC на валидационной выборке:  0.8548102029756626\n",
      "AUC-ROC на тестовой выборке:  0.8521772928552588\n"
     ]
    }
   ],
   "source": [
    "best_model = RandomForestClassifier(n_estimators = 80, \n",
    "                                  max_depth=8, class_weight='balanced', random_state=666)\n",
    "print(best_model)\n",
    "best_model.fit(features_train, target_train)\n",
    "predicted_train = best_model.predict(features_train) \n",
    "predicted_valid = best_model.predict(features_valid)\n",
    "predicted_test = best_model.predict(features_test)\n",
    "f1_train = f1_score(target_train, predicted_train)\n",
    "f1_valid = f1_score(target_valid, predicted_valid)\n",
    "f1_test = f1_score(target_test, predicted_test)\n",
    "\n",
    "\n",
    "probabilities_train = best_model.predict_proba(features_train)\n",
    "probabilities_one_train = probabilities_train[:, 1]\n",
    "auc_roc_train = roc_auc_score(target_train, probabilities_one_train)\n",
    "\n",
    "probabilities_valid = best_model.predict_proba(features_valid)\n",
    "probabilities_one_valid = probabilities_valid[:, 1]\n",
    "auc_roc_valid = roc_auc_score(target_valid, probabilities_one_valid)\n",
    "\n",
    "probabilities_test = best_model.predict_proba(features_test)\n",
    "probabilities_one_test = probabilities_test[:, 1]\n",
    "auc_roc_test = roc_auc_score(target_test, probabilities_one_test)\n",
    "\n",
    "print(\"Наилучшая модель\")\n",
    "print(\"f1 на обучающей выборке: \", f1_train)\n",
    "print(\"f1 на валидационной выборке: \", f1_valid)\n",
    "print(\"f1 на тестовой выборке: \", f1_test)\n",
    "\n",
    "print(\"AUC-ROC на обучающей выборке: \", auc_roc_train)\n",
    "print(\"AUC-ROC на валидационной выборке: \", auc_roc_valid)\n",
    "print(\"AUC-ROC на тестовой выборке: \", auc_roc_test)\n"
   ]
  },
  {
   "cell_type": "code",
   "execution_count": 59,
   "id": "7b748ccf",
   "metadata": {
    "scrolled": true
   },
   "outputs": [
    {
     "data": {
      "text/html": [
       "<div>\n",
       "<style scoped>\n",
       "    .dataframe tbody tr th:only-of-type {\n",
       "        vertical-align: middle;\n",
       "    }\n",
       "\n",
       "    .dataframe tbody tr th {\n",
       "        vertical-align: top;\n",
       "    }\n",
       "\n",
       "    .dataframe thead th {\n",
       "        text-align: right;\n",
       "    }\n",
       "</style>\n",
       "<table border=\"1\" class=\"dataframe\">\n",
       "  <thead>\n",
       "    <tr style=\"text-align: right;\">\n",
       "      <th></th>\n",
       "      <th>Выборка</th>\n",
       "      <th>F1-мера</th>\n",
       "      <th>AUC-ROC мера</th>\n",
       "    </tr>\n",
       "  </thead>\n",
       "  <tbody>\n",
       "    <tr>\n",
       "      <th>0</th>\n",
       "      <td>Обучающая выборка</td>\n",
       "      <td>0.7239</td>\n",
       "      <td>0.9316</td>\n",
       "    </tr>\n",
       "    <tr>\n",
       "      <th>1</th>\n",
       "      <td>Валидационная выборка</td>\n",
       "      <td>0.5984</td>\n",
       "      <td>0.8548</td>\n",
       "    </tr>\n",
       "    <tr>\n",
       "      <th>2</th>\n",
       "      <td>Тестовая выборка</td>\n",
       "      <td>0.6094</td>\n",
       "      <td>0.8522</td>\n",
       "    </tr>\n",
       "  </tbody>\n",
       "</table>\n",
       "</div>"
      ],
      "text/plain": [
       "                 Выборка  F1-мера  AUC-ROC мера\n",
       "0      Обучающая выборка   0.7239        0.9316\n",
       "1  Валидационная выборка   0.5984        0.8548\n",
       "2       Тестовая выборка   0.6094        0.8522"
      ]
     },
     "metadata": {},
     "output_type": "display_data"
    }
   ],
   "source": [
    "output_table = pd.DataFrame(\n",
    "    [['Обучающая выборка', f1_train, auc_roc_train],\n",
    "    ['Валидационная выборка', f1_valid, auc_roc_valid],\n",
    "    ['Тестовая выборка', f1_test, auc_roc_test]],\n",
    "    columns=['Выборка', 'F1-мера', 'AUC-ROC мера']\n",
    ")\n",
    "display(output_table)"
   ]
  },
  {
   "cell_type": "markdown",
   "id": "6b05d678",
   "metadata": {},
   "source": [
    "## Вывод\n",
    "Для решения задачи предсказания ухода клиента банка были построены и обучены модели трех типов: решающее дерево, случайный лес и логистическая регрессия. Был произведен подбор гиперпараметров моделей и выбрана лучшая модель для каждого типа. \n",
    "\n",
    "Модели были обучены сначала без учета дисбаланса классов в датасете, а после с учетом этого дисбаланса. Для того, чтоб исправить дисбаланс, были испробованы два метода: \n",
    "\n",
    "* обучающая выборка была увеличена методом `upsampling`, доля положительного (редкого) класса до ведена до 50%;\n",
    "* модели были обучены с весовой балансировкой (при инициализации модели указан гиперпараметр `class_weight='balanced'`).\n",
    "\n",
    "Модели, обученные с учетом дисбаланса, показали лучшие результаты в сравнении с моделями, обученными без учета дисбаланса классов, хотя апсамплинг улучшил целевой показатель только для логистической регрессии. \n",
    "\n",
    "Лучше всего себя показала модель решающего леса с гиперпараметрами: `max_depth=8`, `n_estimators=80`, `class_weight='balanced'`, обученная на валидационной выборке, не измененной методом `upsampling`.\n",
    "\n",
    "Метрики этой модели приведены в таблице:"
   ]
  },
  {
   "cell_type": "code",
   "execution_count": 60,
   "id": "c6893afe",
   "metadata": {},
   "outputs": [
    {
     "data": {
      "text/html": [
       "<div>\n",
       "<style scoped>\n",
       "    .dataframe tbody tr th:only-of-type {\n",
       "        vertical-align: middle;\n",
       "    }\n",
       "\n",
       "    .dataframe tbody tr th {\n",
       "        vertical-align: top;\n",
       "    }\n",
       "\n",
       "    .dataframe thead th {\n",
       "        text-align: right;\n",
       "    }\n",
       "</style>\n",
       "<table border=\"1\" class=\"dataframe\">\n",
       "  <thead>\n",
       "    <tr style=\"text-align: right;\">\n",
       "      <th></th>\n",
       "      <th>Выборка</th>\n",
       "      <th>F1-мера</th>\n",
       "      <th>AUC-ROC мера</th>\n",
       "    </tr>\n",
       "  </thead>\n",
       "  <tbody>\n",
       "    <tr>\n",
       "      <th>0</th>\n",
       "      <td>Обучающая выборка</td>\n",
       "      <td>0.7239</td>\n",
       "      <td>0.9316</td>\n",
       "    </tr>\n",
       "    <tr>\n",
       "      <th>1</th>\n",
       "      <td>Валидационная выборка</td>\n",
       "      <td>0.5984</td>\n",
       "      <td>0.8548</td>\n",
       "    </tr>\n",
       "    <tr>\n",
       "      <th>2</th>\n",
       "      <td>Тестовая выборка</td>\n",
       "      <td>0.6094</td>\n",
       "      <td>0.8522</td>\n",
       "    </tr>\n",
       "  </tbody>\n",
       "</table>\n",
       "</div>"
      ],
      "text/plain": [
       "                 Выборка  F1-мера  AUC-ROC мера\n",
       "0      Обучающая выборка   0.7239        0.9316\n",
       "1  Валидационная выборка   0.5984        0.8548\n",
       "2       Тестовая выборка   0.6094        0.8522"
      ]
     },
     "metadata": {},
     "output_type": "display_data"
    }
   ],
   "source": [
    "display(output_table)"
   ]
  },
  {
   "cell_type": "markdown",
   "id": "f5614fe2",
   "metadata": {},
   "source": [
    "Модель рекомендуется дообучить и начать использовать в бизнесе."
   ]
  }
 ],
 "metadata": {
  "ExecuteTimeLog": [
   {
    "duration": 1281,
    "start_time": "2022-02-04T04:33:10.921Z"
   },
   {
    "duration": 37,
    "start_time": "2022-02-04T04:33:12.208Z"
   },
   {
    "duration": 22,
    "start_time": "2022-02-04T04:33:12.247Z"
   },
   {
    "duration": 14,
    "start_time": "2022-02-04T04:33:12.271Z"
   },
   {
    "duration": 26,
    "start_time": "2022-02-04T04:33:12.287Z"
   },
   {
    "duration": 24,
    "start_time": "2022-02-04T04:33:12.316Z"
   },
   {
    "duration": 13,
    "start_time": "2022-02-04T04:33:12.343Z"
   },
   {
    "duration": 17,
    "start_time": "2022-02-04T04:33:12.357Z"
   },
   {
    "duration": 5,
    "start_time": "2022-02-04T04:33:12.379Z"
   },
   {
    "duration": 9,
    "start_time": "2022-02-04T04:33:12.387Z"
   },
   {
    "duration": 16,
    "start_time": "2022-02-04T04:33:12.399Z"
   },
   {
    "duration": 21,
    "start_time": "2022-02-04T04:33:12.417Z"
   },
   {
    "duration": 7,
    "start_time": "2022-02-04T04:33:12.441Z"
   },
   {
    "duration": 35,
    "start_time": "2022-02-04T04:33:12.450Z"
   },
   {
    "duration": 4,
    "start_time": "2022-02-04T04:33:12.488Z"
   },
   {
    "duration": 17,
    "start_time": "2022-02-04T04:33:12.495Z"
   },
   {
    "duration": 30,
    "start_time": "2022-02-04T04:33:12.515Z"
   },
   {
    "duration": 12,
    "start_time": "2022-02-04T04:33:12.547Z"
   },
   {
    "duration": 9,
    "start_time": "2022-02-04T04:33:12.561Z"
   },
   {
    "duration": 13,
    "start_time": "2022-02-04T04:33:12.572Z"
   },
   {
    "duration": 7,
    "start_time": "2022-02-04T04:33:12.612Z"
   },
   {
    "duration": 17,
    "start_time": "2022-02-04T04:33:12.621Z"
   },
   {
    "duration": 11,
    "start_time": "2022-02-04T04:33:12.640Z"
   },
   {
    "duration": 8,
    "start_time": "2022-02-04T04:33:12.653Z"
   },
   {
    "duration": 63,
    "start_time": "2022-02-04T04:33:12.663Z"
   },
   {
    "duration": 83,
    "start_time": "2022-02-04T04:33:12.736Z"
   },
   {
    "duration": 823,
    "start_time": "2022-02-04T04:33:12.822Z"
   },
   {
    "duration": 5,
    "start_time": "2022-02-04T04:33:13.646Z"
   },
   {
    "duration": 2673,
    "start_time": "2022-02-04T04:33:13.653Z"
   },
   {
    "duration": 22947,
    "start_time": "2022-02-04T04:33:16.327Z"
   },
   {
    "duration": 53,
    "start_time": "2022-02-04T04:33:39.276Z"
   },
   {
    "duration": 92,
    "start_time": "2022-02-04T04:33:39.331Z"
   },
   {
    "duration": 839,
    "start_time": "2022-02-04T04:33:39.425Z"
   },
   {
    "duration": 2659,
    "start_time": "2022-02-04T04:33:40.266Z"
   },
   {
    "duration": 18175,
    "start_time": "2022-02-04T04:33:42.927Z"
   },
   {
    "duration": 327,
    "start_time": "2022-02-04T04:34:01.108Z"
   },
   {
    "duration": 9,
    "start_time": "2022-02-04T04:34:01.437Z"
   },
   {
    "duration": 28,
    "start_time": "2022-02-04T04:34:01.448Z"
   },
   {
    "duration": 82,
    "start_time": "2022-02-04T04:42:29.170Z"
   },
   {
    "duration": 81,
    "start_time": "2022-02-04T04:45:03.192Z"
   },
   {
    "duration": 97,
    "start_time": "2022-02-04T04:47:09.982Z"
   },
   {
    "duration": 79,
    "start_time": "2022-02-04T06:13:07.756Z"
   },
   {
    "duration": 81,
    "start_time": "2022-02-04T06:43:17.286Z"
   },
   {
    "duration": 93,
    "start_time": "2022-02-04T06:46:24.150Z"
   },
   {
    "duration": 86,
    "start_time": "2022-02-04T07:14:05.842Z"
   },
   {
    "duration": 105,
    "start_time": "2022-02-04T07:22:47.972Z"
   },
   {
    "duration": 147,
    "start_time": "2022-02-04T08:13:24.768Z"
   },
   {
    "duration": 151,
    "start_time": "2022-02-04T18:46:57.455Z"
   },
   {
    "duration": 93,
    "start_time": "2022-02-04T19:20:20.975Z"
   },
   {
    "duration": 190,
    "start_time": "2022-02-04T19:35:18.293Z"
   },
   {
    "duration": 379,
    "start_time": "2022-02-04T19:45:13.410Z"
   },
   {
    "duration": 1410,
    "start_time": "2022-02-04T19:45:35.052Z"
   },
   {
    "duration": 37,
    "start_time": "2022-02-04T19:45:36.464Z"
   },
   {
    "duration": 20,
    "start_time": "2022-02-04T19:45:36.504Z"
   },
   {
    "duration": 9,
    "start_time": "2022-02-04T19:45:36.526Z"
   },
   {
    "duration": 18,
    "start_time": "2022-02-04T19:45:36.537Z"
   },
   {
    "duration": 13,
    "start_time": "2022-02-04T19:45:36.557Z"
   },
   {
    "duration": 7,
    "start_time": "2022-02-04T19:45:36.572Z"
   },
   {
    "duration": 11,
    "start_time": "2022-02-04T19:45:36.582Z"
   },
   {
    "duration": 10,
    "start_time": "2022-02-04T19:45:36.595Z"
   },
   {
    "duration": 43,
    "start_time": "2022-02-04T19:45:36.607Z"
   },
   {
    "duration": 11,
    "start_time": "2022-02-04T19:45:36.653Z"
   },
   {
    "duration": 17,
    "start_time": "2022-02-04T19:45:36.666Z"
   },
   {
    "duration": 8,
    "start_time": "2022-02-04T19:45:36.687Z"
   },
   {
    "duration": 67,
    "start_time": "2022-02-04T19:45:36.698Z"
   },
   {
    "duration": 6,
    "start_time": "2022-02-04T19:45:36.767Z"
   },
   {
    "duration": 9,
    "start_time": "2022-02-04T19:45:36.776Z"
   },
   {
    "duration": 23,
    "start_time": "2022-02-04T19:45:36.788Z"
   },
   {
    "duration": 49,
    "start_time": "2022-02-04T19:45:36.813Z"
   },
   {
    "duration": 9,
    "start_time": "2022-02-04T19:45:40.869Z"
   },
   {
    "duration": 13,
    "start_time": "2022-02-04T19:46:28.611Z"
   },
   {
    "duration": 12,
    "start_time": "2022-02-04T19:46:37.001Z"
   },
   {
    "duration": 14,
    "start_time": "2022-02-04T19:48:32.017Z"
   },
   {
    "duration": 20,
    "start_time": "2022-02-04T19:48:36.830Z"
   },
   {
    "duration": 8,
    "start_time": "2022-02-04T19:48:52.849Z"
   },
   {
    "duration": 11,
    "start_time": "2022-02-04T19:49:19.338Z"
   },
   {
    "duration": 399,
    "start_time": "2022-02-04T19:49:45.648Z"
   },
   {
    "duration": 413,
    "start_time": "2022-02-04T19:50:00.010Z"
   },
   {
    "duration": 10,
    "start_time": "2022-02-04T19:50:36.369Z"
   },
   {
    "duration": 6,
    "start_time": "2022-02-04T19:52:36.206Z"
   },
   {
    "duration": 177,
    "start_time": "2022-02-04T19:53:52.790Z"
   },
   {
    "duration": 10,
    "start_time": "2022-02-04T20:04:08.945Z"
   },
   {
    "duration": 9,
    "start_time": "2022-02-04T20:06:48.226Z"
   },
   {
    "duration": 7,
    "start_time": "2022-02-04T20:06:53.603Z"
   },
   {
    "duration": 7,
    "start_time": "2022-02-04T20:07:02.066Z"
   },
   {
    "duration": 39,
    "start_time": "2022-02-04T20:07:07.917Z"
   },
   {
    "duration": 14,
    "start_time": "2022-02-04T20:07:10.957Z"
   },
   {
    "duration": 763,
    "start_time": "2022-02-04T20:07:39.048Z"
   },
   {
    "duration": 388,
    "start_time": "2022-02-04T20:13:08.744Z"
   },
   {
    "duration": 3432,
    "start_time": "2022-02-04T20:17:40.516Z"
   },
   {
    "duration": 28776,
    "start_time": "2022-02-04T20:17:50.212Z"
   },
   {
    "duration": 60382,
    "start_time": "2022-02-04T20:20:45.429Z"
   },
   {
    "duration": 3274,
    "start_time": "2022-02-04T20:34:41.010Z"
   },
   {
    "duration": 1802,
    "start_time": "2022-02-04T20:34:58.534Z"
   },
   {
    "duration": 3241,
    "start_time": "2022-02-04T20:35:22.830Z"
   },
   {
    "duration": 3486,
    "start_time": "2022-02-04T20:36:02.054Z"
   },
   {
    "duration": 3259,
    "start_time": "2022-02-04T20:37:28.990Z"
   },
   {
    "duration": 3379,
    "start_time": "2022-02-04T20:37:49.529Z"
   },
   {
    "duration": 3324,
    "start_time": "2022-02-04T20:38:49.749Z"
   },
   {
    "duration": 59267,
    "start_time": "2022-02-04T20:39:36.929Z"
   },
   {
    "duration": 61433,
    "start_time": "2022-02-04T20:40:49.428Z"
   },
   {
    "duration": 145,
    "start_time": "2022-02-04T20:43:04.609Z"
   },
   {
    "duration": 44,
    "start_time": "2022-02-04T20:43:43.728Z"
   },
   {
    "duration": 14,
    "start_time": "2022-02-04T20:43:49.908Z"
   },
   {
    "duration": 960,
    "start_time": "2022-02-04T20:46:00.090Z"
   },
   {
    "duration": 3366,
    "start_time": "2022-02-04T20:46:53.900Z"
   },
   {
    "duration": 22044,
    "start_time": "2022-02-04T20:47:07.149Z"
   },
   {
    "duration": 781,
    "start_time": "2022-02-04T20:47:49.289Z"
   },
   {
    "duration": 164,
    "start_time": "2022-02-04T20:55:12.763Z"
   },
   {
    "duration": 3380,
    "start_time": "2022-02-04T20:55:40.950Z"
   },
   {
    "duration": 27401,
    "start_time": "2022-02-04T20:56:49.750Z"
   },
   {
    "duration": 21905,
    "start_time": "2022-02-04T20:57:18.829Z"
   },
   {
    "duration": 102,
    "start_time": "2022-02-04T21:02:09.109Z"
   },
   {
    "duration": 98,
    "start_time": "2022-02-04T21:02:57.409Z"
   },
   {
    "duration": 139,
    "start_time": "2022-02-04T21:43:30.416Z"
   },
   {
    "duration": 800,
    "start_time": "2022-02-04T21:44:52.088Z"
   },
   {
    "duration": 6,
    "start_time": "2022-02-04T21:45:37.275Z"
   },
   {
    "duration": 22,
    "start_time": "2022-02-04T21:45:52.135Z"
   },
   {
    "duration": 23,
    "start_time": "2022-02-04T21:47:24.657Z"
   },
   {
    "duration": 32,
    "start_time": "2022-02-04T21:50:59.535Z"
   },
   {
    "duration": 76,
    "start_time": "2022-02-04T21:51:08.015Z"
   },
   {
    "duration": 4,
    "start_time": "2022-02-04T21:51:34.987Z"
   },
   {
    "duration": 4,
    "start_time": "2022-02-04T21:52:03.336Z"
   },
   {
    "duration": 5,
    "start_time": "2022-02-04T21:52:50.057Z"
   },
   {
    "duration": 37,
    "start_time": "2022-02-04T21:52:50.065Z"
   },
   {
    "duration": 16,
    "start_time": "2022-02-04T21:52:50.105Z"
   },
   {
    "duration": 9,
    "start_time": "2022-02-04T21:52:50.123Z"
   },
   {
    "duration": 19,
    "start_time": "2022-02-04T21:52:50.134Z"
   },
   {
    "duration": 11,
    "start_time": "2022-02-04T21:52:50.155Z"
   },
   {
    "duration": 6,
    "start_time": "2022-02-04T21:52:50.169Z"
   },
   {
    "duration": 7,
    "start_time": "2022-02-04T21:52:50.177Z"
   },
   {
    "duration": 9,
    "start_time": "2022-02-04T21:52:50.187Z"
   },
   {
    "duration": 8,
    "start_time": "2022-02-04T21:52:50.199Z"
   },
   {
    "duration": 8,
    "start_time": "2022-02-04T21:52:50.256Z"
   },
   {
    "duration": 21,
    "start_time": "2022-02-04T21:52:50.266Z"
   },
   {
    "duration": 7,
    "start_time": "2022-02-04T21:52:50.290Z"
   },
   {
    "duration": 54,
    "start_time": "2022-02-04T21:52:50.300Z"
   },
   {
    "duration": 5,
    "start_time": "2022-02-04T21:52:50.357Z"
   },
   {
    "duration": 15,
    "start_time": "2022-02-04T21:52:50.364Z"
   },
   {
    "duration": 27,
    "start_time": "2022-02-04T21:52:50.382Z"
   },
   {
    "duration": 16,
    "start_time": "2022-02-04T21:52:50.411Z"
   },
   {
    "duration": 16,
    "start_time": "2022-02-04T21:52:50.453Z"
   },
   {
    "duration": 9,
    "start_time": "2022-02-04T21:52:50.472Z"
   },
   {
    "duration": 7,
    "start_time": "2022-02-04T21:52:50.483Z"
   },
   {
    "duration": 7,
    "start_time": "2022-02-04T21:52:50.493Z"
   },
   {
    "duration": 54,
    "start_time": "2022-02-04T21:52:50.502Z"
   },
   {
    "duration": 10,
    "start_time": "2022-02-04T21:52:50.559Z"
   },
   {
    "duration": 6,
    "start_time": "2022-02-04T21:52:50.572Z"
   },
   {
    "duration": 167,
    "start_time": "2022-02-04T21:52:50.580Z"
   },
   {
    "duration": 14,
    "start_time": "2022-02-04T21:52:50.750Z"
   },
   {
    "duration": 843,
    "start_time": "2022-02-04T21:52:50.851Z"
   },
   {
    "duration": 7,
    "start_time": "2022-02-04T21:52:51.697Z"
   },
   {
    "duration": 3378,
    "start_time": "2022-02-04T21:52:51.707Z"
   },
   {
    "duration": 28611,
    "start_time": "2022-02-04T21:52:55.087Z"
   },
   {
    "duration": 20,
    "start_time": "2022-02-04T21:53:46.404Z"
   },
   {
    "duration": 5,
    "start_time": "2022-02-04T21:53:51.127Z"
   },
   {
    "duration": 54,
    "start_time": "2022-02-04T22:00:36.495Z"
   },
   {
    "duration": 14,
    "start_time": "2022-02-04T22:00:46.255Z"
   },
   {
    "duration": 6,
    "start_time": "2022-02-04T22:05:29.398Z"
   },
   {
    "duration": 45,
    "start_time": "2022-02-04T22:05:29.409Z"
   },
   {
    "duration": 15,
    "start_time": "2022-02-04T22:05:29.457Z"
   },
   {
    "duration": 9,
    "start_time": "2022-02-04T22:05:29.476Z"
   },
   {
    "duration": 10,
    "start_time": "2022-02-04T22:05:29.487Z"
   },
   {
    "duration": 51,
    "start_time": "2022-02-04T22:05:29.499Z"
   },
   {
    "duration": 6,
    "start_time": "2022-02-04T22:05:29.553Z"
   },
   {
    "duration": 7,
    "start_time": "2022-02-04T22:05:29.561Z"
   },
   {
    "duration": 7,
    "start_time": "2022-02-04T22:05:29.570Z"
   },
   {
    "duration": 7,
    "start_time": "2022-02-04T22:05:29.581Z"
   },
   {
    "duration": 11,
    "start_time": "2022-02-04T22:05:29.591Z"
   },
   {
    "duration": 57,
    "start_time": "2022-02-04T22:05:29.604Z"
   },
   {
    "duration": 11,
    "start_time": "2022-02-04T22:05:29.663Z"
   },
   {
    "duration": 18,
    "start_time": "2022-02-04T22:05:29.677Z"
   },
   {
    "duration": 5,
    "start_time": "2022-02-04T22:05:29.697Z"
   },
   {
    "duration": 8,
    "start_time": "2022-02-04T22:05:29.704Z"
   },
   {
    "duration": 23,
    "start_time": "2022-02-04T22:05:29.750Z"
   },
   {
    "duration": 15,
    "start_time": "2022-02-04T22:05:29.775Z"
   },
   {
    "duration": 16,
    "start_time": "2022-02-04T22:05:29.792Z"
   },
   {
    "duration": 38,
    "start_time": "2022-02-04T22:05:29.810Z"
   },
   {
    "duration": 5,
    "start_time": "2022-02-04T22:05:29.851Z"
   },
   {
    "duration": 10,
    "start_time": "2022-02-04T22:05:29.859Z"
   },
   {
    "duration": 9,
    "start_time": "2022-02-04T22:05:29.871Z"
   },
   {
    "duration": 10,
    "start_time": "2022-02-04T22:05:29.882Z"
   },
   {
    "duration": 19,
    "start_time": "2022-02-04T22:05:29.894Z"
   },
   {
    "duration": 137,
    "start_time": "2022-02-04T22:05:29.916Z"
   },
   {
    "duration": 104,
    "start_time": "2022-02-04T22:05:30.056Z"
   },
   {
    "duration": 926,
    "start_time": "2022-02-04T22:05:30.167Z"
   },
   {
    "duration": 6,
    "start_time": "2022-02-04T22:05:31.095Z"
   },
   {
    "duration": 3418,
    "start_time": "2022-02-04T22:05:31.103Z"
   },
   {
    "duration": 29069,
    "start_time": "2022-02-04T22:05:34.524Z"
   },
   {
    "duration": 18,
    "start_time": "2022-02-04T22:06:39.538Z"
   },
   {
    "duration": 5,
    "start_time": "2022-02-04T22:06:44.790Z"
   },
   {
    "duration": 57,
    "start_time": "2022-02-04T22:06:48.916Z"
   },
   {
    "duration": 15,
    "start_time": "2022-02-04T22:07:02.180Z"
   },
   {
    "duration": 1065,
    "start_time": "2022-02-04T22:07:52.617Z"
   },
   {
    "duration": 4808,
    "start_time": "2022-02-04T22:09:48.043Z"
   },
   {
    "duration": 30997,
    "start_time": "2022-02-04T22:10:44.183Z"
   },
   {
    "duration": 712,
    "start_time": "2022-02-04T22:22:06.322Z"
   },
   {
    "duration": 12,
    "start_time": "2022-02-04T22:25:49.011Z"
   },
   {
    "duration": 18,
    "start_time": "2022-02-04T22:37:54.315Z"
   },
   {
    "duration": 6,
    "start_time": "2022-02-04T22:38:02.288Z"
   },
   {
    "duration": 43,
    "start_time": "2022-02-04T22:38:02.303Z"
   },
   {
    "duration": 24,
    "start_time": "2022-02-04T22:38:02.350Z"
   },
   {
    "duration": 5,
    "start_time": "2022-02-04T22:38:02.377Z"
   },
   {
    "duration": 12,
    "start_time": "2022-02-04T22:38:02.385Z"
   },
   {
    "duration": 57,
    "start_time": "2022-02-04T22:38:02.400Z"
   },
   {
    "duration": 8,
    "start_time": "2022-02-04T22:38:02.459Z"
   },
   {
    "duration": 10,
    "start_time": "2022-02-04T22:38:02.469Z"
   },
   {
    "duration": 6,
    "start_time": "2022-02-04T22:38:02.483Z"
   },
   {
    "duration": 14,
    "start_time": "2022-02-04T22:38:02.492Z"
   },
   {
    "duration": 46,
    "start_time": "2022-02-04T22:38:02.509Z"
   },
   {
    "duration": 22,
    "start_time": "2022-02-04T22:38:02.557Z"
   },
   {
    "duration": 10,
    "start_time": "2022-02-04T22:38:02.582Z"
   },
   {
    "duration": 56,
    "start_time": "2022-02-04T22:38:02.595Z"
   },
   {
    "duration": 6,
    "start_time": "2022-02-04T22:38:02.653Z"
   },
   {
    "duration": 8,
    "start_time": "2022-02-04T22:38:02.661Z"
   },
   {
    "duration": 23,
    "start_time": "2022-02-04T22:38:02.671Z"
   },
   {
    "duration": 51,
    "start_time": "2022-02-04T22:38:02.697Z"
   },
   {
    "duration": 13,
    "start_time": "2022-02-04T22:38:02.750Z"
   },
   {
    "duration": 10,
    "start_time": "2022-02-04T22:38:02.765Z"
   },
   {
    "duration": 6,
    "start_time": "2022-02-04T22:38:02.777Z"
   },
   {
    "duration": 9,
    "start_time": "2022-02-04T22:38:02.786Z"
   },
   {
    "duration": 55,
    "start_time": "2022-02-04T22:38:02.797Z"
   },
   {
    "duration": 8,
    "start_time": "2022-02-04T22:38:02.857Z"
   },
   {
    "duration": 6,
    "start_time": "2022-02-04T22:38:02.867Z"
   },
   {
    "duration": 83,
    "start_time": "2022-02-04T22:38:02.875Z"
   },
   {
    "duration": 14,
    "start_time": "2022-02-04T22:38:03.049Z"
   },
   {
    "duration": 905,
    "start_time": "2022-02-04T22:38:03.151Z"
   },
   {
    "duration": 7,
    "start_time": "2022-02-04T22:38:04.058Z"
   },
   {
    "duration": 3454,
    "start_time": "2022-02-04T22:38:04.067Z"
   },
   {
    "duration": 28406,
    "start_time": "2022-02-04T22:38:07.524Z"
   },
   {
    "duration": 18,
    "start_time": "2022-02-04T22:39:03.384Z"
   },
   {
    "duration": 5,
    "start_time": "2022-02-04T22:39:06.373Z"
   },
   {
    "duration": 53,
    "start_time": "2022-02-04T22:39:11.214Z"
   },
   {
    "duration": 14,
    "start_time": "2022-02-04T22:39:17.997Z"
   },
   {
    "duration": 882,
    "start_time": "2022-02-04T22:39:28.254Z"
   },
   {
    "duration": 3928,
    "start_time": "2022-02-04T22:42:31.733Z"
   },
   {
    "duration": 31276,
    "start_time": "2022-02-04T22:42:50.615Z"
   },
   {
    "duration": 562,
    "start_time": "2022-02-04T22:43:44.152Z"
   },
   {
    "duration": 7,
    "start_time": "2022-02-04T22:47:36.152Z"
   },
   {
    "duration": 7,
    "start_time": "2022-02-04T22:47:51.535Z"
   },
   {
    "duration": 5,
    "start_time": "2022-02-04T22:48:01.038Z"
   },
   {
    "duration": 80,
    "start_time": "2022-02-04T22:51:02.273Z"
   },
   {
    "duration": 12,
    "start_time": "2022-02-04T22:51:04.976Z"
   },
   {
    "duration": 887,
    "start_time": "2022-02-04T22:51:37.331Z"
   },
   {
    "duration": 3937,
    "start_time": "2022-02-04T22:52:18.720Z"
   },
   {
    "duration": 31233,
    "start_time": "2022-02-04T22:52:29.631Z"
   },
   {
    "duration": 751,
    "start_time": "2022-02-04T22:56:12.925Z"
   },
   {
    "duration": 11,
    "start_time": "2022-02-04T23:02:00.864Z"
   },
   {
    "duration": 9,
    "start_time": "2022-02-04T23:02:26.976Z"
   },
   {
    "duration": 6,
    "start_time": "2022-02-04T23:03:27.055Z"
   },
   {
    "duration": 51,
    "start_time": "2022-02-04T23:03:27.068Z"
   },
   {
    "duration": 30,
    "start_time": "2022-02-04T23:03:27.122Z"
   },
   {
    "duration": 6,
    "start_time": "2022-02-04T23:03:27.156Z"
   },
   {
    "duration": 14,
    "start_time": "2022-02-04T23:03:27.165Z"
   },
   {
    "duration": 14,
    "start_time": "2022-02-04T23:03:27.182Z"
   },
   {
    "duration": 54,
    "start_time": "2022-02-04T23:03:27.199Z"
   },
   {
    "duration": 9,
    "start_time": "2022-02-04T23:03:27.256Z"
   },
   {
    "duration": 10,
    "start_time": "2022-02-04T23:03:27.270Z"
   },
   {
    "duration": 13,
    "start_time": "2022-02-04T23:03:27.284Z"
   },
   {
    "duration": 11,
    "start_time": "2022-02-04T23:03:27.300Z"
   },
   {
    "duration": 49,
    "start_time": "2022-02-04T23:03:27.314Z"
   },
   {
    "duration": 7,
    "start_time": "2022-02-04T23:03:27.366Z"
   },
   {
    "duration": 19,
    "start_time": "2022-02-04T23:03:27.375Z"
   },
   {
    "duration": 5,
    "start_time": "2022-02-04T23:03:27.397Z"
   },
   {
    "duration": 46,
    "start_time": "2022-02-04T23:03:27.404Z"
   },
   {
    "duration": 29,
    "start_time": "2022-02-04T23:03:27.453Z"
   },
   {
    "duration": 23,
    "start_time": "2022-02-04T23:03:27.485Z"
   },
   {
    "duration": 17,
    "start_time": "2022-02-04T23:03:27.511Z"
   },
   {
    "duration": 12,
    "start_time": "2022-02-04T23:03:27.549Z"
   },
   {
    "duration": 14,
    "start_time": "2022-02-04T23:03:27.564Z"
   },
   {
    "duration": 12,
    "start_time": "2022-02-04T23:03:27.581Z"
   },
   {
    "duration": 13,
    "start_time": "2022-02-04T23:03:27.596Z"
   },
   {
    "duration": 35,
    "start_time": "2022-02-04T23:03:27.615Z"
   },
   {
    "duration": 7,
    "start_time": "2022-02-04T23:03:27.653Z"
   },
   {
    "duration": 93,
    "start_time": "2022-02-04T23:03:27.662Z"
   },
   {
    "duration": 102,
    "start_time": "2022-02-04T23:03:27.758Z"
   },
   {
    "duration": 917,
    "start_time": "2022-02-04T23:03:27.863Z"
   },
   {
    "duration": 7,
    "start_time": "2022-02-04T23:03:28.782Z"
   },
   {
    "duration": 3346,
    "start_time": "2022-02-04T23:03:28.792Z"
   },
   {
    "duration": 28623,
    "start_time": "2022-02-04T23:03:32.150Z"
   },
   {
    "duration": 16,
    "start_time": "2022-02-04T23:04:00.775Z"
   },
   {
    "duration": 5,
    "start_time": "2022-02-04T23:04:00.794Z"
   },
   {
    "duration": 146,
    "start_time": "2022-02-04T23:04:00.801Z"
   },
   {
    "duration": 200,
    "start_time": "2022-02-04T23:04:00.951Z"
   },
   {
    "duration": 988,
    "start_time": "2022-02-04T23:04:01.154Z"
   },
   {
    "duration": 3708,
    "start_time": "2022-02-04T23:04:02.149Z"
   },
   {
    "duration": 31315,
    "start_time": "2022-02-04T23:04:05.859Z"
   },
   {
    "duration": 762,
    "start_time": "2022-02-04T23:04:37.176Z"
   },
   {
    "duration": 15,
    "start_time": "2022-02-04T23:04:37.941Z"
   },
   {
    "duration": 12,
    "start_time": "2022-02-04T23:04:37.958Z"
   },
   {
    "duration": 112,
    "start_time": "2022-02-04T23:21:59.871Z"
   },
   {
    "duration": 133,
    "start_time": "2022-02-05T04:07:04.766Z"
   },
   {
    "duration": 1483,
    "start_time": "2022-02-05T05:15:56.254Z"
   },
   {
    "duration": 36,
    "start_time": "2022-02-05T05:15:57.740Z"
   },
   {
    "duration": 22,
    "start_time": "2022-02-05T05:15:57.780Z"
   },
   {
    "duration": 24,
    "start_time": "2022-02-05T05:15:57.805Z"
   },
   {
    "duration": 11,
    "start_time": "2022-02-05T05:15:57.832Z"
   },
   {
    "duration": 14,
    "start_time": "2022-02-05T05:15:57.846Z"
   },
   {
    "duration": 9,
    "start_time": "2022-02-05T05:15:57.862Z"
   },
   {
    "duration": 50,
    "start_time": "2022-02-05T05:15:57.875Z"
   },
   {
    "duration": 6,
    "start_time": "2022-02-05T05:15:57.929Z"
   },
   {
    "duration": 8,
    "start_time": "2022-02-05T05:15:57.938Z"
   },
   {
    "duration": 8,
    "start_time": "2022-02-05T05:15:57.948Z"
   },
   {
    "duration": 14,
    "start_time": "2022-02-05T05:15:57.959Z"
   },
   {
    "duration": 7,
    "start_time": "2022-02-05T05:15:58.024Z"
   },
   {
    "duration": 19,
    "start_time": "2022-02-05T05:15:58.034Z"
   },
   {
    "duration": 5,
    "start_time": "2022-02-05T05:15:58.056Z"
   },
   {
    "duration": 7,
    "start_time": "2022-02-05T05:15:58.064Z"
   },
   {
    "duration": 68,
    "start_time": "2022-02-05T05:15:58.073Z"
   },
   {
    "duration": 20,
    "start_time": "2022-02-05T05:15:58.144Z"
   },
   {
    "duration": 16,
    "start_time": "2022-02-05T05:15:58.167Z"
   },
   {
    "duration": 10,
    "start_time": "2022-02-05T05:15:58.185Z"
   },
   {
    "duration": 6,
    "start_time": "2022-02-05T05:15:58.224Z"
   },
   {
    "duration": 10,
    "start_time": "2022-02-05T05:15:58.233Z"
   },
   {
    "duration": 11,
    "start_time": "2022-02-05T05:15:58.248Z"
   },
   {
    "duration": 9,
    "start_time": "2022-02-05T05:15:58.262Z"
   },
   {
    "duration": 7,
    "start_time": "2022-02-05T05:15:58.273Z"
   },
   {
    "duration": 102,
    "start_time": "2022-02-05T05:15:58.324Z"
   },
   {
    "duration": 103,
    "start_time": "2022-02-05T05:15:58.429Z"
   },
   {
    "duration": 945,
    "start_time": "2022-02-05T05:15:58.534Z"
   },
   {
    "duration": 6,
    "start_time": "2022-02-05T05:15:59.482Z"
   },
   {
    "duration": 3322,
    "start_time": "2022-02-05T05:15:59.490Z"
   },
   {
    "duration": 28669,
    "start_time": "2022-02-05T05:16:02.814Z"
   },
   {
    "duration": 19,
    "start_time": "2022-02-05T05:16:31.486Z"
   },
   {
    "duration": 7,
    "start_time": "2022-02-05T05:16:31.524Z"
   },
   {
    "duration": 93,
    "start_time": "2022-02-05T05:16:31.533Z"
   },
   {
    "duration": 104,
    "start_time": "2022-02-05T05:16:31.629Z"
   },
   {
    "duration": 1082,
    "start_time": "2022-02-05T05:16:31.736Z"
   },
   {
    "duration": 3764,
    "start_time": "2022-02-05T05:16:32.825Z"
   },
   {
    "duration": 31691,
    "start_time": "2022-02-05T05:16:36.592Z"
   },
   {
    "duration": 759,
    "start_time": "2022-02-05T05:17:08.286Z"
   },
   {
    "duration": 11,
    "start_time": "2022-02-05T05:17:09.047Z"
   },
   {
    "duration": 10,
    "start_time": "2022-02-05T05:17:09.060Z"
   },
   {
    "duration": 1252,
    "start_time": "2022-02-06T00:29:01.613Z"
   },
   {
    "duration": 133,
    "start_time": "2022-02-06T00:29:08.273Z"
   },
   {
    "duration": 2,
    "start_time": "2022-02-06T00:30:55.521Z"
   },
   {
    "duration": 119,
    "start_time": "2022-02-06T00:33:16.325Z"
   },
   {
    "duration": 3011,
    "start_time": "2022-02-06T00:35:07.886Z"
   },
   {
    "duration": 1051,
    "start_time": "2022-02-06T00:35:49.062Z"
   },
   {
    "duration": 4,
    "start_time": "2022-02-06T00:36:11.002Z"
   },
   {
    "duration": 28,
    "start_time": "2022-02-06T00:36:11.008Z"
   },
   {
    "duration": 13,
    "start_time": "2022-02-06T00:36:11.038Z"
   },
   {
    "duration": 5,
    "start_time": "2022-02-06T00:36:11.053Z"
   },
   {
    "duration": 10,
    "start_time": "2022-02-06T00:36:11.059Z"
   },
   {
    "duration": 7,
    "start_time": "2022-02-06T00:36:11.070Z"
   },
   {
    "duration": 4,
    "start_time": "2022-02-06T00:36:11.079Z"
   },
   {
    "duration": 8,
    "start_time": "2022-02-06T00:36:11.084Z"
   },
   {
    "duration": 34,
    "start_time": "2022-02-06T00:36:11.095Z"
   },
   {
    "duration": 6,
    "start_time": "2022-02-06T00:36:11.131Z"
   },
   {
    "duration": 6,
    "start_time": "2022-02-06T00:36:11.138Z"
   },
   {
    "duration": 9,
    "start_time": "2022-02-06T00:36:11.145Z"
   },
   {
    "duration": 5,
    "start_time": "2022-02-06T00:36:11.155Z"
   },
   {
    "duration": 11,
    "start_time": "2022-02-06T00:36:11.161Z"
   },
   {
    "duration": 3,
    "start_time": "2022-02-06T00:36:11.173Z"
   },
   {
    "duration": 4,
    "start_time": "2022-02-06T00:36:11.178Z"
   },
   {
    "duration": 53,
    "start_time": "2022-02-06T00:36:11.183Z"
   },
   {
    "duration": 9,
    "start_time": "2022-02-06T00:36:11.237Z"
   },
   {
    "duration": 10,
    "start_time": "2022-02-06T00:36:11.248Z"
   },
   {
    "duration": 5,
    "start_time": "2022-02-06T00:36:11.259Z"
   },
   {
    "duration": 3,
    "start_time": "2022-02-06T00:36:11.266Z"
   },
   {
    "duration": 5,
    "start_time": "2022-02-06T00:36:11.270Z"
   },
   {
    "duration": 7,
    "start_time": "2022-02-06T00:36:11.276Z"
   },
   {
    "duration": 7,
    "start_time": "2022-02-06T00:36:11.284Z"
   },
   {
    "duration": 37,
    "start_time": "2022-02-06T00:36:11.292Z"
   },
   {
    "duration": 100,
    "start_time": "2022-02-06T00:36:11.330Z"
   },
   {
    "duration": 99,
    "start_time": "2022-02-06T00:36:11.434Z"
   },
   {
    "duration": 663,
    "start_time": "2022-02-06T00:36:11.535Z"
   },
   {
    "duration": 4,
    "start_time": "2022-02-06T00:36:12.200Z"
   },
   {
    "duration": 2069,
    "start_time": "2022-02-06T00:36:12.205Z"
   },
   {
    "duration": 17982,
    "start_time": "2022-02-06T00:36:14.275Z"
   },
   {
    "duration": 24,
    "start_time": "2022-02-06T00:37:27.829Z"
   },
   {
    "duration": 121,
    "start_time": "2022-02-06T00:37:30.642Z"
   },
   {
    "duration": 11,
    "start_time": "2022-02-06T00:37:46.161Z"
   },
   {
    "duration": 9,
    "start_time": "2022-02-06T00:38:21.560Z"
   },
   {
    "duration": 12,
    "start_time": "2022-02-06T00:39:52.844Z"
   },
   {
    "duration": 2,
    "start_time": "2022-02-06T00:40:11.053Z"
   },
   {
    "duration": 112,
    "start_time": "2022-02-06T00:41:07.968Z"
   },
   {
    "duration": 510,
    "start_time": "2022-02-06T00:41:31.670Z"
   },
   {
    "duration": 104,
    "start_time": "2022-02-06T00:45:14.391Z"
   },
   {
    "duration": 2025,
    "start_time": "2022-02-06T00:46:52.088Z"
   },
   {
    "duration": 14246,
    "start_time": "2022-02-06T00:48:08.481Z"
   },
   {
    "duration": 2219,
    "start_time": "2022-02-06T00:48:52.265Z"
   },
   {
    "duration": 13115,
    "start_time": "2022-02-06T00:49:05.081Z"
   },
   {
    "duration": 12,
    "start_time": "2022-02-06T00:54:40.383Z"
   },
   {
    "duration": 3,
    "start_time": "2022-02-06T00:55:22.202Z"
   },
   {
    "duration": 32,
    "start_time": "2022-02-06T00:56:07.542Z"
   },
   {
    "duration": 11,
    "start_time": "2022-02-06T00:56:35.201Z"
   },
   {
    "duration": 548,
    "start_time": "2022-02-06T01:00:06.567Z"
   },
   {
    "duration": 541,
    "start_time": "2022-02-06T01:04:03.515Z"
   },
   {
    "duration": 15150,
    "start_time": "2022-02-06T01:09:07.882Z"
   },
   {
    "duration": 2326,
    "start_time": "2022-02-06T01:09:35.010Z"
   },
   {
    "duration": 20170,
    "start_time": "2022-02-06T01:09:45.259Z"
   },
   {
    "duration": 2437,
    "start_time": "2022-02-06T01:13:54.731Z"
   },
   {
    "duration": 14023,
    "start_time": "2022-02-06T01:14:32.109Z"
   },
   {
    "duration": 12224,
    "start_time": "2022-02-06T01:18:32.451Z"
   },
   {
    "duration": 2342,
    "start_time": "2022-02-06T01:20:02.250Z"
   },
   {
    "duration": 13753,
    "start_time": "2022-02-06T01:20:14.856Z"
   },
   {
    "duration": 13873,
    "start_time": "2022-02-06T01:20:39.379Z"
   },
   {
    "duration": 1145,
    "start_time": "2022-02-06T07:30:50.720Z"
   },
   {
    "duration": 29,
    "start_time": "2022-02-06T07:30:59.399Z"
   },
   {
    "duration": 15,
    "start_time": "2022-02-06T07:31:10.556Z"
   },
   {
    "duration": 4,
    "start_time": "2022-02-06T07:31:18.078Z"
   },
   {
    "duration": 8,
    "start_time": "2022-02-06T07:31:21.126Z"
   },
   {
    "duration": 9,
    "start_time": "2022-02-06T07:31:27.838Z"
   },
   {
    "duration": 7,
    "start_time": "2022-02-06T07:31:35.246Z"
   },
   {
    "duration": 4,
    "start_time": "2022-02-06T07:31:41.318Z"
   },
   {
    "duration": 5,
    "start_time": "2022-02-06T07:33:31.119Z"
   },
   {
    "duration": 6,
    "start_time": "2022-02-06T07:33:39.587Z"
   },
   {
    "duration": 6,
    "start_time": "2022-02-06T07:33:42.517Z"
   },
   {
    "duration": 10,
    "start_time": "2022-02-06T07:33:54.308Z"
   },
   {
    "duration": 5,
    "start_time": "2022-02-06T07:34:01.397Z"
   },
   {
    "duration": 14,
    "start_time": "2022-02-06T07:34:07.428Z"
   },
   {
    "duration": 3,
    "start_time": "2022-02-06T07:34:14.708Z"
   },
   {
    "duration": 4,
    "start_time": "2022-02-06T07:34:20.748Z"
   },
   {
    "duration": 19,
    "start_time": "2022-02-06T07:34:29.635Z"
   },
   {
    "duration": 11,
    "start_time": "2022-02-06T07:34:33.278Z"
   },
   {
    "duration": 10,
    "start_time": "2022-02-06T07:34:56.475Z"
   },
   {
    "duration": 7,
    "start_time": "2022-02-06T07:34:59.156Z"
   },
   {
    "duration": 4,
    "start_time": "2022-02-06T07:35:01.200Z"
   },
   {
    "duration": 4,
    "start_time": "2022-02-06T07:35:03.917Z"
   },
   {
    "duration": 6,
    "start_time": "2022-02-06T07:35:07.636Z"
   },
   {
    "duration": 7,
    "start_time": "2022-02-06T07:35:15.068Z"
   },
   {
    "duration": 4,
    "start_time": "2022-02-06T07:35:31.796Z"
   },
   {
    "duration": 83,
    "start_time": "2022-02-06T07:35:36.235Z"
   },
   {
    "duration": 10,
    "start_time": "2022-02-06T07:36:23.196Z"
   },
   {
    "duration": 28,
    "start_time": "2022-02-06T07:36:25.916Z"
   },
   {
    "duration": 10,
    "start_time": "2022-02-06T07:36:29.556Z"
   },
   {
    "duration": 560,
    "start_time": "2022-02-06T07:37:13.476Z"
   },
   {
    "duration": 5,
    "start_time": "2022-02-06T07:38:58.388Z"
   },
   {
    "duration": 2365,
    "start_time": "2022-02-06T07:39:14.799Z"
   },
   {
    "duration": 20289,
    "start_time": "2022-02-06T07:39:25.678Z"
   },
   {
    "duration": 2439,
    "start_time": "2022-02-06T07:42:28.765Z"
   },
   {
    "duration": 101,
    "start_time": "2022-02-06T07:44:11.317Z"
   },
   {
    "duration": 10,
    "start_time": "2022-02-06T07:44:14.843Z"
   },
   {
    "duration": 29,
    "start_time": "2022-02-06T07:44:25.241Z"
   },
   {
    "duration": 9,
    "start_time": "2022-02-06T07:44:31.854Z"
   },
   {
    "duration": 3,
    "start_time": "2022-02-06T07:48:11.479Z"
   },
   {
    "duration": 3,
    "start_time": "2022-02-06T07:51:18.200Z"
   },
   {
    "duration": 4,
    "start_time": "2022-02-06T07:51:36.402Z"
   },
   {
    "duration": 81,
    "start_time": "2022-02-06T07:53:57.434Z"
   },
   {
    "duration": 4,
    "start_time": "2022-02-06T07:54:11.034Z"
   },
   {
    "duration": 4,
    "start_time": "2022-02-06T07:54:17.661Z"
   },
   {
    "duration": 3,
    "start_time": "2022-02-06T07:54:30.314Z"
   },
   {
    "duration": 3,
    "start_time": "2022-02-06T07:56:07.881Z"
   },
   {
    "duration": 4,
    "start_time": "2022-02-06T07:56:25.101Z"
   },
   {
    "duration": 4,
    "start_time": "2022-02-06T07:56:56.453Z"
   },
   {
    "duration": 29,
    "start_time": "2022-02-06T07:56:56.460Z"
   },
   {
    "duration": 10,
    "start_time": "2022-02-06T07:56:56.491Z"
   },
   {
    "duration": 5,
    "start_time": "2022-02-06T07:56:56.503Z"
   },
   {
    "duration": 8,
    "start_time": "2022-02-06T07:56:56.510Z"
   },
   {
    "duration": 12,
    "start_time": "2022-02-06T07:56:56.519Z"
   },
   {
    "duration": 7,
    "start_time": "2022-02-06T07:56:56.532Z"
   },
   {
    "duration": 7,
    "start_time": "2022-02-06T07:56:56.541Z"
   },
   {
    "duration": 11,
    "start_time": "2022-02-06T07:56:56.550Z"
   },
   {
    "duration": 9,
    "start_time": "2022-02-06T07:56:56.563Z"
   },
   {
    "duration": 8,
    "start_time": "2022-02-06T07:56:56.574Z"
   },
   {
    "duration": 12,
    "start_time": "2022-02-06T07:56:56.583Z"
   },
   {
    "duration": 26,
    "start_time": "2022-02-06T07:56:56.597Z"
   },
   {
    "duration": 13,
    "start_time": "2022-02-06T07:56:56.625Z"
   },
   {
    "duration": 5,
    "start_time": "2022-02-06T07:56:56.639Z"
   },
   {
    "duration": 11,
    "start_time": "2022-02-06T07:56:56.645Z"
   },
   {
    "duration": 18,
    "start_time": "2022-02-06T07:56:56.658Z"
   },
   {
    "duration": 11,
    "start_time": "2022-02-06T07:56:56.678Z"
   },
   {
    "duration": 30,
    "start_time": "2022-02-06T07:56:56.690Z"
   },
   {
    "duration": 7,
    "start_time": "2022-02-06T07:56:56.723Z"
   },
   {
    "duration": 5,
    "start_time": "2022-02-06T07:56:56.732Z"
   },
   {
    "duration": 7,
    "start_time": "2022-02-06T07:56:56.739Z"
   },
   {
    "duration": 7,
    "start_time": "2022-02-06T07:56:56.748Z"
   },
   {
    "duration": 11,
    "start_time": "2022-02-06T07:56:56.757Z"
   },
   {
    "duration": 7,
    "start_time": "2022-02-06T07:56:56.770Z"
   },
   {
    "duration": 66,
    "start_time": "2022-02-06T07:56:56.778Z"
   },
   {
    "duration": 105,
    "start_time": "2022-02-06T07:56:56.921Z"
   },
   {
    "duration": 5,
    "start_time": "2022-02-06T07:56:57.118Z"
   },
   {
    "duration": 654,
    "start_time": "2022-02-06T07:56:57.125Z"
   },
   {
    "duration": 3,
    "start_time": "2022-02-06T07:56:57.780Z"
   },
   {
    "duration": 3,
    "start_time": "2022-02-06T07:57:03.592Z"
   },
   {
    "duration": 4,
    "start_time": "2022-02-06T07:57:07.460Z"
   },
   {
    "duration": 109,
    "start_time": "2022-02-06T07:58:22.759Z"
   },
   {
    "duration": 2,
    "start_time": "2022-02-06T07:58:27.928Z"
   },
   {
    "duration": 61,
    "start_time": "2022-02-06T07:59:03.259Z"
   },
   {
    "duration": 11,
    "start_time": "2022-02-06T07:59:06.080Z"
   },
   {
    "duration": 3,
    "start_time": "2022-02-06T08:00:19.881Z"
   },
   {
    "duration": 566,
    "start_time": "2022-02-06T08:01:07.100Z"
   },
   {
    "duration": 3,
    "start_time": "2022-02-06T08:02:13.740Z"
   },
   {
    "duration": 4,
    "start_time": "2022-02-06T08:02:21.138Z"
   },
   {
    "duration": 3,
    "start_time": "2022-02-06T08:05:57.629Z"
   },
   {
    "duration": 4,
    "start_time": "2022-02-06T08:06:14.270Z"
   },
   {
    "duration": 2332,
    "start_time": "2022-02-06T08:06:38.212Z"
   },
   {
    "duration": 15048,
    "start_time": "2022-02-06T08:06:51.072Z"
   },
   {
    "duration": 3,
    "start_time": "2022-02-06T08:08:41.703Z"
   },
   {
    "duration": 5,
    "start_time": "2022-02-06T08:08:45.411Z"
   },
   {
    "duration": 12,
    "start_time": "2022-02-06T08:11:16.113Z"
   },
   {
    "duration": 4,
    "start_time": "2022-02-06T08:11:25.102Z"
   },
   {
    "duration": 70,
    "start_time": "2022-02-06T08:12:49.291Z"
   },
   {
    "duration": 50,
    "start_time": "2022-02-06T08:12:51.571Z"
   },
   {
    "duration": 14,
    "start_time": "2022-02-06T08:12:55.931Z"
   },
   {
    "duration": 3,
    "start_time": "2022-02-06T08:14:26.690Z"
   },
   {
    "duration": 4,
    "start_time": "2022-02-06T08:14:51.851Z"
   },
   {
    "duration": 639,
    "start_time": "2022-02-06T08:18:03.651Z"
   },
   {
    "duration": 2,
    "start_time": "2022-02-06T08:19:26.072Z"
   },
   {
    "duration": 4,
    "start_time": "2022-02-06T08:19:34.771Z"
   },
   {
    "duration": 5,
    "start_time": "2022-02-06T08:22:23.171Z"
   },
   {
    "duration": 2824,
    "start_time": "2022-02-06T08:24:00.215Z"
   },
   {
    "duration": 16318,
    "start_time": "2022-02-06T08:24:09.411Z"
   },
   {
    "duration": 84,
    "start_time": "2022-02-06T08:25:49.331Z"
   },
   {
    "duration": 88,
    "start_time": "2022-02-06T08:25:57.242Z"
   },
   {
    "duration": 2,
    "start_time": "2022-02-06T08:26:05.851Z"
   },
   {
    "duration": 6,
    "start_time": "2022-02-06T08:26:18.109Z"
   },
   {
    "duration": 12,
    "start_time": "2022-02-06T08:32:25.472Z"
   },
   {
    "duration": 3,
    "start_time": "2022-02-06T08:32:29.170Z"
   },
   {
    "duration": 37,
    "start_time": "2022-02-06T08:32:37.090Z"
   },
   {
    "duration": 9,
    "start_time": "2022-02-06T08:32:40.970Z"
   },
   {
    "duration": 6,
    "start_time": "2022-02-06T08:32:45.570Z"
   },
   {
    "duration": 5,
    "start_time": "2022-02-06T08:33:45.730Z"
   },
   {
    "duration": 732,
    "start_time": "2022-02-06T08:36:06.833Z"
   },
   {
    "duration": 5,
    "start_time": "2022-02-06T08:38:51.171Z"
   },
   {
    "duration": 5,
    "start_time": "2022-02-06T08:39:04.282Z"
   },
   {
    "duration": 3161,
    "start_time": "2022-02-06T08:43:21.251Z"
   },
   {
    "duration": 20981,
    "start_time": "2022-02-06T08:43:32.611Z"
   },
   {
    "duration": 4,
    "start_time": "2022-02-06T08:48:40.451Z"
   },
   {
    "duration": 86,
    "start_time": "2022-02-06T08:49:51.634Z"
   },
   {
    "duration": 5,
    "start_time": "2022-02-06T08:50:58.491Z"
   },
   {
    "duration": 5,
    "start_time": "2022-02-06T08:52:18.452Z"
   },
   {
    "duration": 328,
    "start_time": "2022-02-06T08:52:36.452Z"
   },
   {
    "duration": 252,
    "start_time": "2022-02-06T08:52:41.623Z"
   },
   {
    "duration": 5,
    "start_time": "2022-02-06T08:52:54.709Z"
   },
   {
    "duration": 5,
    "start_time": "2022-02-06T08:53:06.050Z"
   },
   {
    "duration": 5,
    "start_time": "2022-02-06T08:53:22.048Z"
   },
   {
    "duration": 3,
    "start_time": "2022-02-06T08:54:40.932Z"
   },
   {
    "duration": 4,
    "start_time": "2022-02-06T08:55:23.291Z"
   },
   {
    "duration": 5,
    "start_time": "2022-02-06T08:55:40.692Z"
   },
   {
    "duration": 5,
    "start_time": "2022-02-06T08:56:03.463Z"
   },
   {
    "duration": 515,
    "start_time": "2022-02-06T09:01:56.920Z"
   },
   {
    "duration": 167,
    "start_time": "2022-02-06T09:02:37.815Z"
   },
   {
    "duration": 2377,
    "start_time": "2022-02-06T09:04:16.392Z"
   },
   {
    "duration": 15377,
    "start_time": "2022-02-06T09:04:34.471Z"
   },
   {
    "duration": 592,
    "start_time": "2022-02-06T09:05:54.971Z"
   },
   {
    "duration": 8,
    "start_time": "2022-02-06T09:09:01.471Z"
   },
   {
    "duration": 8,
    "start_time": "2022-02-06T09:16:03.349Z"
   },
   {
    "duration": 5,
    "start_time": "2022-02-06T09:16:37.039Z"
   },
   {
    "duration": 36,
    "start_time": "2022-02-06T09:16:37.046Z"
   },
   {
    "duration": 12,
    "start_time": "2022-02-06T09:16:37.084Z"
   },
   {
    "duration": 8,
    "start_time": "2022-02-06T09:16:37.099Z"
   },
   {
    "duration": 10,
    "start_time": "2022-02-06T09:16:37.109Z"
   },
   {
    "duration": 8,
    "start_time": "2022-02-06T09:16:37.121Z"
   },
   {
    "duration": 6,
    "start_time": "2022-02-06T09:16:37.131Z"
   },
   {
    "duration": 11,
    "start_time": "2022-02-06T09:16:37.139Z"
   },
   {
    "duration": 5,
    "start_time": "2022-02-06T09:16:37.152Z"
   },
   {
    "duration": 9,
    "start_time": "2022-02-06T09:16:37.159Z"
   },
   {
    "duration": 6,
    "start_time": "2022-02-06T09:16:37.170Z"
   },
   {
    "duration": 45,
    "start_time": "2022-02-06T09:16:37.178Z"
   },
   {
    "duration": 8,
    "start_time": "2022-02-06T09:16:37.224Z"
   },
   {
    "duration": 13,
    "start_time": "2022-02-06T09:16:37.233Z"
   },
   {
    "duration": 4,
    "start_time": "2022-02-06T09:16:37.247Z"
   },
   {
    "duration": 6,
    "start_time": "2022-02-06T09:16:37.252Z"
   },
   {
    "duration": 20,
    "start_time": "2022-02-06T09:16:37.259Z"
   },
   {
    "duration": 39,
    "start_time": "2022-02-06T09:16:37.280Z"
   },
   {
    "duration": 9,
    "start_time": "2022-02-06T09:16:37.321Z"
   },
   {
    "duration": 7,
    "start_time": "2022-02-06T09:16:37.332Z"
   },
   {
    "duration": 7,
    "start_time": "2022-02-06T09:16:37.340Z"
   },
   {
    "duration": 18,
    "start_time": "2022-02-06T09:16:37.348Z"
   },
   {
    "duration": 10,
    "start_time": "2022-02-06T09:16:37.367Z"
   },
   {
    "duration": 8,
    "start_time": "2022-02-06T09:16:37.379Z"
   },
   {
    "duration": 14,
    "start_time": "2022-02-06T09:16:37.389Z"
   },
   {
    "duration": 38,
    "start_time": "2022-02-06T09:16:37.405Z"
   },
   {
    "duration": 78,
    "start_time": "2022-02-06T09:16:37.449Z"
   },
   {
    "duration": 102,
    "start_time": "2022-02-06T09:16:37.621Z"
   },
   {
    "duration": 597,
    "start_time": "2022-02-06T09:16:37.725Z"
   },
   {
    "duration": 3,
    "start_time": "2022-02-06T09:16:38.324Z"
   },
   {
    "duration": 2419,
    "start_time": "2022-02-06T09:16:38.328Z"
   },
   {
    "duration": 21282,
    "start_time": "2022-02-06T09:16:40.749Z"
   },
   {
    "duration": 2,
    "start_time": "2022-02-06T09:17:02.033Z"
   },
   {
    "duration": 86,
    "start_time": "2022-02-06T09:17:02.037Z"
   },
   {
    "duration": 102,
    "start_time": "2022-02-06T09:17:02.126Z"
   },
   {
    "duration": 187,
    "start_time": "2022-02-06T09:17:02.230Z"
   },
   {
    "duration": 633,
    "start_time": "2022-02-06T09:17:02.419Z"
   },
   {
    "duration": 3,
    "start_time": "2022-02-06T09:17:03.054Z"
   },
   {
    "duration": 2590,
    "start_time": "2022-02-06T09:17:03.059Z"
   },
   {
    "duration": 15443,
    "start_time": "2022-02-06T09:17:05.651Z"
   },
   {
    "duration": 3,
    "start_time": "2022-02-06T09:17:21.096Z"
   },
   {
    "duration": 7,
    "start_time": "2022-02-06T09:17:21.101Z"
   },
   {
    "duration": 13,
    "start_time": "2022-02-06T09:17:21.118Z"
   },
   {
    "duration": 3,
    "start_time": "2022-02-06T09:17:21.133Z"
   },
   {
    "duration": 90,
    "start_time": "2022-02-06T09:17:21.138Z"
   },
   {
    "duration": 11,
    "start_time": "2022-02-06T09:17:21.319Z"
   },
   {
    "duration": 194,
    "start_time": "2022-02-06T09:17:21.332Z"
   },
   {
    "duration": 772,
    "start_time": "2022-02-06T09:17:21.527Z"
   },
   {
    "duration": 4,
    "start_time": "2022-02-06T09:17:22.300Z"
   },
   {
    "duration": 3340,
    "start_time": "2022-02-06T09:17:22.305Z"
   },
   {
    "duration": 21406,
    "start_time": "2022-02-06T09:17:25.647Z"
   },
   {
    "duration": 5,
    "start_time": "2022-02-06T09:17:47.055Z"
   },
   {
    "duration": 10,
    "start_time": "2022-02-06T09:17:47.061Z"
   },
   {
    "duration": 8,
    "start_time": "2022-02-06T09:17:47.073Z"
   },
   {
    "duration": 601,
    "start_time": "2022-02-06T09:17:47.083Z"
   },
   {
    "duration": 8,
    "start_time": "2022-02-06T09:17:47.685Z"
   },
   {
    "duration": 8,
    "start_time": "2022-02-06T09:17:47.695Z"
   },
   {
    "duration": 5,
    "start_time": "2022-02-06T09:25:02.648Z"
   },
   {
    "duration": 113,
    "start_time": "2022-02-06T09:35:35.614Z"
   },
   {
    "duration": 84,
    "start_time": "2022-02-06T09:36:59.330Z"
   },
   {
    "duration": 80,
    "start_time": "2022-02-06T09:39:32.490Z"
   },
   {
    "duration": 1163,
    "start_time": "2022-02-06T16:31:01.364Z"
   },
   {
    "duration": 29,
    "start_time": "2022-02-06T16:31:02.529Z"
   },
   {
    "duration": 14,
    "start_time": "2022-02-06T16:31:02.560Z"
   },
   {
    "duration": 16,
    "start_time": "2022-02-06T16:31:02.576Z"
   },
   {
    "duration": 15,
    "start_time": "2022-02-06T16:31:02.594Z"
   },
   {
    "duration": 11,
    "start_time": "2022-02-06T16:31:02.611Z"
   },
   {
    "duration": 10,
    "start_time": "2022-02-06T16:31:02.624Z"
   },
   {
    "duration": 8,
    "start_time": "2022-02-06T16:31:02.637Z"
   },
   {
    "duration": 11,
    "start_time": "2022-02-06T16:31:02.648Z"
   },
   {
    "duration": 15,
    "start_time": "2022-02-06T16:31:02.661Z"
   },
   {
    "duration": 8,
    "start_time": "2022-02-06T16:31:02.678Z"
   },
   {
    "duration": 16,
    "start_time": "2022-02-06T16:31:02.688Z"
   },
   {
    "duration": 7,
    "start_time": "2022-02-06T16:31:02.706Z"
   },
   {
    "duration": 16,
    "start_time": "2022-02-06T16:31:02.715Z"
   },
   {
    "duration": 8,
    "start_time": "2022-02-06T16:31:02.733Z"
   },
   {
    "duration": 17,
    "start_time": "2022-02-06T16:31:02.743Z"
   },
   {
    "duration": 27,
    "start_time": "2022-02-06T16:31:02.761Z"
   },
   {
    "duration": 17,
    "start_time": "2022-02-06T16:31:02.789Z"
   },
   {
    "duration": 14,
    "start_time": "2022-02-06T16:31:02.808Z"
   },
   {
    "duration": 19,
    "start_time": "2022-02-06T16:31:02.824Z"
   },
   {
    "duration": 39,
    "start_time": "2022-02-06T16:31:02.844Z"
   },
   {
    "duration": 8,
    "start_time": "2022-02-06T16:31:02.885Z"
   },
   {
    "duration": 6,
    "start_time": "2022-02-06T16:31:02.897Z"
   },
   {
    "duration": 8,
    "start_time": "2022-02-06T16:31:02.905Z"
   },
   {
    "duration": 5,
    "start_time": "2022-02-06T16:31:02.915Z"
   },
   {
    "duration": 41,
    "start_time": "2022-02-06T16:31:02.921Z"
   },
   {
    "duration": 94,
    "start_time": "2022-02-06T16:31:02.964Z"
   },
   {
    "duration": 13,
    "start_time": "2022-02-06T16:31:03.060Z"
   },
   {
    "duration": 559,
    "start_time": "2022-02-06T16:31:03.160Z"
   },
   {
    "duration": 2,
    "start_time": "2022-02-06T16:31:03.721Z"
   },
   {
    "duration": 2307,
    "start_time": "2022-02-06T16:31:03.725Z"
   },
   {
    "duration": 19087,
    "start_time": "2022-02-06T16:31:06.034Z"
   },
   {
    "duration": 3,
    "start_time": "2022-02-06T16:31:25.122Z"
   },
   {
    "duration": 136,
    "start_time": "2022-02-06T16:31:25.127Z"
   },
   {
    "duration": 104,
    "start_time": "2022-02-06T16:31:25.265Z"
   },
   {
    "duration": 191,
    "start_time": "2022-02-06T16:31:25.372Z"
   },
   {
    "duration": 553,
    "start_time": "2022-02-06T16:31:25.565Z"
   },
   {
    "duration": 2,
    "start_time": "2022-02-06T16:31:26.119Z"
   },
   {
    "duration": 6,
    "start_time": "2022-02-06T16:31:26.123Z"
   },
   {
    "duration": 2206,
    "start_time": "2022-02-06T16:31:26.130Z"
   },
   {
    "duration": 14114,
    "start_time": "2022-02-06T16:31:28.337Z"
   },
   {
    "duration": 6,
    "start_time": "2022-02-06T16:31:42.453Z"
   },
   {
    "duration": 8,
    "start_time": "2022-02-06T16:31:42.460Z"
   },
   {
    "duration": 16,
    "start_time": "2022-02-06T16:31:42.470Z"
   },
   {
    "duration": 6,
    "start_time": "2022-02-06T16:31:42.488Z"
   },
   {
    "duration": 66,
    "start_time": "2022-02-06T16:31:42.496Z"
   },
   {
    "duration": 99,
    "start_time": "2022-02-06T16:31:42.564Z"
   },
   {
    "duration": 96,
    "start_time": "2022-02-06T16:31:42.665Z"
   },
   {
    "duration": 720,
    "start_time": "2022-02-06T16:31:42.763Z"
   },
   {
    "duration": 4,
    "start_time": "2022-02-06T16:31:43.485Z"
   },
   {
    "duration": 3057,
    "start_time": "2022-02-06T16:31:43.491Z"
   },
   {
    "duration": 19590,
    "start_time": "2022-02-06T16:31:46.549Z"
   },
   {
    "duration": 4,
    "start_time": "2022-02-06T16:32:06.141Z"
   },
   {
    "duration": 12,
    "start_time": "2022-02-06T16:32:06.147Z"
   },
   {
    "duration": 7,
    "start_time": "2022-02-06T16:32:06.161Z"
   },
   {
    "duration": 536,
    "start_time": "2022-02-06T16:32:06.170Z"
   },
   {
    "duration": 9,
    "start_time": "2022-02-06T16:32:06.707Z"
   },
   {
    "duration": 12,
    "start_time": "2022-02-06T16:32:06.718Z"
   }
  ],
  "kernelspec": {
   "display_name": "Python 3 (ipykernel)",
   "language": "python",
   "name": "python3"
  },
  "language_info": {
   "codemirror_mode": {
    "name": "ipython",
    "version": 3
   },
   "file_extension": ".py",
   "mimetype": "text/x-python",
   "name": "python",
   "nbconvert_exporter": "python",
   "pygments_lexer": "ipython3",
   "version": "3.8.10"
  },
  "toc": {
   "base_numbering": 1,
   "nav_menu": {},
   "number_sections": true,
   "sideBar": true,
   "skip_h1_title": true,
   "title_cell": "Table of Contents",
   "title_sidebar": "Contents",
   "toc_cell": false,
   "toc_position": {
    "height": "calc(100% - 180px)",
    "left": "10px",
    "top": "150px",
    "width": "255.198px"
   },
   "toc_section_display": true,
   "toc_window_display": true
  }
 },
 "nbformat": 4,
 "nbformat_minor": 5
}
